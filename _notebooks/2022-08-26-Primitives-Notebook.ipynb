{
 "cells": [
  {
   "cell_type": "markdown",
   "metadata": {},
   "source": [
    "- Define in a Class the following data types\n",
    "- Demonstrate use of Primitives: int, double, boolean, string\n",
    "- Demonstrate use of Wrapper Class object: String\n",
    "- Describe in comments how each data type choice is appropriate to application\n",
    "- Perform arithmetic expressions and assignment in a program code Code.org Lesson\n",
    "- Determine what is result is in a variable as a result of an data type and expression (ie integer vs double)\n",
    "- Perform an arithmetic expressions that uses casting, add comments that show how it produces desired result. Learn more by watching this College Board video\n",
    "- Perform compound assignment operator (ie +=), add comments to describe the result of operator"
   ]
  },
  {
   "cell_type": "code",
   "execution_count": 1,
   "metadata": {},
   "outputs": [
    {
     "name": "stdout",
     "output_type": "stream",
     "text": [
      "Enter a salary between 0-1,000,000\n",
      "Enter your pay raise\n",
      "Your final salary is: 200050.0, which is around a 0% raise from your original salary. You got a bad pay raise.\n"
     ]
    }
   ],
   "source": [
    "import java.util.Scanner;\n",
    "\n",
    "public class Kitkatwrapper{\n",
    "    public static void main(String[] args) {\n",
    "        Scanner myObj = new Scanner(System.in);  // Create a Scanner object\n",
    "\n",
    "        System.out.println(\"Enter a salary between 0-1,000,000\"); // Number 1, gets salary\n",
    "        double salary = myObj.nextDouble();  // Read user input\n",
    "        double oldSalary = salary; // records oldsalary for percent calculation later\n",
    "\n",
    "        System.out.println(\"Enter your pay raise\"); // Number 2, gets raise to salary\n",
    "        double raise = myObj.nextDouble();  // Read user input\n",
    "\n",
    "        salary += raise; // the inputted number of \"raise\" is added onto the original inputted \"salary\"\n",
    "\n",
    "        int percent = (int) (100*(salary / oldSalary)-100); // calculates percent raise\n",
    "\n",
    "        myObj.close(); // closing object, stops reading text inputs\n",
    "\n",
    "        boolean payraisequality; // defines boolean variable\n",
    "        String message; // defines message\n",
    "\n",
    "        if(percent > 5){\n",
    "            payraisequality = true;\n",
    "        }\n",
    "        else{\n",
    "            payraisequality = false;\n",
    "        }\n",
    "\n",
    "        if (payraisequality == true){\n",
    "            message = \"You got a good pay raise!\";\n",
    "        }\n",
    "        else{\n",
    "            message = \"You got a bad pay raise.\";\n",
    "        }\n",
    "\n",
    "        System.out.println(\"Your final salary is: \" + salary + \", which is around a \" + percent + \"% raise from your original salary. \" + message);  // Output user input\n",
    "    }\n",
    "}\n",
    "\n",
    "Kitkatwrapper.main(null);"
   ]
  }
 ],
 "metadata": {
  "kernelspec": {
   "display_name": "Java",
   "language": "java",
   "name": "java"
  },
  "language_info": {
   "codemirror_mode": "java",
   "file_extension": ".jshell",
   "mimetype": "text/x-java-source",
   "name": "java",
   "pygments_lexer": "java",
   "version": "11.0.16.1+1"
  },
  "orig_nbformat": 4
 },
 "nbformat": 4,
 "nbformat_minor": 2
}
