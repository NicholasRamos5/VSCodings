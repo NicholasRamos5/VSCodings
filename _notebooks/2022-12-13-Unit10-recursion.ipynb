{
 "cells": [
  {
   "attachments": {},
   "cell_type": "markdown",
   "metadata": {},
   "source": [
    "# \"Unit 10 - Recursion\"\n",
    "\n",
    "\n",
    "- toc: true\n",
    "- branch: master\n",
    "- badges: true\n",
    "- comments: true\n",
    "- categories: [college board, java]"
   ]
  },
  {
   "attachments": {},
   "cell_type": "markdown",
   "metadata": {},
   "source": [
    "## Intro to Recursion\n",
    "\n",
    "- A recursive method is method that calls itself.\n",
    "- It contains at least one base case that halts recursion and once recursive call\n",
    "- Each recursive call has own local variables\n",
    "- Parameter values take progress of recursive process\n",
    "- A recursion can be replaced with an iterative and give the same result\n",
    "- Recursion can traverse String, array, and ArrayList objects"
   ]
  },
  {
   "cell_type": "code",
   "execution_count": 1,
   "metadata": {},
   "outputs": [],
   "source": [
    "public static void example(int n) {\n",
    "    if (n > 0)\n",
    "        example (n-1);\n",
    "}"
   ]
  },
  {
   "cell_type": "code",
   "execution_count": 2,
   "metadata": {},
   "outputs": [
    {
     "name": "stdout",
     "output_type": "stream",
     "text": [
      "4\n",
      "3\n",
      "2\n",
      "2\n",
      "3\n",
      "4\n"
     ]
    }
   ],
   "source": [
    "public static void simplerRecur(int n) {\n",
    "    System.out.println(n);\n",
    "    \n",
    "    if (n > 2)\n",
    "        simplerRecur(n-1); \n",
    "    System.out.println(n);\n",
    "}\n",
    "simplerRecur(4);"
   ]
  },
  {
   "cell_type": "code",
   "execution_count": 3,
   "metadata": {},
   "outputs": [
    {
     "data": {
      "text/plain": [
       "15"
      ]
     },
     "execution_count": 3,
     "metadata": {},
     "output_type": "execute_result"
    }
   ],
   "source": [
    "public static int simpleRecur2(int n) {\n",
    "    if (n == 0)\n",
    "        return 0;\n",
    "    return n + simpleRecur2(n/2);\n",
    "}\n",
    "simpleRecur2(8);"
   ]
  },
  {
   "cell_type": "code",
   "execution_count": 4,
   "metadata": {},
   "outputs": [
    {
     "data": {
      "text/plain": [
       "9"
      ]
     },
     "execution_count": 4,
     "metadata": {},
     "output_type": "execute_result"
    }
   ],
   "source": [
    "public int dblRecur(int n) {\n",
    "    if (n > 0)\n",
    "        return n + dblRecur(n/2) + dblRecur(n/3);\n",
    "    return 0;\n",
    "}\n",
    "dblRecur(5);"
   ]
  },
  {
   "attachments": {},
   "cell_type": "markdown",
   "metadata": {},
   "source": [
    "prints out ; computer, mputer, uter, er, then the first letter of each "
   ]
  },
  {
   "cell_type": "code",
   "execution_count": 5,
   "metadata": {},
   "outputs": [
    {
     "name": "stdout",
     "output_type": "stream",
     "text": [
      "eumc"
     ]
    }
   ],
   "source": [
    "public static void mystery (String s) {\n",
    "    if (s.length() > 1) {\n",
    "        mystery(s.substring(2));\n",
    "        System.out.print(s.substring(0,1));\n",
    "    }\n",
    "}\n",
    "mystery(\"computer\");"
   ]
  },
  {
   "attachments": {},
   "cell_type": "markdown",
   "metadata": {},
   "source": [
    "## Binary Search with Equations"
   ]
  },
  {
   "cell_type": "code",
   "execution_count": 6,
   "metadata": {},
   "outputs": [
    {
     "name": "stdout",
     "output_type": "stream",
     "text": [
      "index of target: 12\n"
     ]
    }
   ],
   "source": [
    "public class recursion{\n",
    "    public static int recursionBinarySearch(int[] array, int first, int last, int target){\n",
    "        int midpoint;\n",
    "\n",
    "        //if the first number is greater than the last, the target number is not in the list\n",
    "        if (first > last){\n",
    "            System.out.println(-1);\n",
    "            return -1;\n",
    "        }\n",
    "        else{\n",
    "            midpoint = (first+last)/2;\n",
    "\n",
    "            //take the upper bound if number is greater than midpoint\n",
    "            if (array[midpoint] < target){\n",
    "                return recursionBinarySearch(array, midpoint+1, last, target);\n",
    "            }\n",
    "\n",
    "            // take the lower bound if the number is lesser than midpoint\n",
    "            if (array[midpoint] > target){\n",
    "                return recursionBinarySearch(array, first,midpoint-1, target);\n",
    "            }\n",
    "        System.out.println(\"index of target: \" + midpoint);\n",
    "        return midpoint;\n",
    "        }\n",
    "    }\n",
    "\n",
    "    public static void main(String[] args){\n",
    "        // test array in main\n",
    "        int[] test_array = new int[]{ 0,2,4,6,8,10,12,14,16,18,20,22,24,26,28,30,32,34,36,38,40 };\n",
    "        recursion.recursionBinarySearch(test_array, 0, test_array.length, 24);\n",
    "    }\n",
    "}\n",
    "\n",
    "recursion.main(null);"
   ]
  },
  {
   "attachments": {},
   "cell_type": "markdown",
   "metadata": {},
   "source": [
    "## Merge Sort\n",
    "\n",
    "- used to sort arrayLists\n",
    "- Uses a divide and conquer algorithm to sort ArrayList\n",
    "    - Divides the array into halves first, and then calls itself for the two different halves in order to sort them\n",
    "    - merges the two sorted halves into one list\n",
    "- merging values into one sorted array\n",
    "    - copy the original elements into a temporary array\n",
    "    - work from left to right in each virtual array to compare element and return them to the correct order in the original array\n",
    "\n",
    "- think about: mergeSort (myList) { mergeSort(left); mergeSort(right); mergeSort (left & right) }"
   ]
  },
  {
   "attachments": {},
   "cell_type": "markdown",
   "metadata": {},
   "source": [
    "## Recursion Tree\n",
    "\n",
    "Recursion trees are a method for visualizing each recursive case (everytime the method is called) until the base case is reached.\n",
    "\n",
    "Recursive blocks call themselves. In order for them to finish, there must be some special case in which they don't call themselves. That is the base case, a simpler version of the block's script that doesn't call the block itself.\n",
    "\n",
    "There is usually a conditional with two cases: a base case for the lowest level that stops the recursion from going on forever and a recursive case that calls the block itself at lower levels until it reaches the base case.\n",
    "\n",
    "Note: If a block keeps recursively calling itself forever, the program is stuck in an infinite loop meaning that there isn't a base case or it is not accessible."
   ]
  },
  {
   "cell_type": "code",
   "execution_count": 7,
   "metadata": {},
   "outputs": [
    {
     "name": "stdout",
     "output_type": "stream",
     "text": [
      "8\n"
     ]
    }
   ],
   "source": [
    "public class example{\n",
    "    static int foo(int n) {\n",
    "\n",
    "        if (n < 0){\n",
    "            return 1;\n",
    "        }\n",
    "        else{\n",
    "            return foo(n-2) + foo(n-1);\n",
    "        }\n",
    "\n",
    "    }\n",
    "\n",
    "    public static void main(String args[]){\n",
    "        System.out.println(foo(3));\n",
    "    }\n",
    "}\n",
    "\n",
    "example.main(null);"
   ]
  },
  {
   "attachments": {},
   "cell_type": "markdown",
   "metadata": {},
   "source": [
    "## Vocab \n",
    "\n",
    "### Introduction to Recursion\n",
    "\n",
    "- a method that calls itself\n",
    "\n",
    "- contains at least one base case that halts recursion and once recursive call\n",
    "\n",
    "- each recursive call has own local variables\n",
    "\n",
    "- parameter values take progress of recursive process\n",
    "\n",
    "- a recursion can be replaced with an iterative and give the same result\n",
    "\n",
    "- recursion can traverse string, array and arraylist objects\n",
    "\n",
    "### Big O notation \n",
    "\n",
    "- for Hash map, Binary Search, Single loop, Nested Loop\n",
    "\n",
    "- describes the set of algorithms that run worse, better, or at a certain given speed\n",
    "\n",
    "- represents the number of operations performed\n",
    "\n",
    "### Merge Sort\n",
    "\n",
    "- can be used to sort arraylists\n",
    "\n",
    "- Uses a divide and conquer algorithm\n",
    "\n",
    "- divides the array into halves and then calls itself for the two different halves in order to sort them\n",
    "\n",
    "- merges the two sorted halves into one list\n",
    "\n",
    "- Merging Values into One Sorted Array\n",
    "\n",
    "- copy the original elements into a temporary array\n",
    "\n",
    "- work from left to right in each virtual array to\n",
    "\n",
    "- compare element and return them to the correct order in the original array\n",
    "\n"
   ]
  }
 ],
 "metadata": {
  "kernelspec": {
   "display_name": "Java",
   "language": "java",
   "name": "java"
  },
  "language_info": {
   "codemirror_mode": "java",
   "file_extension": ".jshell",
   "mimetype": "text/x-java-source",
   "name": "java",
   "pygments_lexer": "java",
   "version": "11.0.16.1+1"
  },
  "orig_nbformat": 4
 },
 "nbformat": 4,
 "nbformat_minor": 2
}
