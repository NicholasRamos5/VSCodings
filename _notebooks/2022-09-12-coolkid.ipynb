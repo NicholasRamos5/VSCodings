{
 "cells": [
  {
   "cell_type": "code",
   "execution_count": 6,
   "metadata": {
    "vscode": {
     "languageId": "java"
    }
   },
   "outputs": [
    {
     "name": "stdout",
     "output_type": "stream",
     "text": [
      "The car is red\n"
     ]
    }
   ],
   "source": [
    "boolean hasColor = true;\n",
    "System.out.println(\"The car is \" + (hasColor ? \"red\" : \"white\"));\n",
    "\n",
    "// isColorful ? (isStriped ? \"red stripes\" : \"red\") : \"black\";"
   ]
  }
 ],
 "metadata": {
  "kernelspec": {
   "display_name": "Java",
   "language": "java",
   "name": "java"
  },
  "language_info": {
   "codemirror_mode": "java",
   "file_extension": ".jshell",
   "mimetype": "text/x-java-source",
   "name": "Java",
   "pygments_lexer": "java",
   "version": "11.0.16.1+1"
  },
  "orig_nbformat": 4
 },
 "nbformat": 4,
 "nbformat_minor": 2
}
