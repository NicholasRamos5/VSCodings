{
 "cells": [
  {
   "attachments": {},
   "cell_type": "markdown",
   "metadata": {},
   "source": [
    "# \"Hash Maps & Big O Analysis\"\n",
    "\n",
    "- toc: true\n",
    "- branch: master\n",
    "- badges: true\n",
    "- comments: true\n",
    "- categories: [college board, java]"
   ]
  },
  {
   "attachments": {},
   "cell_type": "markdown",
   "metadata": {},
   "source": [
    "Selection Sort"
   ]
  },
  {
   "cell_type": "code",
   "execution_count": 27,
   "metadata": {
    "vscode": {
     "languageId": "java"
    }
   },
   "outputs": [
    {
     "name": "stdout",
     "output_type": "stream",
     "text": [
      "[2, 3, 4, 5, 8]\n"
     ]
    }
   ],
   "source": [
    "public class Selection {\n",
    "\n",
    "public static void selectionSort(int[] arr) {\n",
    "    int n = arr.length;\n",
    "    for (int i = 0; i < n - 1; i++) {\n",
    "        int minIndex = i;\n",
    "        for (int j = i + 1; j < n; j++) {\n",
    "            if (arr[j] < arr[minIndex]) {\n",
    "                minIndex = j;\n",
    "            }\n",
    "        }\n",
    "        int temp = arr[minIndex];\n",
    "        arr[minIndex] = arr[i];\n",
    "        arr[i] = temp;\n",
    "}\n",
    "}\n",
    "\n",
    "public static void main(String[] args) {\n",
    "    int[] array = {5, 3, 8, 4, 2};\n",
    "    selectionSort(array);\n",
    "    System.out.println(Arrays.toString(array)); // [2, 3, 4, 5, 8]\n",
    "}\n",
    "}\n",
    "Selection.main(null);"
   ]
  },
  {
   "attachments": {},
   "cell_type": "markdown",
   "metadata": {},
   "source": [
    "Bubble Sort"
   ]
  },
  {
   "cell_type": "code",
   "execution_count": 19,
   "metadata": {
    "vscode": {
     "languageId": "java"
    }
   },
   "outputs": [
    {
     "name": "stdout",
     "output_type": "stream",
     "text": [
      "Original Array:\n",
      "5 3 8 4 2 \n",
      "Sorted Array:\n",
      "2 3 4 5 8 \n"
     ]
    }
   ],
   "source": [
    "public class BubbleSort {\n",
    "    public static void main(String[] args) {\n",
    "        int[] array = {5, 3, 8, 4, 2};\n",
    "\n",
    "        // prints the original array\n",
    "        System.out.println(\"Original Array:\");\n",
    "        printArray(array);\n",
    "\n",
    "        // sorts the array using bubble sort\n",
    "        bubbleSort(array);\n",
    "\n",
    "        // prints the sorted array\n",
    "        System.out.println(\"Sorted Array:\");\n",
    "        printArray(array);\n",
    "    }\n",
    "\n",
    "    public static void bubbleSort(int[] array) {\n",
    "        int n = array.length;\n",
    "        for (int i = 0; i < n-1; i++) {\n",
    "            for (int j = 0; j < n-i-1; j++) {\n",
    "                if (array[j] > array[j+1]) {\n",
    "                    // swaps array[j] and array[j+1]\n",
    "                    int temp = array[j];\n",
    "                    array[j] = array[j+1];\n",
    "                    array[j+1] = temp;\n",
    "                }\n",
    "            }\n",
    "        }\n",
    "    }\n",
    "\n",
    "    public static void printArray(int[] array) {\n",
    "        for (int i = 0; i < array.length; i++) {\n",
    "            System.out.print(array[i] + \" \");\n",
    "        }\n",
    "        System.out.println();\n",
    "    }\n",
    "}\n",
    "\n",
    "BubbleSort.main(null);\n"
   ]
  },
  {
   "attachments": {},
   "cell_type": "markdown",
   "metadata": {},
   "source": [
    "Merge Sort"
   ]
  },
  {
   "cell_type": "code",
   "execution_count": 21,
   "metadata": {
    "vscode": {
     "languageId": "java"
    }
   },
   "outputs": [
    {
     "name": "stdout",
     "output_type": "stream",
     "text": [
      "1 2 3 4 5 "
     ]
    }
   ],
   "source": [
    "public class MergeSort {\n",
    "    \n",
    "    public static void mergeSort(int[] arr, int left, int right) {\n",
    "        if (left < right) {\n",
    "            int mid = (left + right) / 2;\n",
    "            mergeSort(arr, left, mid);\n",
    "            mergeSort(arr, mid + 1, right);\n",
    "            merge(arr, left, mid, right);\n",
    "        }\n",
    "    }\n",
    "    \n",
    "    public static void merge(int[] arr, int left, int mid, int right) {\n",
    "        int[] temp = new int[right - left + 1];\n",
    "        int i = left, j = mid + 1, k = 0;\n",
    "        \n",
    "        while (i <= mid && j <= right) {\n",
    "            if (arr[i] < arr[j]) {\n",
    "                temp[k++] = arr[i++];\n",
    "            } else {\n",
    "                temp[k++] = arr[j++];\n",
    "            }\n",
    "        }\n",
    "        \n",
    "        while (i <= mid) {\n",
    "            temp[k++] = arr[i++];\n",
    "        }\n",
    "        \n",
    "        while (j <= right) {\n",
    "            temp[k++] = arr[j++];\n",
    "        }\n",
    "        \n",
    "        for (i = left; i <= right; i++) {\n",
    "            arr[i] = temp[i - left];\n",
    "        }\n",
    "    }\n",
    "    \n",
    "    public static void main(String[] args) {\n",
    "        int[] arr = {5, 4, 3, 2, 1};\n",
    "        mergeSort(arr, 0, arr.length - 1);\n",
    "        \n",
    "        for (int i = 0; i < arr.length; i++) {\n",
    "            System.out.print(arr[i] + \" \");\n",
    "        }\n",
    "    }\n",
    "}\n",
    "\n",
    "MergeSort.main(null);\n"
   ]
  },
  {
   "attachments": {},
   "cell_type": "markdown",
   "metadata": {},
   "source": [
    "Insertion Sort"
   ]
  },
  {
   "cell_type": "code",
   "execution_count": 28,
   "metadata": {
    "vscode": {
     "languageId": "java"
    }
   },
   "outputs": [
    {
     "name": "stdout",
     "output_type": "stream",
     "text": [
      "[2, 3, 4, 5, 8]\n"
     ]
    }
   ],
   "source": [
    "public class InsertionSort {\n",
    "\n",
    "    public static void insertionSort(int[] arr) {\n",
    "        int n = arr.length;\n",
    "        for (int i = 1; i < n; ++i) {\n",
    "            int key = arr[i];\n",
    "            int j = i - 1;\n",
    "            while (j >= 0 && arr[j] > key) {\n",
    "                arr[j + 1] = arr[j];\n",
    "                j = j - 1;\n",
    "            }\n",
    "            arr[j + 1] = key;\n",
    "        }\n",
    "        \n",
    "    }\n",
    "\n",
    "    public static void main(String[] args) {\n",
    "        int[] array = {5, 3, 8, 4, 2};\n",
    "        insertionSort(array);\n",
    "        System.out.println(Arrays.toString(array));\n",
    "    }\n",
    "}\n",
    "InsertionSort.main(null);"
   ]
  },
  {
   "attachments": {},
   "cell_type": "markdown",
   "metadata": {},
   "source": [
    "Time to run"
   ]
  },
  {
   "cell_type": "code",
   "execution_count": 29,
   "metadata": {
    "vscode": {
     "languageId": "java"
    }
   },
   "outputs": [],
   "source": [
    "public class sortTimes {\n",
    "\n",
    "    public static void mergeSort(int[] arr, int left, int right) {\n",
    "        if (left < right) {\n",
    "            int mid = (left + right) / 2;\n",
    "            mergeSort(arr, left, mid);\n",
    "            mergeSort(arr, mid + 1, right);\n",
    "            merge(arr, left, mid, right);\n",
    "        }\n",
    "    }\n",
    "    \n",
    "    public static void merge(int[] arr, int left, int mid, int right) {\n",
    "        int[] temp = new int[right - left + 1];\n",
    "        int i = left, j = mid + 1, k = 0;\n",
    "        \n",
    "        while (i <= mid && j <= right) {\n",
    "            if (arr[i] < arr[j]) {\n",
    "                temp[k++] = arr[i++];\n",
    "            } else {\n",
    "                temp[k++] = arr[j++];\n",
    "            }\n",
    "        }\n",
    "        \n",
    "        while (i <= mid) {\n",
    "            temp[k++] = arr[i++];\n",
    "        }\n",
    "        \n",
    "        while (j <= right) {\n",
    "            temp[k++] = arr[j++];\n",
    "        }\n",
    "        \n",
    "        for (i = left; i <= right; i++) {\n",
    "            arr[i] = temp[i - left];\n",
    "        }\n",
    "    }\n",
    "    \n",
    "    public static void main(String[] args) {\n",
    "        int[] arr = {5, 4, 3, 2, 1};\n",
    "        \n",
    "        mergeSort(arr, 0, arr.length - 1);\n",
    "    }\n",
    "}"
   ]
  }
 ],
 "metadata": {
  "kernelspec": {
   "display_name": "Java",
   "language": "java",
   "name": "java"
  },
  "language_info": {
   "codemirror_mode": "java",
   "file_extension": ".jshell",
   "mimetype": "text/x-java-source",
   "name": "Java",
   "pygments_lexer": "java",
   "version": "11.0.16.1+1"
  },
  "orig_nbformat": 4
 },
 "nbformat": 4,
 "nbformat_minor": 2
}
