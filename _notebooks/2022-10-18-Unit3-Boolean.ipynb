{
 "cells": [
  {
   "cell_type": "markdown",
   "metadata": {},
   "source": [
    "# \"Unit 3 - Booleans\"\n",
    "\n",
    "\n",
    "- toc: true\n",
    "- branch: master\n",
    "- badges: true\n",
    "- comments: true\n",
    "- categories: [college board, java]"
   ]
  },
  {
   "cell_type": "markdown",
   "metadata": {},
   "source": [
    "Booleans Expressions and If Statements"
   ]
  },
  {
   "cell_type": "markdown",
   "metadata": {},
   "source": [
    "## Importance of Unit 3\n",
    "\n",
    "The Collegeboard website states that this unit makes up 15%-17.5% of the AP test\n",
    "Almost all the FRQs and multiple choice will contain some kind of if-else statements as it allows for more complex code\n",
    "Switch case allows for if-else statements to be written more effeciently\n",
    "Booleans are required for many assignment and comparative logic functions\n",
    "Boolean allows a programmer to implement choice into their code"
   ]
  },
  {
   "cell_type": "markdown",
   "metadata": {},
   "source": [
    "If, IfElse, IfElseIf, IfElseIfElse\n",
    "\n",
    "Switch Statements \n",
    "\n",
    "more efficient, control flow statement "
   ]
  },
  {
   "cell_type": "markdown",
   "metadata": {},
   "source": [
    "Boolean Expressions:\n",
    "\n",
    "Logical statement, either true or flase \n",
    "\n",
    "compare two parts of data\n",
    "\n",
    "most common example is numbers \n",
    "\n",
    "-- less than, greater than, less than or equal to, greater than or equal to\n",
    "\n",
    "can use other operators --- modulus function\n",
    "\n",
    "*Cannot use booleans when comparing two string \n",
    "  String objects can only be carried out with string methods\n",
    "\n",
    "Logic Gates\n",
    "\n",
    "De Morgan's Law\n",
    "\n",
    "Truth Table"
   ]
  },
  {
   "cell_type": "markdown",
   "metadata": {},
   "source": [
    "## Homework\n",
    "\n",
    "- 2009 FRQ 3b\n",
    "- 2017 FRQ 1b\n",
    "- 2019 FRQ 3b"
   ]
  },
  {
   "cell_type": "markdown",
   "metadata": {},
   "source": [
    "## 2009 FRQ 3b"
   ]
  },
  {
   "cell_type": "markdown",
   "metadata": {},
   "source": [
    " An electric car that runs on batteries must be periodically recharged for a certain number of hours. The battery technology in the car requires that the charge time not be interrupted.\n",
    "\n",
    " The cost for charging is based on the hour(s) during which the charging occurs. A rate table lists the 24 one-hour periods, numbered from 0 to 23, and the corresponding hourly cost for each period. The same rate table is used for each day. Each hourly cost is a positive integer. \n",
    "\n",
    " The class BatteryCharger below uses a rate table to determine the most economic time to charge the battery. You will write two of the methods for the BatteryCharger class. "
   ]
  },
  {
   "cell_type": "code",
   "execution_count": null,
   "metadata": {},
   "outputs": [],
   "source": [
    "public class BatteryCharger\n",
    "{\n",
    "    /** rateTable has 24 entries representing the charging costs for hours 0 through 23. */\n",
    "    private int[] rateTable;\n",
    "\n",
    "    /** Determines the total cost to charge the battery starting at the beginning of startHour.\n",
    "     * @param startHour the hour at which the charge period begins\n",
    "     * Precondition: 0 ≤ startHour ≤ 23\n",
    "     * @param chargeTime the number of hours the battery needs to be charged\n",
    "     * Precondition: chargeTime > 0\n",
    "     * @return the total cost to charge the battery\n",
    "     */\n",
    "    private int getChargingCost(int startHour, int chargeTime)\n",
    "    { /* to be implemented in part (a) */ }\n",
    "\n",
    "    /** Determines start time to charge the battery at the lowest cost for the given charge time.\n",
    "     * @param chargeTime the number of hours the battery needs to be charged\n",
    "     * Precondition: chargeTime > 0\n",
    "     * @return an optimal start time, with 0 ≤ returned value ≤ 23\n",
    "     */\n",
    "    public int getChargeStartTime(int chargeTime)\n",
    "    { /* to be implemented in part (b) */ }\n",
    "\n",
    "     // There may be instance variables, constructors, and methods that are not shown.\n",
    "} "
   ]
  },
  {
   "cell_type": "markdown",
   "metadata": {},
   "source": [
    "(b) Write the BatteryCharger method getChargeStartTime that returns the start time that will allow the battery to be charged at minimal cost. If there is more than one possible start time that produces the minimal cost, any of those start times can be returned.\n",
    "\n",
    " Assume that getChargingCost works as specified, regardless of what you wrote in part (a).\n",
    " Complete method getChargeStartTime below.\n",
    " \n",
    " "
   ]
  },
  {
   "cell_type": "code",
   "execution_count": null,
   "metadata": {},
   "outputs": [],
   "source": [
    "/** Determines start time to charge the battery at the lowest cost for the given charge time.\n",
    " * @param chargeTime the number of hours the battery needs to be charged\n",
    " * Precondition: chargeTime > 0\n",
    " * @return an optimal start time, with 0 ≤ returned value ≤ 23\n",
    " */\n",
    "public int getChargeStartTime(int chargeTime) "
   ]
  },
  {
   "cell_type": "code",
   "execution_count": null,
   "metadata": {},
   "outputs": [],
   "source": [
    "{\n",
    "    int startTime = 0;\n",
    "    for (int i = 1; i < 24; i++) \n",
    "    {\n",
    "        if (this.getChargingCost(i, chargeTime)\n",
    "            < this.getChargingCost(startTime, chargeTime))\n",
    "         {\n",
    "          startTime = i;\n",
    "         }\n",
    "    }\n",
    "     return startTime;\n",
    "   }"
   ]
  },
  {
   "cell_type": "markdown",
   "metadata": {},
   "source": [
    "## 2017 FRQ 1b"
   ]
  },
  {
   "cell_type": "markdown",
   "metadata": {},
   "source": [
    "This question involves identifying and processing the digits of a non-negative integer. The declaration of the Digits class is shown below. You will write the constructor and one method for the Digits class. "
   ]
  },
  {
   "cell_type": "code",
   "execution_count": null,
   "metadata": {},
   "outputs": [],
   "source": [
    "public class Digits \n",
    "{ \n",
    "    /** The list of digits from the number used to construct this object. \n",
    "     * The digits appear in the list in the same order in which they appear in the original number.\n",
    "     */ \n",
    "    private ArrayList<Integer> digitList; \n",
    "\n",
    "    /** Constructs a Digits object that represents num.\n",
    "     * Precondition: num >= 0\n",
    "     */ \n",
    "    public Digits(int num) \n",
    "    { /* to be implemented in part (a) */ }\n",
    "\n",
    "    /** Returns true if the digits in this Digits object are in strictly increasing order;\n",
    "     * false otherwise.\n",
    "     */ \n",
    "    public boolean isStrictlyIncreasing() \n",
    "    { /* to be implemented in part (b) */ } \n",
    "} "
   ]
  },
  {
   "cell_type": "markdown",
   "metadata": {},
   "source": [
    "(b) Write the\t Digits method isStrictlyIncreasing. The method returns true if the elements of digitList appear in strictly increasing order; otherwise, it returns false. A list is considered strictly increasing if each element after the first is greater than (but not equal to) the preceding element.\n",
    "\n",
    "Complete method isStrictlyIncreasing below. "
   ]
  },
  {
   "cell_type": "code",
   "execution_count": null,
   "metadata": {},
   "outputs": [],
   "source": [
    "/** Returns true if the digits in this Digits object are in strictly increasing order;\n",
    " * false otherwise.\n",
    " */ \n",
    "public boolean isStrictlyIncreasing()"
   ]
  },
  {
   "cell_type": "code",
   "execution_count": 5,
   "metadata": {},
   "outputs": [],
   "source": [
    "public boolean isStrictlyIncreasing()\n",
    "{\n",
    "    for (int i = 0; i < digitList.size()-1; i++)\n",
    "    {\n",
    "        if (digitList.get(i).intValue() > digitList.get(i-1).intValue())\n",
    "        {\n",
    "            return true;\n",
    "        }\n",
    "    }\n",
    "    return false;\n",
    "}"
   ]
  },
  {
   "cell_type": "markdown",
   "metadata": {},
   "source": [
    "## 2019 FRQ 3b"
   ]
  },
  {
   "cell_type": "markdown",
   "metadata": {},
   "source": [
    "Many encoded strings contain delimiters. A delimiter is a non-empty string that acts as a boundary between different parts of a larger string. The delimiters involved in this question occur in pairs that must be balanced, with each pair having an open delimiter and a close delimiter. There will be only one type of delimiter for each string.\n",
    "\n",
    "In this question, you will write two methods in the following Delimiters class. "
   ]
  },
  {
   "cell_type": "code",
   "execution_count": null,
   "metadata": {},
   "outputs": [],
   "source": [
    "public class Delimiters\n",
    "{\n",
    "\n",
    "    /** The open and close delimiters. */\n",
    "    private String openDel;\n",
    "    private String closeDel;\n",
    "\n",
    "    /** Constructs a Delimiters object where open is the open delimiter and close is the\n",
    "     * close delimiter.\n",
    "     * Precondition: open and close are non-empty strings.\n",
    "     */\n",
    "    public Delimiters(String open, String close)\n",
    "    {\n",
    "        openDel = open;\n",
    "        closeDel = close;\n",
    "    }\n",
    " \n",
    "    /** Returns an ArrayList of delimiters from the array tokens, as described in part (a). */\n",
    "    public ArrayList<String> getDelimitersList(String[] tokens)\n",
    "    { /* to be implemented in part (a) */ }\n",
    " \n",
    "    /** Returns true if the delimiters are balanced and false otherwise, as described in part (b).\n",
    "     * Precondition: delimiters contains only valid open and close delimiters.\n",
    "     */\n",
    "    public boolean isBalanced(ArrayList<String> delimiters)\n",
    "    { /* to be implemented in part (b) */ }\n",
    "\n",
    "    // There may be instance variables, constructors, and methods that are not shown.\n",
    "} "
   ]
  },
  {
   "cell_type": "markdown",
   "metadata": {},
   "source": [
    "(b) Write the method isBalanced, which returns true when the delimiters are balanced and returns false otherwise. The delimiters are balanced when both of the following conditions are satisfied otherwise, they are not balanced.\n",
    "\n",
    "    1. When traversing the ArrayList from the first element to the last element, there is no point at\n",
    "       which there are more close delimiters than open delimiters at or before that point.\n",
    "\n",
    "    2. The total number of open delimiters is equal to the total number of close delimiters.\n",
    "\n",
    "Consider a Delimiters object for which openDel is \"<sup>\" and closeDel is \"</sup>\"."
   ]
  },
  {
   "cell_type": "markdown",
   "metadata": {},
   "source": [
    "Class information for this question:\n",
    "\n",
    "- public class Delimiters\n",
    "- private String openDel\n",
    "- private String closeDel\n",
    "- public Delimiters(String open, String close)\n",
    "- public ArrayList<String> getDelimitersList(String[] tokens)\n",
    "- public boolean isBalanced(ArrayList<String> delimiters)\n",
    "\n",
    "Complete method isBalanced below. "
   ]
  },
  {
   "cell_type": "code",
   "execution_count": null,
   "metadata": {},
   "outputs": [],
   "source": [
    "/** Returns true if the delimiters are balanced and false otherwise, as described in part (b).\n",
    " * Precondition: delimiters contains only valid open and close delimiters.\n",
    " */\n",
    "public boolean isBalanced(ArrayList<String> delimiters) "
   ]
  },
  {
   "cell_type": "code",
   "execution_count": 7,
   "metadata": {},
   "outputs": [],
   "source": [
    "public boolean isBalanced(ArrayList<String> delimiters)\n",
    "{\n",
    "    int openCount = 0;\n",
    "    int closeCount = 0;\n",
    "\n",
    "    for (String str : delimiters)\n",
    "    {\n",
    "        if (str.equals(openDel))\n",
    "        {\n",
    "            openCount++;\n",
    "        }\n",
    "        else\n",
    "        {\n",
    "            closeCount++;\n",
    "        }\n",
    "        if (closeCount > openCount)\n",
    "        {\n",
    "            return false;\n",
    "        }\n",
    "    }\n",
    "\n",
    "    if (openCount == closeCount)\n",
    "    {\n",
    "        return true;\n",
    "    }\n",
    "    else\n",
    "    {\n",
    "        return false;\n",
    "    }\n",
    "}"
   ]
  }
 ],
 "metadata": {
  "kernelspec": {
   "display_name": "Java",
   "language": "java",
   "name": "java"
  },
  "language_info": {
   "codemirror_mode": "java",
   "file_extension": ".jshell",
   "mimetype": "text/x-java-source",
   "name": "java",
   "pygments_lexer": "java",
   "version": "11.0.16.1+1"
  },
  "orig_nbformat": 4
 },
 "nbformat": 4,
 "nbformat_minor": 2
}
