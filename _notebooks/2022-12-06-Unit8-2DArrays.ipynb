{
 "cells": [
  {
   "cell_type": "markdown",
   "metadata": {},
   "source": [
    "# \"Unit 8 - 2D Arrays\"\n",
    "\n",
    "\n",
    "- toc: true\n",
    "- branch: master\n",
    "- badges: true\n",
    "- comments: true\n",
    "- categories: [college board, java]"
   ]
  },
  {
   "cell_type": "markdown",
   "metadata": {},
   "source": [
    "## Notes\n",
    "\n",
    "- A 2D array is an array of arrays, and a type of multidimensional array. To create a 2D array, you write the type of the class, followed by the name, and the values.\n",
    "\n",
    "College Board: \n",
    "\n",
    "- Unit 8 is worth 7.5-10% of the college board test, so it is not worth a huge amount. However, it is still important to understand how they work and when they can be utilized.\n",
    "\n",
    "Creating a 2D Array: \n",
    "- initialize array\n"
   ]
  },
  {
   "cell_type": "code",
   "execution_count": 1,
   "metadata": {
    "vscode": {
     "languageId": "java"
    }
   },
   "outputs": [],
   "source": [
    "int[][] numbers;\n",
    "String[][] names;\n",
    "char[][] letters;\n",
    "float[][] floats;\n",
    "double[][] doubles;\n",
    "Object[][] objects;\n"
   ]
  },
  {
   "cell_type": "markdown",
   "metadata": {},
   "source": [
    "### Initializing a 2D Array\n",
    "\n",
    "- you must give it a value\n",
    "\n",
    "- Method 1: You can initialize the array by giving it values \n",
    "- Method 2: You can also initialize it by giving it the size"
   ]
  },
  {
   "cell_type": "code",
   "execution_count": 2,
   "metadata": {
    "vscode": {
     "languageId": "java"
    }
   },
   "outputs": [],
   "source": [
    "int[][] numbers1 = {{1,2,3,4},{5,6,7,8},{9,10,11,12},{13,14,15,16}};//method 1:\n",
    "int[][] numbers2 = new int[4][3]; //method 2: Creates array with four rows and 3 columns \n",
    "String[][] names1 = {{\"John\",\"James\",\"Jay\"},{\"Melissa\",\"May\",\"Maggie\"},{\"Bob\",\"Burt\",\"Billy\"}}; //method 1\n",
    "String[][] names2 = new String[2][2]; //method2: Creates array with 2 rows and 2 columns\n",
    "char[][] letters1 = {{'a','b','c'},{'d','e','f','g','h'}}; //method 1\n",
    "char[][] letters2 = new char[2][3]; //method 2: Creates array with 2 rows and 3 columns"
   ]
  },
  {
   "cell_type": "markdown",
   "metadata": {},
   "source": [
    "### Iteration \n",
    "\n",
    "- could use a for loop \n",
    "- You would iterate through the first array(row), then use another for loop nested within the first that iterates through the second arrays(columns)."
   ]
  },
  {
   "cell_type": "code",
   "execution_count": 3,
   "metadata": {
    "vscode": {
     "languageId": "java"
    }
   },
   "outputs": [
    {
     "name": "stdout",
     "output_type": "stream",
     "text": [
      "1 2 3 4 5 6 7 8 9 0 - =  \n",
      "q w e r t y u i o p [ ] \\  \n",
      "a s d f g h j k l  \n",
      "z x c v b n m , . /  \n"
     ]
    }
   ],
   "source": [
    "String[][] alphabet = {{\"1\", \"2\", \"3\", \"4\", \"5\", \"6\", \"7\", \"8\", \"9\", \"0\", \"-\", \"=\"},\n",
    "{\"q\", \"w\", \"e\", \"r\", \"t\", \"y\", \"u\", \"i\", \"o\", \"p\", \"[\", \"]\", \"\\\\\"},\n",
    "{\"a\", \"s\", \"d\", \"f\", \"g\", \"h\", \"j\", \"k\", \"l\"},\n",
    "{\"z\", \"x\", \"c\", \"v\", \"b\", \"n\", \"m\", \",\", \".\", \"/\"}};\n",
    "for(int i = 0;i<alphabet.length;i++){\n",
    "    for(int j = 0; j < alphabet[i].length;j++){ //nested for loops\n",
    "        System.out.print(alphabet[i][j]+\" \");\n",
    "    }\n",
    "    System.out.println(\" \");\n",
    "}"
   ]
  },
  {
   "cell_type": "markdown",
   "metadata": {},
   "source": [
    "### Accessing and Changing Elements of 2D Arrays\n",
    "\n",
    "- You can change elements or access elements in 2D arrays by using the indexes. For example, to access the 2nd row, and 3 column, use [1][2]"
   ]
  },
  {
   "cell_type": "code",
   "execution_count": 4,
   "metadata": {
    "vscode": {
     "languageId": "java"
    }
   },
   "outputs": [
    {
     "name": "stdout",
     "output_type": "stream",
     "text": [
      "1 4  \n",
      "9 16  \n"
     ]
    }
   ],
   "source": [
    "int[][] numbers = new int[2][2]; //method 2: Creates array with two rows and two columns\n",
    "numbers[0][0] = 1;\n",
    "numbers[0][1] = 4;\n",
    "numbers[1][0] = 9;\n",
    "numbers[1][1] = 16;\n",
    "for(int i = 0;i<numbers.length;i++){\n",
    "    for(int j = 0; j < numbers[i].length;j++){ //nested for loops\n",
    "        System.out.print(numbers[i][j]+\" \");\n",
    "    }\n",
    "    System.out.println(\" \");\n",
    "}"
   ]
  },
  {
   "cell_type": "markdown",
   "metadata": {},
   "source": [
    "Displaying Contents of Array Vertically and Horizontally: \n",
    "\n",
    "- used nested for loops to initialize values for each value in each row and column to the product of the row and column numbers.\n",
    "\n"
   ]
  },
  {
   "cell_type": "code",
   "execution_count": 5,
   "metadata": {
    "vscode": {
     "languageId": "java"
    }
   },
   "outputs": [
    {
     "name": "stdout",
     "output_type": "stream",
     "text": [
      "Printing out values in a pattern/grid design:\n",
      "\n",
      "0 0 0 0 0 0 0 0 0 0  \n",
      "0 1 2 3 4 5 6 7 8 9  \n",
      "0 2 4 6 8 10 12 14 16 18  \n",
      "0 3 6 9 12 15 18 21 24 27  \n",
      "0 4 8 12 16 20 24 28 32 36  \n",
      "0 5 10 15 20 25 30 35 40 45  \n",
      "0 6 12 18 24 30 36 42 48 54  \n",
      "0 7 14 21 28 35 42 49 56 63  \n",
      "0 8 16 24 32 40 48 56 64 72  \n",
      "0 9 18 27 36 45 54 63 72 81  \n",
      "\n",
      "Printing out values horizontally:\n",
      "\n",
      "0 0 0 0 0 0 0 0 0 0 0 1 2 3 4 5 6 7 8 9 0 2 4 6 8 10 12 14 16 18 0 3 6 9 12 15 18 21 24 27 0 4 8 12 16 20 24 28 32 36 0 5 10 15 20 25 30 35 40 45 0 6 12 18 24 30 36 42 48 54 0 7 14 21 28 35 42 49 56 63 0 8 16 24 32 40 48 56 64 72 0 9 18 27 36 45 54 63 72 81 \n",
      "\n",
      "Printing out values vertically:\n",
      "\n",
      "0 \n",
      "0 \n",
      "0 \n",
      "0 \n",
      "0 \n",
      "0 \n",
      "0 \n",
      "0 \n",
      "0 \n",
      "0 \n",
      "0 \n",
      "1 \n",
      "2 \n",
      "3 \n",
      "4 \n",
      "5 \n",
      "6 \n",
      "7 \n",
      "8 \n",
      "9 \n",
      "0 \n",
      "2 \n",
      "4 \n",
      "6 \n",
      "8 \n",
      "10 \n",
      "12 \n",
      "14 \n",
      "16 \n",
      "18 \n",
      "0 \n",
      "3 \n",
      "6 \n",
      "9 \n",
      "12 \n",
      "15 \n",
      "18 \n",
      "21 \n",
      "24 \n",
      "27 \n",
      "0 \n",
      "4 \n",
      "8 \n",
      "12 \n",
      "16 \n",
      "20 \n",
      "24 \n",
      "28 \n",
      "32 \n",
      "36 \n",
      "0 \n",
      "5 \n",
      "10 \n",
      "15 \n",
      "20 \n",
      "25 \n",
      "30 \n",
      "35 \n",
      "40 \n",
      "45 \n",
      "0 \n",
      "6 \n",
      "12 \n",
      "18 \n",
      "24 \n",
      "30 \n",
      "36 \n",
      "42 \n",
      "48 \n",
      "54 \n",
      "0 \n",
      "7 \n",
      "14 \n",
      "21 \n",
      "28 \n",
      "35 \n",
      "42 \n",
      "49 \n",
      "56 \n",
      "63 \n",
      "0 \n",
      "8 \n",
      "16 \n",
      "24 \n",
      "32 \n",
      "40 \n",
      "48 \n",
      "56 \n",
      "64 \n",
      "72 \n",
      "0 \n",
      "9 \n",
      "18 \n",
      "27 \n",
      "36 \n",
      "45 \n",
      "54 \n",
      "63 \n",
      "72 \n",
      "81 \n"
     ]
    }
   ],
   "source": [
    "int[][]products = new int [10][10]; //creating 2D Array\n",
    "for(int i = 0;i<products.length;i++){\n",
    "    for(int j = 0; j < products[i].length;j++){ \n",
    "        products[i][j] = i*j; //initializing values for array\n",
    "    }\n",
    "}\n",
    "\n",
    "System.out.println(\"Printing out values in a pattern/grid design:\\n\");\n",
    "for(int i = 0;i<products.length;i++){\n",
    "    for(int j = 0; j < products[i].length;j++){ \n",
    "        System.out.print(products[i][j]+\" \");\n",
    "    }\n",
    "    System.out.println(\" \");\n",
    "}\n",
    "System.out.println(\"\\nPrinting out values horizontally:\\n\");\n",
    "for(int i = 0;i<products.length;i++){\n",
    "    for(int j = 0; j < products[i].length;j++){ \n",
    "        System.out.print(products[i][j]+\" \");\n",
    "    }\n",
    "}\n",
    "System.out.println(\"\\n\\nPrinting out values vertically:\\n\");\n",
    "for(int i = 0;i<products.length;i++){\n",
    "    for(int j = 0; j < products[i].length;j++){ \n",
    "        System.out.println(products[i][j]+\" \");\n",
    "    }\n",
    "}"
   ]
  },
  {
   "cell_type": "markdown",
   "metadata": {},
   "source": [
    "### Displaying Backwards and Upside Down\n",
    "\n",
    "- used nested for loops to initialize values"
   ]
  },
  {
   "cell_type": "code",
   "execution_count": 6,
   "metadata": {
    "vscode": {
     "languageId": "java"
    }
   },
   "outputs": [
    {
     "name": "stdout",
     "output_type": "stream",
     "text": [
      "Printing out values forward\n",
      "0 0 0 0 0 0 0 0 0 0  \n",
      "0 1 2 3 4 5 6 7 8 9  \n",
      "0 2 4 6 8 10 12 14 16 18  \n",
      "0 3 6 9 12 15 18 21 24 27  \n",
      "0 4 8 12 16 20 24 28 32 36  \n",
      "0 5 10 15 20 25 30 35 40 45  \n",
      "0 6 12 18 24 30 36 42 48 54  \n",
      "0 7 14 21 28 35 42 49 56 63  \n",
      "0 8 16 24 32 40 48 56 64 72  \n",
      "0 9 18 27 36 45 54 63 72 81  \n",
      "\n",
      "\n",
      "Printing out values backward\n",
      "81 72 63 54 45 36 27 18 9 0  \n",
      "72 64 56 48 40 32 24 16 8 0  \n",
      "63 56 49 42 35 28 21 14 7 0  \n",
      "54 48 42 36 30 24 18 12 6 0  \n",
      "45 40 35 30 25 20 15 10 5 0  \n",
      "36 32 28 24 20 16 12 8 4 0  \n",
      "27 24 21 18 15 12 9 6 3 0  \n",
      "18 16 14 12 10 8 6 4 2 0  \n",
      "9 8 7 6 5 4 3 2 1 0  \n",
      "0 0 0 0 0 0 0 0 0 0  \n"
     ]
    }
   ],
   "source": [
    "int[][]sums = new int [10][10]; //creating 2D Array\n",
    "for(int i = 0;i<sums.length;i++){\n",
    "    for(int j = 0; j < sums[i].length;j++){ \n",
    "        sums[i][j] = i+j; //initializing values for array\n",
    "    }\n",
    "}\n",
    "\n",
    "System.out.println(\"Printing out values forward\");\n",
    "for(int i = 0;i<products.length;i++){\n",
    "    for(int j = 0; j < products[i].length;j++){ \n",
    "        System.out.print(products[i][j]+\" \");\n",
    "    }\n",
    "    System.out.println(\" \");\n",
    "}\n",
    "\n",
    "System.out.println(\"\\n\\nPrinting out values backward\");\n",
    "for(int i = products.length-1;i>=0;i--){\n",
    "    for(int j = products[i].length-1; j >= 0;j--){ \n",
    "        System.out.print(products[i][j]+\" \");\n",
    "    }\n",
    "    System.out.println(\" \");\n",
    "}\n"
   ]
  },
  {
   "cell_type": "code",
   "execution_count": 7,
   "metadata": {
    "vscode": {
     "languageId": "java"
    }
   },
   "outputs": [
    {
     "name": "stdout",
     "output_type": "stream",
     "text": [
      "Rows forward, columns backward\n",
      "0 0 0 0 0 0 0 0 0 0  \n",
      "9 8 7 6 5 4 3 2 1 0  \n",
      "18 16 14 12 10 8 6 4 2 0  \n",
      "27 24 21 18 15 12 9 6 3 0  \n",
      "36 32 28 24 20 16 12 8 4 0  \n",
      "45 40 35 30 25 20 15 10 5 0  \n",
      "54 48 42 36 30 24 18 12 6 0  \n",
      "63 56 49 42 35 28 21 14 7 0  \n",
      "72 64 56 48 40 32 24 16 8 0  \n",
      "81 72 63 54 45 36 27 18 9 0  \n",
      "\n",
      "\n",
      "Rows backward, columns forward\n",
      "0 9 18 27 36 45 54 63 72 81  \n",
      "0 8 16 24 32 40 48 56 64 72  \n",
      "0 7 14 21 28 35 42 49 56 63  \n",
      "0 6 12 18 24 30 36 42 48 54  \n",
      "0 5 10 15 20 25 30 35 40 45  \n",
      "0 4 8 12 16 20 24 28 32 36  \n",
      "0 3 6 9 12 15 18 21 24 27  \n",
      "0 2 4 6 8 10 12 14 16 18  \n",
      "0 1 2 3 4 5 6 7 8 9  \n",
      "0 0 0 0 0 0 0 0 0 0  \n"
     ]
    }
   ],
   "source": [
    "int[][]sums = new int [10][10]; //creating 2D Array\n",
    "for(int i = 0;i<sums.length;i++){\n",
    "    for(int j = 0; j < sums[i].length;j++){ \n",
    "        sums[i][j] = i+j; //initializing values for array\n",
    "    }\n",
    "}\n",
    "\n",
    "System.out.println(\"Rows forward, columns backward\");\n",
    "for(int i = 0;i<products.length;i++){\n",
    "    for(int j = products[i].length-1; j >= 0;j--){ \n",
    "        System.out.print(products[i][j]+\" \");\n",
    "    }\n",
    "    System.out.println(\" \");\n",
    "}\n",
    "\n",
    "System.out.println(\"\\n\\nRows backward, columns forward\");\n",
    "for(int i = products.length-1;i>=0;i--){\n",
    "    for(int j = 0; j <products[i].length;j++){ \n",
    "        System.out.print(products[i][j]+\" \");\n",
    "    }\n",
    "    System.out.println(\" \");\n",
    "}"
   ]
  },
  {
   "cell_type": "markdown",
   "metadata": {},
   "source": [
    "### Kahoot Takeaways"
   ]
  },
  {
   "cell_type": "markdown",
   "metadata": {},
   "source": [
    "## Homework\n",
    "\n",
    "![Homework](images/Unit8-2DArray-Homework.png)\n"
   ]
  },
  {
   "cell_type": "code",
   "execution_count": 97,
   "metadata": {
    "vscode": {
     "languageId": "java"
    }
   },
   "outputs": [
    {
     "name": "stdout",
     "output_type": "stream",
     "text": [
      "\n",
      " Forwards\n",
      "1 2 3 4 \n",
      "5 6 7 8 \n",
      "9 10 11 12 \n",
      "13 14 15 16 \n",
      "\n",
      "Reverse\n",
      "16 15 14 13 \n",
      "12 11 10 9 \n",
      "8 7 6 5 \n",
      "4 3 2 1 \n",
      "\n",
      "Ask for Input\n",
      "Row: 3\n",
      "Column: 2\n",
      "Result = 15\n",
      "\n",
      "multiplyThenSum\n",
      "product of row 0 = 24\n",
      "product of row 1 = 1680\n",
      "product of row 2 = 11880\n",
      "product of row 3 = 43680\n",
      "sum of rows = 57264"
     ]
    }
   ],
   "source": [
    "import java.util.Scanner;\n",
    "\n",
    "public class Arrays{\n",
    "    int[][] numbers = {{1,2,3,4},{5,6,7,8},{9,10,11,12},{13,14,15,16}};\n",
    "    public void printArray(){\n",
    "        System.out.println(\"\\n Forwards\");\n",
    "        for(int i = 0; i < numbers.length; i++){\n",
    "            for(int j = 0; j < numbers[i].length; j++){\n",
    "                System.out.print(numbers[i][j] + \" \");\n",
    "            }\n",
    "\n",
    "            System.out.println();\n",
    "\n",
    "        }\n",
    "\n",
    "    }\n",
    "     public void reverseArray() {  \n",
    "        System.out.println(\"\\nReverse\");\n",
    "        for (int i = numbers.length - 1; i >= 0; i--){\n",
    "                for(int j = numbers[i].length - 1; j >= 0; j--) {\n",
    "                    System.out.print(numbers[i][j]+ \" \");\n",
    "                }\n",
    "\n",
    "                System.out.println();\n",
    "            }\n",
    "    }\n",
    "\n",
    "    public void askForIndex(){\n",
    "        System.out.println(\"\\nAsk for Input\");\n",
    "        Scanner scanner = new Scanner(System.in);\n",
    "\n",
    "        System.out.print(\"Row: \");\n",
    "        int rowIndex = scanner.nextInt();\n",
    "        System.out.println(rowIndex);\n",
    "\n",
    "        System.out.print(\"Column: \");\n",
    "        int columnIndex = scanner.nextInt();\n",
    "        System.out.println(columnIndex);\n",
    "\n",
    "        System.out.println(\"Result = \" + numbers[rowIndex][columnIndex]);\n",
    "\n",
    "    }\n",
    "    public void multiplyThenSum(){\n",
    "        System.out.println(\"\\nmultiplyThenSum\");\n",
    "        int a = 1;\n",
    "        int b = 0;\n",
    "\n",
    "        for (int j = 0; j < numbers.length; j++) {\n",
    "            for(int i = 0; i < numbers.length; i++){\n",
    "                a = a*numbers[j][i];\n",
    "            }\n",
    "        \n",
    "            b = b + a;\n",
    "            System.out.println(\"product of row \" + j + \" = \" + a);\n",
    "            a = 1;\n",
    "        }\n",
    "        System.out.print(\"sum of rows = \" + b);\n",
    "    }\n",
    "    \n",
    "    public static void main(String[] args){\n",
    "        Arrays array = new Arrays();\n",
    "        array.printArray();\n",
    "        array.reverseArray();\n",
    "        array.askForIndex();\n",
    "        array.multiplyThenSum();\n",
    "    }\n",
    "}\n",
    "Arrays.main(null);\n"
   ]
  }
 ],
 "metadata": {
  "kernelspec": {
   "display_name": "Java",
   "language": "java",
   "name": "java"
  },
  "language_info": {
   "codemirror_mode": "java",
   "file_extension": ".jshell",
   "mimetype": "text/x-java-source",
   "name": "Java",
   "pygments_lexer": "java",
   "version": "11.0.16.1+1"
  },
  "orig_nbformat": 4
 },
 "nbformat": 4,
 "nbformat_minor": 2
}
