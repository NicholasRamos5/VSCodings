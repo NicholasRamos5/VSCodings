{
 "cells": [
  {
   "cell_type": "markdown",
   "metadata": {},
   "source": [
    "AP Classroom Requirements\n",
    "3.D - Write program code to create, traverse, and manipulate elements in 1D array or ArrayList objects.\n",
    "- 6.1 - Array Creation and Access\n",
    "- 6.2 - Traversing Arrays\n",
    "- 6.3 - Enhanced for Loop for Arrays\n",
    "- 6.4 - Developing Algorithms Using Arrays\n"
   ]
  },
  {
   "cell_type": "markdown",
   "metadata": {},
   "source": [
    "Primitive or Referenced?\n",
    "\n",
    "Primitive = single variable type (int, char, float)\n",
    "Reference = several variable type ()\n",
    "\n",
    "array syntax\n",
    "- declare an array variable, it's not initialized\n",
    "-- by default, each element in the array is value 0\n",
    "\n",
    "Common errors:\n",
    "--bound errors: when you access an array value that does not exist\n",
    "\n",
    "--uninitialized and unfilled arrays\n",
    "\n",
    "traverse an array:\n",
    "--accessing the values inside of it\n",
    "--can use any sort of iteration or loop \n",
    "-recommend for loops, but while loops and recursion also work\n",
    "\n",
    "Enhanced for loops\n",
    "\n",
    "Developing algorithms using arrays\n",
    "--minium, maximums, sums, manipulating each element \n",
    "\n",
    "array.length\n",
    "array[i]\n",
    "\n",
    "## Declaring Arrays\n",
    "Two types, arrays and ArrayLists Primitive data types contain a single var type (int, charm float) Referenced (string array classes)\n",
    "\n",
    "## Array Syntax\n",
    "int[] array = new int[10];\n",
    "\n",
    "## Traverse and Array\n",
    "Main way is For loops where you go through each element of the array (enhanced or basic) Basic For loop is For when you know number of elements\n",
    "\n"
   ]
  },
  {
   "cell_type": "code",
   "execution_count": null,
   "metadata": {
    "vscode": {
     "languageId": "java"
    }
   },
   "outputs": [],
   "source": [
    "public class ArrayMethods {\n",
    "    private int[] values = {1, 2, 3, 4, 5};\n",
    "    for (int )\n",
    "\n",
    "} "
   ]
  },
  {
   "cell_type": "code",
   "execution_count": null,
   "metadata": {
    "vscode": {
     "languageId": "java"
    }
   },
   "outputs": [],
   "source": [
    "// Write array methods for the Array Methods class below out of the options given above.\n",
    "public class ArrayMethods {\n",
    "    private int[] values = {1, 2, 3, 4, 5, 6, 7, 8, 9};\n",
    "    {\n",
    "\n",
    "        int i;\n",
    "    for(i = 0; i < values.length; i ++);{\n",
    "        if (values[i] < values[i+1]) {\n",
    "            return true;\n",
    "        } else {\n",
    "            return false;   \n",
    "        }\n",
    "    }\n",
    "    }\n",
    "}"
   ]
  },
  {
   "cell_type": "markdown",
   "metadata": {},
   "source": [
    "## Homework\n",
    "\n",
    "Write a class called ArrayMethods that contains two methods that utilize/manipulate an array. You may choose 2 of the 4 options below to complete. Extra credit for doing all 4 options. Make sure to show test cases for all of the options you choose.\n",
    "\n",
    "Options for hacks (Pick two):\n",
    "\n",
    "- Swap the first and last element in the array\n",
    "- Replace all even elements with 0\n",
    "- Return true if the array is currently sorted in increasing order\n",
    "- Return true if the array contains duplicate elements"
   ]
  },
  {
   "cell_type": "code",
   "execution_count": 14,
   "metadata": {
    "vscode": {
     "languageId": "java"
    }
   },
   "outputs": [
    {
     "name": "stdout",
     "output_type": "stream",
     "text": [
      "First and Last Element Swap: \n",
      "3\n",
      "1\n",
      "2\n",
      "0\n",
      "Replacing All Elements w/ Zero: \n",
      "3\n",
      "1\n",
      "0\n",
      "0\n"
     ]
    }
   ],
   "source": [
    "public class ArrayMethods\n",
    " {\n",
    "    private int[] values = {0, 1, 2, 3};\n",
    "\n",
    "    public void printElements()\n",
    "    {\n",
    "        for(int i = 0; i < values.length; i++){\n",
    "            System.out.println(values[i]);\n",
    "        }\n",
    "    }\n",
    "\n",
    "    public void swapElements()\n",
    "    {\n",
    "        int last = values[values.length-1];\n",
    "        values[values.length-1] = values[0];\n",
    "        values[0] = last;\n",
    "    }\n",
    "\n",
    "    public void evenToZero()\n",
    "    {\n",
    "        for(int i = 0; i < values.length; i++)\n",
    "        {\n",
    "            if (values[i] % 2 == 0){\n",
    "                values[i] = 0;\n",
    "            }\n",
    "        }\n",
    "    }\n",
    "\n",
    "    public static void main(String[] args)\n",
    "    {\n",
    "        \n",
    "        System.out.println(\"First and Last Element Swap: \");\n",
    "        ArrayMethods swapElements = new ArrayMethods();\n",
    "        swapElements.swapElements();\n",
    "        swapElements.printElements();\n",
    "\n",
    "        System.out.println(\"Replacing All Elements w/ Zero: \");\n",
    "        ArrayMethods evenToZero = new ArrayMethods();\n",
    "        swapElements.evenToZero();\n",
    "        swapElements.printElements();\n",
    "    }\n",
    "}\n",
    "ArrayMethods.main(null);"
   ]
  },
  {
   "cell_type": "code",
   "execution_count": 13,
   "metadata": {
    "vscode": {
     "languageId": "java"
    }
   },
   "outputs": [
    {
     "ename": "CompilationException",
     "evalue": "",
     "output_type": "error",
     "traceback": [
      "\u001b[1m\u001b[30m|   \u001b[1m\u001b[30m\u001b[0m\u001b[1m\u001b[30m\u001b[41mHello.main\u001b[0m\u001b[1m\u001b[30m(null);\u001b[0m",
      "\u001b[1m\u001b[31mcannot find symbol\u001b[0m",
      "\u001b[1m\u001b[31m  symbol:   method main(<nulltype>)\u001b[0m",
      ""
     ]
    }
   ],
   "source": [
    "public class Hello {\n",
    "\n",
    "boolean isSorted(int[] a) {\n",
    "    \n",
    "        for (int i = 0; i < a.length - 1; i++) {\n",
    "            if (a[i] > a[i + 1]) {\n",
    "                return false; \n",
    "            }\n",
    "        }\n",
    "    \n",
    "        return true; \n",
    "    }\n",
    "}\n",
    "Hello.main(null);"
   ]
  },
  {
   "cell_type": "code",
   "execution_count": null,
   "metadata": {
    "vscode": {
     "languageId": "java"
    }
   },
   "outputs": [],
   "source": []
  }
 ],
 "metadata": {
  "kernelspec": {
   "display_name": "Java",
   "language": "java",
   "name": "java"
  },
  "language_info": {
   "codemirror_mode": "java",
   "file_extension": ".jshell",
   "mimetype": "text/x-java-source",
   "name": "Java",
   "pygments_lexer": "java",
   "version": "11.0.16.1+1"
  },
  "orig_nbformat": 4
 },
 "nbformat": 4,
 "nbformat_minor": 2
}
