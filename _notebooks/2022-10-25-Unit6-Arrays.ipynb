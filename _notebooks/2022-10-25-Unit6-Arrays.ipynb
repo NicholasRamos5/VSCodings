{
 "cells": [
  {
   "cell_type": "markdown",
   "metadata": {},
   "source": [
    "AP Classroom Requirements\n",
    "3.D - Write program code to create, traverse, and manipulate elements in 1D array or ArrayList objects.\n",
    "- 6.1 - Array Creation and Access\n",
    "- 6.2 - Traversing Arrays\n",
    "- 6.3 - Enhanced for Loop for Arrays\n",
    "- 6.4 - Developing Algorithms Using Arrays\n"
   ]
  },
  {
   "cell_type": "markdown",
   "metadata": {},
   "source": [
    "Primitive or Referenced?\n",
    "\n",
    "Primitive = single variable type (int, char, float)\n",
    "Reference = several varaible type ()\n",
    "\n",
    "array syntax\n",
    "- decalre an array variable, it's not initialized\n",
    "-- by default, each elemetn in the array is value 0\n",
    "\n",
    "Common errors:\n",
    "--bound errors: when you access an array value that does not exist\n",
    "\n",
    "--unitialized and unfilled arrays\n",
    "\n",
    "traverse an array:\n",
    "--accessing the values inside of it\n",
    "--can use any sort of iteration or loop \n",
    "-recommend for loops, but while loops and recurssion also work\n",
    "\n",
    "Enhanced for loops\n",
    "\n",
    "Developing algorithms using arrays\n",
    "--minium, maximums, sums, manipulating each element \n",
    "\n",
    "array.length\n",
    "array[i]"
   ]
  },
  {
   "cell_type": "code",
   "execution_count": null,
   "metadata": {},
   "outputs": [],
   "source": [
    "public class ArrayMethods {\n",
    "    private int[] values = {1, 2, 3, 4, 5};\n",
    "    for (int )\n",
    "\n",
    "} "
   ]
  },
  {
   "cell_type": "code",
   "execution_count": 6,
   "metadata": {},
   "outputs": [
    {
     "ename": "CompilationException",
     "evalue": "",
     "output_type": "error",
     "traceback": [
      "\u001b[1m\u001b[30m|   \u001b[1m\u001b[30m            \u001b[0m\u001b[1m\u001b[30m\u001b[41mreturn true;\u001b[0m\u001b[1m\u001b[30m\u001b[0m",
      "\u001b[1m\u001b[31mreturn outside method\u001b[0m",
      "",
      "\u001b[1m\u001b[30m|   \u001b[1m\u001b[30m            \u001b[0m\u001b[1m\u001b[30m\u001b[41mreturn false;\u001b[0m\u001b[1m\u001b[30m   \u001b[0m",
      "\u001b[1m\u001b[31mreturn outside method\u001b[0m",
      "",
      "\u001b[1m\u001b[30m|   \u001b[1m\u001b[30m    \u001b[0m\u001b[1m\u001b[30m\u001b[41m{\u001b[0m",
      "\u001b[1m\u001b[30m|   \u001b[1m\u001b[30m\u001b[41m\u001b[0m",
      "\u001b[1m\u001b[30m|   \u001b[1m\u001b[30m\u001b[41m        int i;\u001b[0m",
      "\u001b[1m\u001b[30m|   \u001b[1m\u001b[30m\u001b[41m    for(i = 0; i < values.length; i ++);{\u001b[0m",
      "\u001b[1m\u001b[30m|   \u001b[1m\u001b[30m\u001b[41m        if (values[i] < values[i+1]) {\u001b[0m",
      "\u001b[1m\u001b[30m|   \u001b[1m\u001b[30m\u001b[41m            return true;\u001b[0m",
      "\u001b[1m\u001b[30m|   \u001b[1m\u001b[30m\u001b[41m        } else {\u001b[0m",
      "\u001b[1m\u001b[30m|   \u001b[1m\u001b[30m\u001b[41m            return false;   \u001b[0m",
      "\u001b[1m\u001b[30m|   \u001b[1m\u001b[30m\u001b[41m        }\u001b[0m",
      "\u001b[1m\u001b[30m|   \u001b[1m\u001b[30m\u001b[41m    }\u001b[0m",
      "\u001b[1m\u001b[30m|   \u001b[1m\u001b[30m\u001b[41m    }\u001b[0m",
      "\u001b[1m\u001b[31minitializer must be able to complete normally\u001b[0m",
      ""
     ]
    }
   ],
   "source": [
    "// Write array methods for the Array Methods class below out of the options given above.\n",
    "public class ArrayMethods {\n",
    "    private int[] values = {1, 2, 3, 4, 5, 6, 7, 8, 9};\n",
    "    {\n",
    "\n",
    "        int i;\n",
    "    for(i = 0; i < values.length; i ++);{\n",
    "        if (values[i] < values[i+1]) {\n",
    "            return true;\n",
    "        } else {\n",
    "            return false;   \n",
    "        }\n",
    "    }\n",
    "    }\n",
    "}"
   ]
  },
  {
   "cell_type": "code",
   "execution_count": 9,
   "metadata": {},
   "outputs": [
    {
     "ename": "EvalException",
     "evalue": "Index 4 out of bounds for length 4",
     "output_type": "error",
     "traceback": [
      "\u001b[1m\u001b[31m---------------------------------------------------------------------------\u001b[0m",
      "\u001b[1m\u001b[31mjava.lang.ArrayIndexOutOfBoundsException: Index 4 out of bounds for length 4\u001b[0m",
      "\u001b[1m\u001b[31m\tat ArrayMethods.isSorted(#17:6)\u001b[0m",
      "\u001b[1m\u001b[31m\tat ArrayMethods.main(#17:16)\u001b[0m",
      "\u001b[1m\u001b[31m\tat .(#21:1)\u001b[0m"
     ]
    }
   ],
   "source": [
    "public class ArrayMethods {\n",
    "public static boolean isSorted(int[] a) \n",
    "{\n",
    "    int i;\n",
    "    for(i = 1; i < a.length; i ++);{\n",
    "        if (a[i] < a[i+1]) {\n",
    "            return true;\n",
    "        } else {\n",
    "            return false;   \n",
    "        }\n",
    "    }\n",
    "}\n",
    "public static void main(String[] args)\n",
    "{\n",
    "    int ar[] = {3,5,6,7};\n",
    "    System.out.println(isSorted(ar));   \n",
    "}\n",
    "}\n",
    "ArrayMethods.main(null);"
   ]
  },
  {
   "cell_type": "code",
   "execution_count": 10,
   "metadata": {},
   "outputs": [
    {
     "ename": "CompilationException",
     "evalue": "",
     "output_type": "error",
     "traceback": [
      "\u001b[1m\u001b[30m|   \u001b[1m\u001b[30mfor (\u001b[0m\u001b[1m\u001b[30m\u001b[41mi\u001b[0m\u001b[1m\u001b[30m = 0; i < a.length; i++);\u001b[0m",
      "\u001b[1m\u001b[31mcannot find symbol\u001b[0m",
      "\u001b[1m\u001b[31m  symbol:   variable i\u001b[0m",
      "",
      "\u001b[1m\u001b[30m|   \u001b[1m\u001b[30mfor (i = 0; \u001b[0m\u001b[1m\u001b[30m\u001b[41mi\u001b[0m\u001b[1m\u001b[30m < a.length; i++);\u001b[0m",
      "\u001b[1m\u001b[31mcannot find symbol\u001b[0m",
      "\u001b[1m\u001b[31m  symbol:   variable i\u001b[0m",
      "",
      "\u001b[1m\u001b[30m|   \u001b[1m\u001b[30mfor (i = 0; i < \u001b[0m\u001b[1m\u001b[30m\u001b[41ma\u001b[0m\u001b[1m\u001b[30m.length; i++);\u001b[0m",
      "\u001b[1m\u001b[31mcannot find symbol\u001b[0m",
      "\u001b[1m\u001b[31m  symbol:   variable a\u001b[0m",
      "",
      "\u001b[1m\u001b[30m|   \u001b[1m\u001b[30mfor (i = 0; i < a.length; \u001b[0m\u001b[1m\u001b[30m\u001b[41mi\u001b[0m\u001b[1m\u001b[30m++);\u001b[0m",
      "\u001b[1m\u001b[31mcannot find symbol\u001b[0m",
      "\u001b[1m\u001b[31m  symbol:   variable i\u001b[0m",
      ""
     ]
    }
   ],
   "source": []
  }
 ],
 "metadata": {
  "kernelspec": {
   "display_name": "Java",
   "language": "java",
   "name": "java"
  },
  "language_info": {
   "codemirror_mode": "java",
   "file_extension": ".jshell",
   "mimetype": "text/x-java-source",
   "name": "java",
   "pygments_lexer": "java",
   "version": "11.0.16.1+1"
  },
  "orig_nbformat": 4
 },
 "nbformat": 4,
 "nbformat_minor": 2
}
