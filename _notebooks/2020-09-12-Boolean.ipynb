{
 "cells": [
  {
   "cell_type": "markdown",
   "metadata": {},
   "source": [
    "# \"If and Else Statements (Booleans)\"\n",
    "\n",
    "\n",
    "- toc: true\n",
    "- branch: master\n",
    "- badges: true\n",
    "- comments: true\n",
    "- categories: [pbl, college board, java]"
   ]
  },
  {
   "cell_type": "markdown",
   "metadata": {},
   "source": [
    "## Booleans\n",
    "\n",
    "A Boolean expression is a logical statement that can be evaluated to True or False. A Boolean expression may be composed of a combination of the Boolean constants true or false.\n",
    "\n",
    "Assigned as variables:"
   ]
  },
  {
   "cell_type": "code",
   "execution_count": 1,
   "metadata": {},
   "outputs": [
    {
     "name": "stdout",
     "output_type": "stream",
     "text": [
      "variable a: true\n",
      "variable b: false\n"
     ]
    }
   ],
   "source": [
    "boolean a = true;\n",
    "boolean b = false;\n",
    "\n",
    "System.out.println(\"variable a: \" + a + \"\\nvariable b: \" + b);"
   ]
  },
  {
   "cell_type": "markdown",
   "metadata": {},
   "source": [
    "## Boolean Operators\n",
    "\n",
    "There are three basic boolean operators. They are AND (&&), OR (||), and NOT (!).\n",
    "\n",
    "With AND, both (all) statements must be true to produce and output of true.\n",
    "\n",
    "With OR, only one of the statements must be true to produce and output of true.\n",
    "\n",
    "With NOT, boolean outputs are reversed (true is false, false is true).\n",
    "\n",
    "There are also comparison operators, which include the mathematical symbols >, <, >=, <=, and ==.\n",
    "These operators compare the numerical value of two numbers (integers or doubles), and provides a boolean output as to whether or not the statement is true or not. \n",
    "\n",
    "Let's see these operators in some code. \n"
   ]
  },
  {
   "cell_type": "code",
   "execution_count": 5,
   "metadata": {},
   "outputs": [
    {
     "name": "stdout",
     "output_type": "stream",
     "text": [
      "variable a: true\n",
      "variable b: false\n",
      "variable c: true\n",
      "variable d: false\n",
      "variable e: false\n"
     ]
    }
   ],
   "source": [
    "boolean a = true && true; //both are true\n",
    "boolean b = true && false; //not both are true\n",
    "boolean c = true || false; //one is true\n",
    "boolean d = false || false; //neither are true\n",
    "boolean e = !true; // opposite of true \n",
    "\n",
    "System.out.println(\"variable a: \" + a + \"\\nvariable b: \" + b + \"\\nvariable c: \" + c + \"\\nvariable d: \" + d + \"\\nvariable e: \" + e);\n"
   ]
  },
  {
   "cell_type": "code",
   "execution_count": 7,
   "metadata": {},
   "outputs": [
    {
     "name": "stdout",
     "output_type": "stream",
     "text": [
      "variable a: true\n",
      "variable b: false\n",
      "variable c: true\n"
     ]
    }
   ],
   "source": [
    "boolean a = 5 > 1; //true statement\n",
    "boolean b = 10 < 3; //false statement\n",
    "boolean c = 7 >= 7; //true statement\n",
    "\n",
    "System.out.println(\"variable a: \" + a + \"\\nvariable b: \" + b + \"\\nvariable c: \" + c);"
   ]
  },
  {
   "cell_type": "markdown",
   "metadata": {},
   "source": [
    "## If and Else Statements\n",
    "\n",
    "If statements are statements that check if a condition is true or false. If a condition is true, it will perform an action/line of code it contains, if it is false, it will skip over the action/code block under the if statement.\n",
    "\n",
    "An Else statements is an action/code block that performs if and only if the condition for the if statement is not true (false).\n",
    "\n",
    "An Else If statement is a combination of If and Else statements where if a condition is not true, it will move into the else statement which has another if statement."
   ]
  },
  {
   "cell_type": "code",
   "execution_count": 9,
   "metadata": {},
   "outputs": [
    {
     "name": "stdout",
     "output_type": "stream",
     "text": [
      "c is the greatest number\n"
     ]
    }
   ],
   "source": [
    "int a = 3;\n",
    "int b = 8;\n",
    "int c = 10;\n",
    "\n",
    "if (a > b) { //this is false, so this code is ignored, else statement is followed\n",
    "    if (a > c){ \n",
    "        System.out.println(\"a is the greatest number\");\n",
    "    }\n",
    "    else { \n",
    "        System.out.println(\"c is the greatesst number\");\n",
    "    }\n",
    "}\n",
    "else { //since if was false, \"else\" is true\n",
    "    if (b > c) {//this is false, so this code is ignored, else statement is followed\n",
    "        System.out.println(\"b is the greatest number\");\n",
    "    }\n",
    "    else { //if was false, this code is followed\n",
    "        System.out.println(\"c is the greatest number\");\n",
    "    }\n",
    "}"
   ]
  },
  {
   "cell_type": "markdown",
   "metadata": {},
   "source": [
    "## Switch Case Statements\n",
    "\n",
    "Switch Case Statements help simplify/manage the complexity of if else statements. Unlike if-then and if-then-else statements, the switch statement can have a number of possible execution paths. \n",
    "\n",
    "It works by stating a variety of Case statements which all have conditions. The code blocks under each case are then run if the condition to one of the cases is met. Just like if else statements, Switch Case statements will go down each case to see if a condition is met. If it is met, the case's block of code will run and ignore the rest of the Switch Case statements (assuming each case is ended with a break statement)."
   ]
  },
  {
   "cell_type": "code",
   "execution_count": 12,
   "metadata": {},
   "outputs": [
    {
     "name": "stdout",
     "output_type": "stream",
     "text": [
      "the number is 3\n"
     ]
    }
   ],
   "source": [
    "int n = 3;\n",
    "String output;\n",
    "\n",
    "switch (n) { //variable passed in\n",
    "    case 1: //condition checked if equals\n",
    "        output = \"the number is 1\";\n",
    "        break;\n",
    "    case 2: \n",
    "        output = \"the number is 2\";\n",
    "        break;\n",
    "    case 3: \n",
    "        output = \"the number is 3\";\n",
    "        break;\n",
    "    case 4: \n",
    "        output = \"the number is 4\";\n",
    "        break;\n",
    "}\n",
    "System.out.println(output);"
   ]
  },
  {
   "cell_type": "markdown",
   "metadata": {},
   "source": [
    "The break statement is crucial, as it terminates the enclosing switch statement. The break statements are necessary because without them, statements in switch blocks fall through: All statements after the matching case label are executed in sequence, regardless of the expression of subsequent case labels, until a break statement is encountered\n",
    "\n",
    "This is an example without break statements. "
   ]
  },
  {
   "cell_type": "code",
   "execution_count": 15,
   "metadata": {},
   "outputs": [
    {
     "name": "stdout",
     "output_type": "stream",
     "text": [
      "the number is 4\n"
     ]
    }
   ],
   "source": [
    "int n = 3;\n",
    "String output;\n",
    "\n",
    "switch (n) {\n",
    "    case 1: \n",
    "        output = \"the number is 1\";\n",
    "        \n",
    "    case 2: \n",
    "        output = \"the number is 2\";\n",
    "        \n",
    "    case 3: \n",
    "        output = \"the number is 3\";\n",
    "        \n",
    "    case 4:\n",
    "        output = \"the number is 4\";\n",
    "        \n",
    "}\n",
    "System.out.println(output);"
   ]
  },
  {
   "cell_type": "markdown",
   "metadata": {},
   "source": [
    "## De Morgan's Law\n",
    "\n",
    "De Morgan's Law states that in a boolean statement, the not operator ! will reverse all the operators in that statement. For instance, true becomes false, false becomes true, and becomes or, or becomes and, > becomes <=, <= becomes >, etc.\n",
    "\n",
    "De Morgan's Law defines how we can negate an AND statement and how we can negate an OR statement.\n",
    "\n",
    "!(a && b) is equivalent to !a || !b\n",
    "!(a || b) is equivalent to !a && !b\n",
    "\n",
    "where a and b are boolean values\n",
    "\n",
    "For example, the statements \"I don't like chocolate or vanilla'' and \"I do not like chocolate and I do not like vanilla'' clearly express the same thought.\n",
    "\n",
    "Example code:"
   ]
  },
  {
   "cell_type": "code",
   "execution_count": 18,
   "metadata": {},
   "outputs": [
    {
     "name": "stdout",
     "output_type": "stream",
     "text": [
      "A and B are true\n"
     ]
    }
   ],
   "source": [
    "boolean a = true;\n",
    "boolean b = false;\n",
    "\n",
    "if (!(a || b)){\n",
    "    System.out.println(\"A and B both are false\");\n",
    "}\n",
    "else{\n",
    "    System.out.println(\"A and B are true\");\n",
    "} "
   ]
  },
  {
   "cell_type": "code",
   "execution_count": 20,
   "metadata": {},
   "outputs": [
    {
     "name": "stdout",
     "output_type": "stream",
     "text": [
      "A and B are true\n"
     ]
    }
   ],
   "source": [
    "boolean a = true;\n",
    "boolean b = false;\n",
    "\n",
    "if (!a && !b){\n",
    "    System.out.println(\"A and B both are false\");\n",
    "}\n",
    "else{\n",
    "    System.out.println(\"A and B are true\");\n",
    "}"
   ]
  },
  {
   "cell_type": "markdown",
   "metadata": {},
   "source": [
    "As shown above, both statements are equal given De Morgan's Law. It's important because of how they can break inversions as a complement of a complex boolean expression."
   ]
  }
 ],
 "metadata": {
  "kernelspec": {
   "display_name": "Java",
   "language": "java",
   "name": "java"
  },
  "language_info": {
   "codemirror_mode": "java",
   "file_extension": ".jshell",
   "mimetype": "text/x-java-source",
   "name": "java",
   "pygments_lexer": "java",
   "version": "11.0.16.1+1"
  },
  "orig_nbformat": 4
 },
 "nbformat": 4,
 "nbformat_minor": 2
}
