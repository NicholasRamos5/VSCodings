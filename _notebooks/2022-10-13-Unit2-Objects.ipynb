{
 "cells": [
  {
   "cell_type": "markdown",
   "metadata": {},
   "source": [
    "# \"Unit 2 - Using Objects\"\n",
    "\n",
    "\n",
    "- toc: true\n",
    "- branch: master\n",
    "- badges: true\n",
    "- comments: true\n",
    "- categories: [college board, java]"
   ]
  },
  {
   "cell_type": "markdown",
   "metadata": {},
   "source": [
    "## Object Oriented Programming\n",
    "\n",
    "- Programming paradigm around objects s\n",
    "- Compartmentalize data and function in such a way that data and the functions that operate on the data are bound together ## Classes\n",
    "- Classes are a template\n",
    "- Objects in the same class will share common methods and attributes\n",
    "- Fruit example ## Creating an Object\n",
    "- Members methods constructors\n",
    "- Initialized by calling the class constructor\n",
    "- Access modifier\n",
    "- Return type\n",
    "- Method name\n",
    "- Parameter list\n",
    "- Exception list\n",
    "- Method body"
   ]
  },
  {
   "cell_type": "code",
   "execution_count": null,
   "metadata": {
    "vscode": {
     "languageId": "java"
    }
   },
   "outputs": [],
   "source": [
    "Painter mypainter = new Painter();"
   ]
  },
  {
   "cell_type": "markdown",
   "metadata": {},
   "source": [
    "Example of declaring Methods"
   ]
  },
  {
   "cell_type": "code",
   "execution_count": null,
   "metadata": {
    "vscode": {
     "languageId": "java"
    }
   },
   "outputs": [],
   "source": [
    "public int max (int x, int y){\n",
    "    if(x>y)\n",
    "        return x;\n",
    "    else\n",
    "        return y;\n",
    "}"
   ]
  },
  {
   "cell_type": "markdown",
   "metadata": {},
   "source": [
    "## Calling Methods\n",
    "\n",
    "- Allows code reuse for optimization and organization\n",
    "- Remember semicolons\n",
    "- objectReference.methodName(parameters);\n",
    "- Import math class to use the functions in that class\n"
   ]
  },
  {
   "cell_type": "markdown",
   "metadata": {},
   "source": [
    "## Vocab"
   ]
  },
  {
   "cell_type": "markdown",
   "metadata": {},
   "source": [
    "### Wrapper Classes\n",
    "\n",
    "Wrapper classes provide a way to use primitive data types as objects.\n",
    "\n",
    "You need to wrap (int, double, etc.) when object references are required \n"
   ]
  },
  {
   "cell_type": "code",
   "execution_count": 3,
   "metadata": {
    "vscode": {
     "languageId": "java"
    }
   },
   "outputs": [
    {
     "name": "stdout",
     "output_type": "stream",
     "text": [
      "2\n",
      "3.7\n",
      "true\n"
     ]
    }
   ],
   "source": [
    "Integer a = 2;\n",
    "Double b = 3.7;\n",
    "Boolean c = true;\n",
    "\n",
    "System.out.println(a);\n",
    "System.out.println(b);\n",
    "System.out.println(c);"
   ]
  },
  {
   "cell_type": "markdown",
   "metadata": {},
   "source": [
    "### Concatenation \n",
    "\n",
    "String concatenation forms a new String that is the combination of multiple strings. There are two ways to concatenate strings in Java:\n",
    "\n",
    " - By + (String concatenation) operator\n",
    " - By concat() method\n",
    "\n",
    "The operator \"+\" normally acts as an arithmetic operator unless one of its operands is a String. If so, it converts the other operand to a String before joining the second operand to the end of the first operand.\n",
    "\n",
    "Difference between the two methods:\n",
    "\n",
    "concat() can only concatenation String objects, whereas \"+\" silently converts non-Strings to Strings\n",
    "\n",
    "concat() can only combine two strings, whereas \"+\" can combine any amount of strings. "
   ]
  },
  {
   "cell_type": "code",
   "execution_count": 7,
   "metadata": {
    "vscode": {
     "languageId": "java"
    }
   },
   "outputs": [
    {
     "name": "stdout",
     "output_type": "stream",
     "text": [
      "NicholasRamos\n",
      "4NicholasRamos23\n"
     ]
    }
   ],
   "source": [
    "String s = \"Nicholas\" + \"Ramos\";\n",
    "System.out.println(s);\n",
    "\n",
    "String x = 2 + 2 + \"Nicholas\" + \"Ramos\" + 2 + 3;\n",
    "System.out.println(x);"
   ]
  },
  {
   "cell_type": "code",
   "execution_count": 10,
   "metadata": {
    "vscode": {
     "languageId": "java"
    }
   },
   "outputs": [
    {
     "name": "stdout",
     "output_type": "stream",
     "text": [
      "Nicholas Ramos\n"
     ]
    }
   ],
   "source": [
    "String s = \"Nicholas \"; \n",
    "String b = \"Ramos\";\n",
    "System.out.println(s.concat(b));"
   ]
  },
  {
   "cell_type": "markdown",
   "metadata": {},
   "source": [
    "### Math Class (Random Usage)\n",
    "\n",
    "- Math class contains methods that can be found within java.lang package\n",
    "- call Math class methods by \"ClassName.methodName()\"\n"
   ]
  },
  {
   "cell_type": "code",
   "execution_count": 17,
   "metadata": {
    "vscode": {
     "languageId": "java"
    }
   },
   "outputs": [
    {
     "name": "stdout",
     "output_type": "stream",
     "text": [
      "0.2898890672676253\n",
      "4.0\n",
      "3\n",
      "49.0\n",
      "6.0\n",
      "6.0\n"
     ]
    }
   ],
   "source": [
    "System.out.println(Math.random());\n",
    "System.out.println(Math.floor(4.5));\n",
    "System.out.println(Math.abs(-3));\n",
    "System.out.println(Math.pow(7, 2));\n",
    "System.out.println(Math.pow(36, .5));\n",
    "System.out.println(Math.sqrt(36));\n"
   ]
  },
  {
   "cell_type": "markdown",
   "metadata": {},
   "source": [
    "## Homework"
   ]
  },
  {
   "cell_type": "code",
   "execution_count": 1,
   "metadata": {
    "vscode": {
     "languageId": "java"
    }
   },
   "outputs": [],
   "source": [
    "public class Goblin {\n",
    "    private String name;\n",
    "    private int HP;\n",
    "    private int DMG;\n",
    "    private double hitChance;\n",
    "    private double criticalHitChance;\n",
    "\n",
    "    public String getName() {\n",
    "        return name;\n",
    "    }\n",
    "\n",
    "    public int getHP() {\n",
    "        return HP;\n",
    "    }\n",
    "\n",
    "    public int getDMG() {\n",
    "        return DMG;\n",
    "    }\n",
    "\n",
    "    public double getHitChance() {\n",
    "        return hitChance;\n",
    "    }\n",
    "\n",
    "    public double getCriticalHitChance(){\n",
    "        return criticalHitChance;\n",
    "    }\n",
    "\n",
    "    public boolean isAlive() {\n",
    "        if (this.HP > 0) {\n",
    "            return true;\n",
    "        } else {\n",
    "            return false;\n",
    "        }\n",
    "    }\n",
    "\n",
    "    public void setName(String newName) {\n",
    "        this.name = newName;\n",
    "    }\n",
    "\n",
    "    public void setHP(int newHP) {\n",
    "        this.HP = newHP;\n",
    "    }\n",
    "\n",
    "    public void takeDMG(int takenDamage) {\n",
    "        this.HP -= takenDamage;\n",
    "    }\n",
    "\n",
    "    public void setDMG(int newDMG) {\n",
    "        this.DMG = newDMG;\n",
    "    }\n",
    "\n",
    "    public void setHitChance(double newHitChance) {\n",
    "        this.hitChance = newHitChance;\n",
    "    }\n",
    "\n",
    "    public void setCriticalHitChance(double newCriticalHitChance) {\n",
    "        this.criticalHitChance = newCriticalHitChance;\n",
    "    }\n",
    "}"
   ]
  },
  {
   "cell_type": "code",
   "execution_count": 3,
   "metadata": {
    "vscode": {
     "languageId": "java"
    }
   },
   "outputs": [
    {
     "name": "stdout",
     "output_type": "stream",
     "text": [
      "jeffrey attacks Gunther the great!\n",
      "jeffrey misses...\n",
      "Gunther the great HP: 4\n",
      "\n",
      "Gunther the great attacks jeffrey!\n",
      "Gunther the great hits!\n",
      "jeffrey takes 1 damage\n",
      "jeffrey HP: 11\n",
      "\n",
      "jeffrey attacks Gunther the great!\n",
      "jeffrey misses...\n",
      "Gunther the great HP: 4\n",
      "\n",
      "Gunther the great attacks jeffrey!\n",
      "Gunther the great hits!\n",
      "jeffrey takes 1 damage\n",
      "jeffrey HP: 10\n",
      "\n",
      "jeffrey attacks Gunther the great!\n",
      "jeffrey hits!\n",
      "Gunther the great takes 2 damage\n",
      "Gunther the great HP: 2\n",
      "\n",
      "Gunther the great attacks jeffrey!\n",
      "Gunther the great hits!\n",
      "jeffrey takes 1 damage\n",
      "jeffrey HP: 9\n",
      "\n",
      "jeffrey attacks Gunther the great!\n",
      "jeffrey misses...\n",
      "Gunther the great HP: 2\n",
      "\n",
      "Gunther the great attacks jeffrey!\n",
      "Gunther the great hits!\n",
      "jeffrey takes 1 damage\n",
      "jeffrey HP: 8\n",
      "\n",
      "jeffrey attacks Gunther the great!\n",
      "jeffrey lands a critical hit!\n",
      "Gunther the great takes 4 damage\n",
      "Gunther the great HP: -2\n",
      "\n",
      "Gunther the great attacks jeffrey!\n",
      "Gunther the great hits!\n",
      "jeffrey takes 1 damage\n",
      "jeffrey HP: 7\n",
      "\n",
      "Gunther the great has perished\n"
     ]
    }
   ],
   "source": [
    "import java.lang.Math;\n",
    "\n",
    "public class Duel {\n",
    "\n",
    "    public static void attack(Goblin attackerGoblin, Goblin attackeeGoblin) {\n",
    "\n",
    "        System.out.println(attackerGoblin.getName() + \" attacks \" + attackeeGoblin.getName() + \"!\");\n",
    "        if (Math.random() < attackerGoblin.getHitChance()) {\n",
    "            if (Math.random() < attackerGoblin.getCriticalHitChance()){\n",
    "                attackeeGoblin.takeDMG(2*attackerGoblin.getDMG());\n",
    "                System.out.println(attackerGoblin.getName() + \" lands a critical hit!\");\n",
    "                System.out.println(attackeeGoblin.getName() + \" takes \" + 2*attackerGoblin.getDMG() + \" damage\");\n",
    "            }\n",
    "            else{\n",
    "                attackeeGoblin.takeDMG(attackerGoblin.getDMG());\n",
    "                System.out.println(attackerGoblin.getName() + \" hits!\");\n",
    "                System.out.println(attackeeGoblin.getName() + \" takes \" + attackerGoblin.getDMG() + \" damage\");\n",
    "            }   \n",
    "        } else {\n",
    "            System.out.println(attackerGoblin.getName() + \" misses...\");\n",
    "        }\n",
    "\n",
    "        System.out.println(attackeeGoblin.getName() + \" HP: \" + attackeeGoblin.getHP());\n",
    "        System.out.println();\n",
    "    }\n",
    "\n",
    "    public static void fight(Goblin goblin1, Goblin goblin2) {\n",
    "        while (goblin1.isAlive() && goblin2.isAlive()) {\n",
    "            \n",
    "            attack(goblin1, goblin2);\n",
    "\n",
    "            if (!goblin1.isAlive()) {\n",
    "                System.out.println(goblin1.getName() + \" has perished\");\n",
    "                break;\n",
    "            }\n",
    "\n",
    "            attack(goblin2, goblin1);\n",
    "\n",
    "            if (!goblin2.isAlive()) {\n",
    "                System.out.println(goblin2.getName() + \" has perished\");\n",
    "                break;\n",
    "            }\n",
    "        }\n",
    "    }\n",
    "\n",
    "    public static void main(String[] args) {\n",
    "        Goblin goblin1 = new Goblin();\n",
    "        goblin1.setName(\"jeffrey\");\n",
    "        goblin1.setHP(12);\n",
    "        goblin1.setDMG(2);\n",
    "        goblin1.setHitChance(0.50);\n",
    "        goblin1.setCriticalHitChance(0.1);\n",
    "\n",
    "        Goblin goblin2 = new Goblin();\n",
    "        goblin2.setName(\"Gunther the great\");\n",
    "        goblin2.setHP(4);\n",
    "        goblin2.setDMG(1);\n",
    "        goblin2.setHitChance(1);\n",
    "        goblin1.setCriticalHitChance(0.5);\n",
    "\n",
    "        fight(goblin1, goblin2);\n",
    "    }\n",
    "}\n",
    "\n",
    "Duel.main(null);"
   ]
  }
 ],
 "metadata": {
  "kernelspec": {
   "display_name": "Java",
   "language": "java",
   "name": "java"
  },
  "language_info": {
   "codemirror_mode": "java",
   "file_extension": ".jshell",
   "mimetype": "text/x-java-source",
   "name": "Java",
   "pygments_lexer": "java",
   "version": "11.0.16.1+1"
  },
  "orig_nbformat": 4
 },
 "nbformat": 4,
 "nbformat_minor": 2
}
