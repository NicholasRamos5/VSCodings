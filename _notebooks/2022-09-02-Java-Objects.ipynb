{
 "cells": [
  {
   "cell_type": "markdown",
   "metadata": {},
   "source": [
    "This is objects"
   ]
  },
  {
   "cell_type": "code",
   "execution_count": 28,
   "metadata": {
    "vscode": {
     "languageId": "java"
    }
   },
   "outputs": [
    {
     "name": "stdout",
     "output_type": "stream",
     "text": [
      "My height is very tall\n",
      "My age is 16\n"
     ]
    }
   ],
   "source": [
    "public class Cool {\n",
    "    String Height = \"very tall\";\n",
    "    int age = 16;\n",
    "}\n",
    "\n",
    "public class Main {\n",
    "    public static void main(String[] args) {\n",
    "        Cool myBeans = new Cool();\n",
    "        System.out.println(\"My height is \" + myBeans.Height);\n",
    "        System.out.println(\"My age is \" + myBeans.age);\n",
    "    }\n",
    "}\n",
    "\n",
    "Main.main(null)"
   ]
  },
  {
   "cell_type": "code",
   "execution_count": 1,
   "metadata": {
    "vscode": {
     "languageId": "java"
    }
   },
   "outputs": [],
   "source": [
    "\n",
    "import java.util.Scanner;\n",
    "public class GuessingGame\n",
    "{\n",
    "   public static void main(String[] args) {\n",
    "       Scanner scanner = new Scanner(System.in);\n",
    "       \n",
    "       double a = (1 + Math.random() * 100);\n",
    "        int b = ((int) Math.floor(a));\n",
    "        Integer c = 0;\n",
    "        \n",
    "        System.out.println(\"What is the number?\");\n",
    "        c = scanner.nextInt();\n",
    "        \n",
    "         while (!c.equals(b)) {\n",
    "            System.out.println( c + \" was not the number\");\n",
    "                if (c > b) {\n",
    "                    System.out.println(\"lower\\n\");\n",
    "                }\n",
    "                if (c < b) {\n",
    "                    System.out.println(\"higher\\n\");\n",
    "                }\n",
    "                \n",
    "            c = scanner.nextInt();\n",
    "            }\n",
    "         if (c == b) {\n",
    "            System.out.println(\"You guessed it! The number was \" + b);\n",
    "            }\n",
    "   }\n",
    "    }\n"
   ]
  }
 ],
 "metadata": {
  "kernelspec": {
   "display_name": "Java",
   "language": "java",
   "name": "java"
  },
  "language_info": {
   "codemirror_mode": "java",
   "file_extension": ".jshell",
   "mimetype": "text/x-java-source",
   "name": "Java",
   "pygments_lexer": "java",
   "version": "11.0.16.1+1"
  },
  "orig_nbformat": 4
 },
 "nbformat": 4,
 "nbformat_minor": 2
}
