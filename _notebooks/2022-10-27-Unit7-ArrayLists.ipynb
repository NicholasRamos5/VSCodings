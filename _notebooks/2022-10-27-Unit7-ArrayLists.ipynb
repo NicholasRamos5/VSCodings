{
 "cells": [
  {
   "cell_type": "markdown",
   "metadata": {},
   "source": [
    "# \"Unit 7 - ArrayLists\"\n",
    "\n",
    "\n",
    "- toc: true\n",
    "- branch: master\n",
    "- badges: true\n",
    "- comments: true\n",
    "- categories: [college board, java]\n"
   ]
  },
  {
   "cell_type": "markdown",
   "metadata": {},
   "source": [
    "# Notes\n",
    "\n",
    "- A reference type \n",
    "    - mutable and contains object references\n",
    "- Array cannot be modified, but arraylists can \n",
    "\n",
    "Syntax for arraylist instantiation: "
   ]
  },
  {
   "cell_type": "code",
   "execution_count": null,
   "metadata": {},
   "outputs": [],
   "source": []
  },
  {
   "cell_type": "markdown",
   "metadata": {},
   "source": [
    "ArrayList methods: \n",
    "\n",
    "add, addAll, size, clear, remove, get, isEmpty, sort"
   ]
  },
  {
   "cell_type": "markdown",
   "metadata": {},
   "source": [
    "Three types of loops to know: \n",
    "- For loop\n",
    "- While loop\n",
    "- Enhanced for loop (for, each loop)"
   ]
  },
  {
   "cell_type": "markdown",
   "metadata": {},
   "source": [
    "Developing algorithms with ArrayLists:\n",
    "\n"
   ]
  },
  {
   "cell_type": "markdown",
   "metadata": {},
   "source": [
    "Searching: \n",
    "\n",
    "- The locating of data within linear structures (arrays, lists, queue, stack, etc.)\n",
    "\n",
    "Order matters sometimes ---\n",
    "\n",
    "\n",
    "Sorting: \n",
    "\n",
    "- sorts the ArrayList in a specified order\n",
    "    - ascending \n",
    "    - descending\n"
   ]
  },
  {
   "cell_type": "markdown",
   "metadata": {},
   "source": [
    "# Homework"
   ]
  },
  {
   "cell_type": "markdown",
   "metadata": {},
   "source": [
    "what you've learned, what you're using to help you understand this material."
   ]
  }
 ],
 "metadata": {
  "kernelspec": {
   "display_name": "Java",
   "language": "java",
   "name": "java"
  },
  "language_info": {
   "name": "java"
  },
  "orig_nbformat": 4
 },
 "nbformat": 4,
 "nbformat_minor": 2
}
