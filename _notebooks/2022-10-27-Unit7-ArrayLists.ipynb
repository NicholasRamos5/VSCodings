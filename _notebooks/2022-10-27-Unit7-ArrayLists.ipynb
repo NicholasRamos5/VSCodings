{
 "cells": [
  {
   "cell_type": "markdown",
   "metadata": {},
   "source": [
    "# \"Unit 7 - ArrayLists\"\n",
    "\n",
    "\n",
    "- toc: true\n",
    "- branch: master\n",
    "- badges: true\n",
    "- comments: true\n",
    "- categories: [college board, java]\n"
   ]
  },
  {
   "cell_type": "markdown",
   "metadata": {},
   "source": [
    "# Notes\n",
    "\n",
    "- A reference type \n",
    "    - mutable and contains object references\n",
    "- Array cannot be modified, but arraylists can \n",
    "\n",
    "Syntax for arraylist instantiation: "
   ]
  },
  {
   "cell_type": "code",
   "execution_count": null,
   "metadata": {},
   "outputs": [],
   "source": []
  },
  {
   "cell_type": "markdown",
   "metadata": {},
   "source": [
    "ArrayList methods: \n",
    "\n",
    "add, addAll, size, clear, remove, get, isEmpty, sort"
   ]
  },
  {
   "cell_type": "markdown",
   "metadata": {},
   "source": [
    "Three types of loops to know: \n",
    "- For loop\n",
    "- While loop\n",
    "- Enhanced for loop (for, each loop)"
   ]
  },
  {
   "cell_type": "markdown",
   "metadata": {},
   "source": [
    "Developing algorithms with ArrayLists:\n",
    "\n"
   ]
  },
  {
   "cell_type": "markdown",
   "metadata": {},
   "source": [
    "Searching: \n",
    "\n",
    "- The locating of data within linear structures (arrays, lists, queue, stack, etc.)\n",
    "\n",
    "Order matters sometimes ---\n",
    "\n",
    "\n",
    "Sorting: \n",
    "\n",
    "- sorts the ArrayList in a specified order\n",
    "    - ascending \n",
    "    - descending\n"
   ]
  },
  {
   "attachments": {},
   "cell_type": "markdown",
   "metadata": {},
   "source": [
    "## Vocab \n",
    "\n",
    "### Array\n",
    "- collection of similar data types\n",
    "\n",
    "### Elements\n",
    "- each variable in an array\n",
    "\n",
    "### Index and Array Length\n",
    "- Index: what value/position is assigned to each element\n",
    "\n",
    "- Array length: how many elements in the array\n",
    "\n",
    "### Introductions\n",
    "- A reference type\n",
    "\n",
    "- Array cannot be modified while ArrayLists can change size dynamically\n",
    "\n",
    "### Methods\n",
    "- add(int index, element)\n",
    "\n",
    "### Traversing ArrayLists\n",
    "- For Loop\n",
    "\n",
    "- While Loop\n",
    "\n",
    "- Enhanced ForLoop\n",
    "\n",
    "### Searching\n",
    "- The locating of data within linear structures\n",
    "\n",
    "- Searching a structure involves control structures - iterational and selection - loop with an if statement\n",
    "\n",
    "- For loops are optimal for linear searching because each element needs to be specified sequentially with no need to track the index after its executed\n",
    "\n",
    "- Order matters sometimes in searching\n",
    "\n",
    "### Sorting\n",
    "- Sorting sorts the ArrayList in a specified order (ascending or descending)\n",
    "\n",
    "- Collections.sort[(list.name)] - sort in ascending order\n",
    "\n",
    "- Collections.sort[(ArrayList,Collections.reverseOrder())] - sort in ascending order"
   ]
  },
  {
   "cell_type": "markdown",
   "metadata": {},
   "source": [
    "# Homework\n",
    "\n",
    "![Unit 7 Homework](images/Unit7-ArrayLists-Homework.png)"
   ]
  },
  {
   "cell_type": "code",
   "execution_count": 14,
   "metadata": {},
   "outputs": [
    {
     "name": "stdout",
     "output_type": "stream",
     "text": [
      "------------------\n",
      "Reverse Order: \n",
      "G\n",
      "F\n",
      "E\n",
      "D\n",
      "C\n",
      "B\n",
      "A\n",
      "Swap 1st & Last Element: \n",
      "A\n",
      "F\n",
      "E\n",
      "D\n",
      "C\n",
      "B\n",
      "G\n"
     ]
    }
   ],
   "source": [
    "import java.util.ArrayList;\n",
    "import java.util.Collections;\n",
    "\n",
    "// Initializing an ArrayList filled with strings\n",
    "ArrayList<String> strings = new ArrayList<>();\n",
    "strings.add(\"A\");\n",
    "strings.add(\"B\");\n",
    "strings.add(\"C\");\n",
    "strings.add(\"D\");\n",
    "strings.add(\"E\");\n",
    "strings.add(\"F\");\n",
    "strings.add(\"G\");\n",
    "\n",
    "// function to iterate and print out items\n",
    "public void print(ArrayList<String> strings){\n",
    "    for (String str : strings){\n",
    "        System.out.println(str);\n",
    "    }\n",
    "}\n",
    "\n",
    "// 1st bullet (Sort an ArrayList in descending order and swap the first and last elements)\n",
    "System.out.println(\"------------------\");\n",
    "Collections.sort(strings, Collections.reverseOrder());\n",
    "System.out.println(\"Reverse Order: \");\n",
    "print(strings);\n",
    "\n",
    "System.out.println(\"Swap 1st & Last Element: \");\n",
    "String temp = strings.get(0);\n",
    "strings.remove(0);\n",
    "strings.add(0,strings.get(strings.size()-1));\n",
    "strings.remove(strings.size()-1);\n",
    "strings.add(strings.size(), temp);\n",
    "\n",
    "print(strings);\n"
   ]
  },
  {
   "cell_type": "code",
   "execution_count": 1,
   "metadata": {},
   "outputs": [
    {
     "name": "stdout",
     "output_type": "stream",
     "text": [
      "Hash map before operation: 50326956\n",
      "Hash map after operation: -1109874752\n"
     ]
    }
   ],
   "source": [
    "import java.util.Random;\n",
    "import java.util.ArrayList; // import the ArrayList class\n",
    "\n",
    "public class HomeWork2{\n",
    "    ArrayList<Integer> numbers = new ArrayList<Integer>();\n",
    "    Random rand = new Random();\n",
    "\n",
    "    void run(){\n",
    "        for(int i = 0; i<10;i++){\n",
    "            int x = rand.nextInt(100);\n",
    "            numbers.add(x);\n",
    "        }\n",
    "        \n",
    "        //hashmaps before and after sort\n",
    "        System.out.println(\"Hash map before operation: \"+ numbers.hashCode());\n",
    "        Collections.sort(numbers);\n",
    "        System.out.println(\"Hash map after operation: \"+ numbers.hashCode());\n",
    "\n",
    "\n",
    "    }\n",
    "\n",
    "    public static void main(String[] args) {\n",
    "        HomeWork2 hw2 = new HomeWork2();\n",
    "        hw2.run();\n",
    "    }\n",
    "}\n",
    "HomeWork2.main(null);"
   ]
  },
  {
   "cell_type": "code",
   "execution_count": 2,
   "metadata": {},
   "outputs": [
    {
     "name": "stdout",
     "output_type": "stream",
     "text": [
      "Before operations, Arraylist 1: [48, 61, 73, 5, 96, 99, 25, 96, 9, 71]\n",
      "Before operations, Arraylist 2: [3, 99, 96, 94, 40, 49, 14, 89, 38, 83]\n",
      "After operations, Arraylist 1: [99, 96, 96, 73, 71, 49, 48, 14, 9, 5]\n",
      "After operations, Arraylist 2: [3, 99, 96, 94, 40, 49, 14, 89, 38, 83]\n"
     ]
    }
   ],
   "source": [
    "import java.util.Random;\n",
    "import java.util.ArrayList; // import the ArrayList class\n",
    "\n",
    "public class HomeWork3{\n",
    "    ArrayList<Integer> numbers1 = new ArrayList<Integer>();\n",
    "    ArrayList<Integer> numbers2 = new ArrayList<Integer>();\n",
    "    Random rand = new Random();\n",
    "\n",
    "    void run(){\n",
    "        //adding numbers to array 1\n",
    "        for(int i = 0; i<10;i++){\n",
    "            int x = rand.nextInt(100);\n",
    "            numbers1.add(x);\n",
    "        }\n",
    "\n",
    "        //adding numbers to array 2\n",
    "        for(int i = 0; i<10;i++){\n",
    "            int x = rand.nextInt(100);\n",
    "            numbers2.add(x);\n",
    "        }\n",
    "        \n",
    "         //replace three elements, then reverse order\n",
    "        System.out.println(\"Before operations, Arraylist 1: \"+ numbers1);\n",
    "        System.out.println(\"Before operations, Arraylist 2: \"+ numbers2);\n",
    "        //randomly swap elements from lists three times\n",
    "        for(int i = 0; i<3;i++){\n",
    "            int replace = rand.nextInt(10);\n",
    "            numbers1.set(replace,numbers2.get(replace));\n",
    "        }\n",
    "        //reverse order of array 1\n",
    "        Collections.sort(numbers1, Collections.reverseOrder()); \n",
    "\n",
    "        System.out.println(\"After operations, Arraylist 1: \"+ numbers1);\n",
    "        System.out.println(\"After operations, Arraylist 2: \"+ numbers2);\n",
    "    }\n",
    "\n",
    "    public static void main(String[] args) {\n",
    "        HomeWork3 hw3 = new HomeWork3();\n",
    "        hw3.run();\n",
    "    }\n",
    "}\n",
    "HomeWork3.main(null);"
   ]
  }
 ],
 "metadata": {
  "kernelspec": {
   "display_name": "Java",
   "language": "java",
   "name": "java"
  },
  "language_info": {
   "codemirror_mode": "java",
   "file_extension": ".jshell",
   "mimetype": "text/x-java-source",
   "name": "java",
   "pygments_lexer": "java",
   "version": "11.0.16.1+1"
  },
  "orig_nbformat": 4
 },
 "nbformat": 4,
 "nbformat_minor": 2
}
