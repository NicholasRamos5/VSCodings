{
 "cells": [
  {
   "cell_type": "markdown",
   "metadata": {},
   "source": [
    "# \"Unit 7 - ArrayLists\"\n",
    "\n",
    "\n",
    "- toc: true\n",
    "- branch: master\n",
    "- badges: true\n",
    "- comments: true\n",
    "- categories: [college board, java]\n"
   ]
  },
  {
   "cell_type": "markdown",
   "metadata": {},
   "source": [
    "# Notes\n",
    "\n",
    "- A reference type \n",
    "    - mutable and contains object references\n",
    "- Array cannot be modified, but arraylists can \n",
    "\n",
    "Syntax for arraylist instantiation: "
   ]
  },
  {
   "cell_type": "code",
   "execution_count": null,
   "metadata": {
    "vscode": {
     "languageId": "java"
    }
   },
   "outputs": [],
   "source": []
  },
  {
   "cell_type": "markdown",
   "metadata": {},
   "source": [
    "ArrayList methods: \n",
    "\n",
    "add, addAll, size, clear, remove, get, isEmpty, sort"
   ]
  },
  {
   "cell_type": "markdown",
   "metadata": {},
   "source": [
    "Three types of loops to know: \n",
    "- For loop\n",
    "- While loop\n",
    "- Enhanced for loop (for, each loop)"
   ]
  },
  {
   "cell_type": "markdown",
   "metadata": {},
   "source": [
    "Developing algorithms with ArrayLists:\n",
    "\n"
   ]
  },
  {
   "cell_type": "markdown",
   "metadata": {},
   "source": [
    "Searching: \n",
    "\n",
    "- The locating of data within linear structures (arrays, lists, queue, stack, etc.)\n",
    "\n",
    "Order matters sometimes ---\n",
    "\n",
    "\n",
    "Sorting: \n",
    "\n",
    "- sorts the ArrayList in a specified order\n",
    "    - ascending \n",
    "    - descending\n"
   ]
  },
  {
   "cell_type": "markdown",
   "metadata": {},
   "source": [
    "# Homework\n",
    "\n",
    "![Unit 7 Homework](images/Unit7-ArrayLists-Homework.png)"
   ]
  },
  {
   "cell_type": "code",
   "execution_count": 14,
   "metadata": {
    "vscode": {
     "languageId": "java"
    }
   },
   "outputs": [
    {
     "name": "stdout",
     "output_type": "stream",
     "text": [
      "------------------\n",
      "Reverse Order: \n",
      "G\n",
      "F\n",
      "E\n",
      "D\n",
      "C\n",
      "B\n",
      "A\n",
      "Swap 1st & Last Element: \n",
      "A\n",
      "F\n",
      "E\n",
      "D\n",
      "C\n",
      "B\n",
      "G\n"
     ]
    }
   ],
   "source": [
    "import java.util.ArrayList;\n",
    "import java.util.Collections;\n",
    "\n",
    "// Initializing an ArrayList filled with strings\n",
    "ArrayList<String> strings = new ArrayList<>();\n",
    "strings.add(\"A\");\n",
    "strings.add(\"B\");\n",
    "strings.add(\"C\");\n",
    "strings.add(\"D\");\n",
    "strings.add(\"E\");\n",
    "strings.add(\"F\");\n",
    "strings.add(\"G\");\n",
    "\n",
    "// function to iterate and print out items\n",
    "public void print(ArrayList<String> strings){\n",
    "    for (String str : strings){\n",
    "        System.out.println(str);\n",
    "    }\n",
    "}\n",
    "\n",
    "// 1st bullet (Sort an ArrayList in descending order and swap the first and last elements)\n",
    "System.out.println(\"------------------\");\n",
    "Collections.sort(strings, Collections.reverseOrder());\n",
    "System.out.println(\"Reverse Order: \");\n",
    "print(strings);\n",
    "\n",
    "System.out.println(\"Swap 1st & Last Element: \");\n",
    "String temp = strings.get(0);\n",
    "strings.remove(0);\n",
    "strings.add(0,strings.get(strings.size()-1));\n",
    "strings.remove(strings.size()-1);\n",
    "strings.add(strings.size(), temp);\n",
    "\n",
    "print(strings);\n"
   ]
  }
 ],
 "metadata": {
  "kernelspec": {
   "display_name": "Java",
   "language": "java",
   "name": "java"
  },
  "language_info": {
   "codemirror_mode": "java",
   "file_extension": ".jshell",
   "mimetype": "text/x-java-source",
   "name": "Java",
   "pygments_lexer": "java",
   "version": "11.0.16.1+1"
  },
  "orig_nbformat": 4
 },
 "nbformat": 4,
 "nbformat_minor": 2
}
