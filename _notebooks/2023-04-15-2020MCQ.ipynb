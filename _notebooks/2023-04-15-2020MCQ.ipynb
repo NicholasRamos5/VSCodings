{
 "cells": [
  {
   "attachments": {},
   "cell_type": "markdown",
   "metadata": {},
   "source": [
    "# \"College Board 2020 MCQ Corrections\"\n",
    "\n",
    "- toc: true\n",
    "- branch: master\n",
    "- badges: true\n",
    "- comments: true\n",
    "- categories: [college board, java]"
   ]
  },
  {
   "attachments": {},
   "cell_type": "markdown",
   "metadata": {},
   "source": [
    "## Overall Score: 36/40\n",
    "\n",
    "![Alt text](images/2020PracticeMCQ/FinalScore.png)"
   ]
  },
  {
   "attachments": {},
   "cell_type": "markdown",
   "metadata": {},
   "source": [
    "## Question 3\n",
    "\n",
    "![Alt text](images/2020PracticeMCQ/Q3.png)\n",
    "\n",
    "**My Answer:** \n",
    "\n",
    "double hours = Math.abs(marker1 - marker2 / 60.0);\n",
    "\n",
    "**Reason why incorrect:**\n",
    "\n",
    "Because java uses PEMDAS, this option is only dividing marker2 by 60, rather than the difference of marker1 and marker2.\n",
    "\n",
    "**Correct Answer:**\n",
    "\n",
    "double hours = Math.abs(marker1 - marker2) / 60.0;\n",
    "\n",
    "**Reason:**\n",
    "\n",
    "This will find the change in distance between markers, and then divide by the speed of 60 miles per hour. By taking the absolute value, the result will be the total time elapsed between two markers. "
   ]
  },
  {
   "attachments": {},
   "cell_type": "markdown",
   "metadata": {},
   "source": [
    "## Question 8 \n",
    "\n",
    "![Alt text](images/2020PracticeMCQ/Q8.png)\n",
    "\n",
    "**My Answer**\n",
    "\n",
    "In lines 8 and 9, int values cannot be assigned to double variables.\n",
    "\n",
    "**Reason why incorrect:**\n",
    "\n",
    "You can assign int value to double variables. However, you cannot assign double values to int variables. \n",
    "\n",
    "**Correct Answer**\n",
    "\n",
    "In lines 14 and 15, the variables n1 and n2 are not defined.\n",
    "\n",
    "**Reason:**\n",
    "\n",
    "n1 and n2 variables are not defined in the class, nor in the incrementPoints method. For this reason, they cannot be used in the incrementPoints method. num1 and num2 variables should be used instead. "
   ]
  },
  {
   "attachments": {},
   "cell_type": "markdown",
   "metadata": {},
   "source": [
    "## Question 31\n",
    "\n",
    "![Alt text](images/2020PracticeMCQ/Q31.png)\n",
    "\n",
    "**My Answer:**\n",
    "\n",
    "I and III only\n",
    "\n",
    "**Reason why Incorrect:**\n",
    "\n",
    "Option III misuses the variable i. Since a for : each loop is used, the variable i represents each element, rather than the index. For this reason, \"nums[i]\" does not accurately represent each element. \n",
    "\n",
    "**Correct Answer:**\n",
    "\n",
    "I only. \n",
    "\n",
    "**Reason:**\n",
    "\n",
    "Option II does not iterate through the first element of the array. \n"
   ]
  },
  {
   "attachments": {},
   "cell_type": "markdown",
   "metadata": {},
   "source": [
    "## Question 36\n",
    "\n",
    "![Alt text](images/2020PracticeMCQ/Q36.png)\n",
    "\n",
    "**My Answer:**\n",
    "\n",
    "When a and b are both even\n",
    "\n",
    "**Reason why Incorrect:**\n",
    "\n",
    "As an example, if a = 6, and b = 4. a/b = 1, and methodOne returns 1. methodTwo runs for when i = 0 and i = 4, which returns 2. \n",
    "\n",
    "**Correct Answer:**\n",
    "\n",
    "When a % b is equal to zero\n",
    "\n",
    "**Reason:**\n",
    "\n",
    "If a % b is not equal to 0, methodOne returns a/b. while methodTwo returns a/b + 1.\n"
   ]
  },
  {
   "attachments": {},
   "cell_type": "markdown",
   "metadata": {},
   "source": [
    "## Overall Reflection \n",
    "\n",
    "**Skills I missed:**\n",
    "\n",
    "- Skill 1.B: Determine code that would be used to complete code segments.\n",
    "- Skill 4.B: Identify errors in program code.\n",
    "- Skill 5.D: Describe the initial conditions that must be met for a program segment to work as intended or described.\n",
    "\n",
    "I struggled on many problems that required me to understand the issues with broken code. Along with this, I need to improve on being able to figure out if a code segment will work as intended or not. To help myself learn this skill, I should try to explain to myself how provided code works, one step at a time. In doing this, I should be able to figure out how something can go wrong, or what values will be outputted/returned. "
   ]
  }
 ],
 "metadata": {
  "kernelspec": {
   "display_name": "Java",
   "language": "java",
   "name": "java"
  },
  "language_info": {
   "codemirror_mode": "java",
   "file_extension": ".jshell",
   "mimetype": "text/x-java-source",
   "name": "Java",
   "pygments_lexer": "java",
   "version": "11.0.16.1+1"
  },
  "orig_nbformat": 4
 },
 "nbformat": 4,
 "nbformat_minor": 2
}
