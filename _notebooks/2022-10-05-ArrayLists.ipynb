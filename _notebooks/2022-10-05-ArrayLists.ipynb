{
 "cells": [
  {
   "cell_type": "markdown",
   "metadata": {},
   "source": [
    "# \"Array Lists\"\n",
    "\n",
    "\n",
    "- toc: true\n",
    "- branch: master\n",
    "- badges: true\n",
    "- comments: true\n",
    "- categories: [college board, java]"
   ]
  },
  {
   "cell_type": "markdown",
   "metadata": {},
   "source": [
    "## Array List Explanation\n",
    "\n",
    "An array list is an array that you can manipulate the size of. With normal arrays, they have their size set from the start and you cannot change the preassigned size of that array. However, array list elements can be added and removed from an array list whenever there is a need, helping the user with memory management."
   ]
  },
  {
   "cell_type": "markdown",
   "metadata": {},
   "source": [
    "## Use of Array Lists\n",
    "\n",
    "I have decided to use arrays to display some information about different types of cars. Array lists allow me to display information simply and in a way that is relatively easy to read.  "
   ]
  },
  {
   "cell_type": "code",
   "execution_count": 30,
   "metadata": {
    "vscode": {
     "languageId": "java"
    }
   },
   "outputs": [
    {
     "name": "stdout",
     "output_type": "stream",
     "text": [
      "TLX\t\tAcura\t\t54,500 USD\t5.9 seconds\t5\t355.0-hp, 3.0-liter, V6 Cylinder\n",
      "Camry\t\tToyota\t\t36,270 USD\t5.1 seconds\t5\t301.0-hp, 3.5-liter, V6 Cylinder\n",
      "Camaro\t\tChevy\t\t43,500 USD\t5.2 seconds\t4\t455.0-hp, 6.2-liter, 8 Cylinder\n",
      "Model S\t\tTesla\t\t135,990 USD\t1.99 seconds\t5\tno lol\n",
      "SF90\t\tFerrari\t\t511,295 USD\t2.33 seconds\t2\t986.0-hp, 4.0-liter, 8 Cylinder \n"
     ]
    }
   ],
   "source": [
    "import java.util.ArrayList;\n",
    "import java.util.Collections;\n",
    "import java.util.List;\n",
    "\n",
    "public class Vehicle{\n",
    "    private String model;\n",
    "    private String make;\n",
    "    private String cost;\n",
    "    private String acceleration;\n",
    "    private int seats;\n",
    "    private String engine;\n",
    "\n",
    "    public Vehicle(String model, String make, String cost, String acceleration, int seats, String engine){\n",
    "        this.model = model;\n",
    "        this.make = make;\n",
    "        this.cost = cost;\n",
    "        this.acceleration = acceleration;\n",
    "        this.seats = seats;\n",
    "        this.engine = engine;\n",
    "    }\n",
    "\n",
    "    public String toString() {\n",
    "        return String.format(\"%s\\t\\t%s\\t\\t%s\\t%s\\t%d\\t%s\", model, make, cost, acceleration, seats, engine);\n",
    "    }\n",
    "\n",
    "    public static void main(String[] args){\n",
    "        List<Vehicle> listVehicles = new ArrayList<Vehicle>();\n",
    "\n",
    "        listVehicles.add(new Vehicle(\"TLX\", \"Acura\", \"54,500 USD\", \"5.9 seconds\", 5, \"355.0-hp, 3.0-liter, V6 Cylinder\"));\n",
    "        listVehicles.add(new Vehicle(\"Camry\", \"Toyota\", \"36,270 USD\", \"5.1 seconds\", 5, \"301.0-hp, 3.5-liter, V6 Cylinder\"));\n",
    "        listVehicles.add(new Vehicle(\"Camaro\", \"Chevy\", \"43,500 USD\", \"5.2 seconds\", 4, \"455.0-hp, 6.2-liter, 8 Cylinder\"));\n",
    "        listVehicles.add(new Vehicle(\"Model S\", \"Tesla\", \"135,990 USD\", \"1.99 seconds\", 5, \"no lol\"));\n",
    "        listVehicles.add(new Vehicle(\"SF90\", \"Ferrari\", \"511,295 USD\", \"2.33 seconds\", 2, \"986.0-hp, 4.0-liter, 8 Cylinder \"));\n",
    "        \n",
    "\n",
    "        for (Vehicle n : listVehicles){\n",
    "            System.out.println(n);\n",
    "        }\n",
    "    }\n",
    "}\n",
    "\n",
    "Vehicle.main(null);"
   ]
  },
  {
   "cell_type": "markdown",
   "metadata": {},
   "source": [
    "## Science Olympiad Website \n",
    "\n",
    "We are creating a Science Olympiad Website. To make it a fully functioning website, integration of array lists would be crucial for carrying out the functions that we would like to include. \n"
   ]
  },
  {
   "cell_type": "code",
   "execution_count": 23,
   "metadata": {
    "vscode": {
     "languageId": "java"
    }
   },
   "outputs": [
    {
     "name": "stdout",
     "output_type": "stream",
     "text": [
      "Krish\tPatil\tLeadership\t11\tkrishpatil1019@gmail.com\n",
      "Don\tTran\tLeadership\t11\tdonqt@gmail.com\n",
      "Rohan\tGaikwad\tVice President\t11\tgaikwadrohan326@gmail.com\n",
      "Audrey\tZeng\tPresident\t12\taudreyhuaxia@gmail.com \n"
     ]
    }
   ],
   "source": [
    "import java.util.ArrayList;\n",
    "import java.util.Collections;\n",
    "import java.util.List;\n",
    "\n",
    "public class Member{\n",
    "    private String firstname;\n",
    "    private String lastname;\n",
    "    private String role;\n",
    "    private int grade;\n",
    "    private String email;\n",
    "\n",
    "    public Member(String firstname, String lastname, String role, int grade, String email){\n",
    "        this.firstname = firstname;\n",
    "        this.lastname = lastname;\n",
    "        this.role = role;\n",
    "        this.grade = grade;\n",
    "        this.email = email;\n",
    "    }\n",
    "\n",
    "    public String toString() {\n",
    "        return String.format(\"%s\\t%s\\t%s\\t%d\\t%s\", firstname, lastname, role, grade, email);\n",
    "    }\n",
    "\n",
    "    public static void main(String[] args){\n",
    "        List<Member> listMembers = new ArrayList<Member>();\n",
    "\n",
    "        listMembers.add(new Member(\"Krish\", \"Patil\", \"Leadership\", 11, \"krishpatil1019@gmail.com\"));\n",
    "        listMembers.add(new Member(\"Don\", \"Tran\", \"Leadership\", 11, \"donqt@gmail.com\"));\n",
    "        listMembers.add(new Member(\"Rohan\", \"Gaikwad\", \"Vice President\", 11, \"gaikwadrohan326@gmail.com\"));\n",
    "        listMembers.add(new Member(\"Audrey\", \"Zeng\", \"President\", 12, \"audreyhuaxia@gmail.com \"));\n",
    "        \n",
    "\n",
    "        for (Member n : listMembers){\n",
    "            System.out.println(n);\n",
    "        }\n",
    "    }\n",
    "}\n",
    "\n",
    "Member.main(null);"
   ]
  },
  {
   "cell_type": "markdown",
   "metadata": {},
   "source": [
    "The above table shows some of the members, their roles, grades, and emails"
   ]
  }
 ],
 "metadata": {
  "kernelspec": {
   "display_name": "Java",
   "language": "java",
   "name": "java"
  },
  "language_info": {
   "codemirror_mode": "java",
   "file_extension": ".jshell",
   "mimetype": "text/x-java-source",
   "name": "Java",
   "pygments_lexer": "java",
   "version": "11.0.16.1+1"
  },
  "orig_nbformat": 4,
  "vscode": {
   "interpreter": {
    "hash": "b0fa6594d8f4cbf19f97940f81e996739fb7646882a419484c72d19e05852a7e"
   }
  }
 },
 "nbformat": 4,
 "nbformat_minor": 2
}
