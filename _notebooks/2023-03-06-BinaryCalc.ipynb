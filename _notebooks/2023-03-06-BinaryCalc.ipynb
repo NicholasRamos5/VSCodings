{
 "cells": [
  {
   "attachments": {},
   "cell_type": "markdown",
   "metadata": {},
   "source": [
    "# \"Binary Calculator\"\n",
    "\n",
    "\n",
    "- toc: true\n",
    "- branch: master\n",
    "- badges: true\n",
    "- comments: true\n",
    "- categories: [college board, java]"
   ]
  },
  {
   "cell_type": "code",
   "execution_count": 55,
   "metadata": {},
   "outputs": [
    {
     "name": "stdout",
     "output_type": "stream",
     "text": [
      "First Binary Value: 1\n",
      "Second Binary Value: 1\n",
      "1 + 1 = 10\n"
     ]
    }
   ],
   "source": [
    "import java.util.Scanner;\n",
    "\n",
    "public class Binary {\n",
    "    public static String binaryAddition(String binary1, String binary2){\n",
    "        return Integer.toBinaryString(Integer.parseInt(binary1, 2) + Integer.parseInt(binary2, 2));\n",
    "    }\n",
    "\n",
    "    public static void main(String[] args){\n",
    "        System.out.print(\"First Binary Value: \");\n",
    "        Scanner binary10 = new Scanner(System.in);\n",
    "        String binary1 = binary10.nextLine();\n",
    "        System.out.println(binary1);\n",
    "\n",
    "        System.out.print(\"Second Binary Value: \");\n",
    "        Scanner binary20 = new Scanner(System.in);\n",
    "        String binary2 = binary20.nextLine();\n",
    "        System.out.println(binary2);\n",
    "\n",
    "        System.out.print(binary1 + \" + \" + binary2 + \" = \");\n",
    "        System.out.println(binaryAddition(binary1, binary2));\n",
    "    }\n",
    "}\n",
    "\n",
    "Binary.main(null);"
   ]
  },
  {
   "cell_type": "code",
   "execution_count": 75,
   "metadata": {},
   "outputs": [
    {
     "name": "stdout",
     "output_type": "stream",
     "text": [
      "First Value: 6, Binary Value: 110\n",
      "Second Value: 2, Binary Value: 10\n",
      "6 + 2 = 8\n",
      "110 + 10 = 1000\n"
     ]
    }
   ],
   "source": [
    "import java.util.Scanner;\n",
    "\n",
    "public class Binary {\n",
    "    public static String binaryAddition(String binary1, String binary2){\n",
    "        return Integer.toBinaryString(Integer.parseInt(binary1, 2) + Integer.parseInt(binary2, 2));\n",
    "    }\n",
    "\n",
    "    public static void main(String[] args){\n",
    "        System.out.print(\"First Value: \");\n",
    "        Scanner binary10 = new Scanner(System.in);\n",
    "        String binary1 = binary10.nextLine();\n",
    "        int binary11 = Integer.parseInt(binary1); //convert input string to int\n",
    "        String binary111 = Integer.toBinaryString(binary11); //convert int to binary string\n",
    "        System.out.println(binary1 + \", Binary Value: \" + binary111);\n",
    "\n",
    "        System.out.print(\"Second Value: \");\n",
    "        Scanner binary20 = new Scanner(System.in);\n",
    "        String binary2 = binary20.nextLine();\n",
    "        int binary22 = Integer.parseInt(binary2);\n",
    "        String binary222 = Integer.toBinaryString(binary22);\n",
    "        System.out.println(binary2 + \", Binary Value: \" + binary222);\n",
    "\n",
    "        System.out.print(binary1 + \" + \" + binary2 + \" = \");\n",
    "        System.out.println(binary11 + binary22);\n",
    "\n",
    "        System.out.print(binary111 + \" + \" + binary222 + \" = \");\n",
    "        System.out.println(binaryAddition(binary111, binary222));\n",
    "    }\n",
    "}\n",
    "\n",
    "Binary.main(null);"
   ]
  }
 ],
 "metadata": {
  "kernelspec": {
   "display_name": "Java",
   "language": "java",
   "name": "java"
  },
  "language_info": {
   "codemirror_mode": "java",
   "file_extension": ".jshell",
   "mimetype": "text/x-java-source",
   "name": "java",
   "pygments_lexer": "java",
   "version": "11.0.16.1+1"
  },
  "orig_nbformat": 4
 },
 "nbformat": 4,
 "nbformat_minor": 2
}
