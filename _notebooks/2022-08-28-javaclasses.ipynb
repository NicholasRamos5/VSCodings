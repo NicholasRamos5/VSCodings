{
 "cells": [
  {
   "cell_type": "code",
   "execution_count": 5,
   "metadata": {},
   "outputs": [
    {
     "ename": "CompilationException",
     "evalue": "",
     "output_type": "error",
     "traceback": [
      "\u001b[1m\u001b[30m|   \u001b[1m\u001b[30m    \u001b[0m\u001b[1m\u001b[30m\u001b[41m\"cells\"\u001b[0m\u001b[1m\u001b[30m: [\u001b[0m",
      "\u001b[1m\u001b[31mnot a statement\u001b[0m",
      "",
      "\u001b[1m\u001b[30m|   \u001b[1m\u001b[30m    \"cells\"\u001b[0m\u001b[1m\u001b[30m\u001b[41m\u001b[0m\u001b[1m\u001b[30m: [\u001b[0m",
      "\u001b[1m\u001b[31m';' expected\u001b[0m",
      "",
      "\u001b[1m\u001b[30m|   \u001b[1m\u001b[30m      \u001b[0m\u001b[1m\u001b[30m\u001b[41m\"cell_type\"\u001b[0m\u001b[1m\u001b[30m: \"markdown\",\u001b[0m",
      "\u001b[1m\u001b[31mnot a statement\u001b[0m",
      "",
      "\u001b[1m\u001b[30m|   \u001b[1m\u001b[30m      \"cell_type\"\u001b[0m\u001b[1m\u001b[30m\u001b[41m\u001b[0m\u001b[1m\u001b[30m: \"markdown\",\u001b[0m",
      "\u001b[1m\u001b[31m';' expected\u001b[0m",
      "",
      "\u001b[1m\u001b[30m|   \u001b[1m\u001b[30m      \"metadata\": {}\u001b[0m\u001b[1m\u001b[30m\u001b[41m\u001b[0m\u001b[1m\u001b[30m,\u001b[0m",
      "\u001b[1m\u001b[31millegal start of expression\u001b[0m",
      "",
      "\u001b[1m\u001b[30m|   \u001b[1m\u001b[30m     }\u001b[0m\u001b[1m\u001b[30m\u001b[41m\u001b[0m\u001b[1m\u001b[30m,\u001b[0m",
      "\u001b[1m\u001b[31millegal start of expression\u001b[0m",
      "",
      "\u001b[1m\u001b[30m|   \u001b[1m\u001b[30m      \u001b[0m\u001b[1m\u001b[30m\u001b[41m\"cell_type\"\u001b[0m\u001b[1m\u001b[30m: \"markdown\",\u001b[0m",
      "\u001b[1m\u001b[31mnot a statement\u001b[0m",
      "",
      "\u001b[1m\u001b[30m|   \u001b[1m\u001b[30m      \"cell_type\"\u001b[0m\u001b[1m\u001b[30m\u001b[41m\u001b[0m\u001b[1m\u001b[30m: \"markdown\",\u001b[0m",
      "\u001b[1m\u001b[31m';' expected\u001b[0m",
      "",
      "\u001b[1m\u001b[30m|   \u001b[1m\u001b[30m      \"metadata\": {}\u001b[0m\u001b[1m\u001b[30m\u001b[41m\u001b[0m\u001b[1m\u001b[30m,\u001b[0m",
      "\u001b[1m\u001b[31millegal start of expression\u001b[0m",
      "",
      "\u001b[1m\u001b[30m|   \u001b[1m\u001b[30m     }\u001b[0m\u001b[1m\u001b[30m\u001b[41m\u001b[0m\u001b[1m\u001b[30m,\u001b[0m",
      "\u001b[1m\u001b[31millegal start of expression\u001b[0m",
      ""
     ]
    }
   ],
   "source": [
    "{\n",
    "    \"cells\": [\n",
    "     {\n",
    "      \"cell_type\": \"markdown\",\n",
    "      \"metadata\": {},\n",
    "      \"source\": [\n",
    "       \"# \\\"Java Primitives Notebook\\\"\\n\",\n",
    "       \"> \\\"Captures Key Learnings of Primitives\\\"\\n\",\n",
    "       \"\\n\",\n",
    "       \"- toc: true\\n\",\n",
    "       \"- branch: master\\n\",\n",
    "       \"- badges: true\\n\",\n",
    "       \"- comments: true\\n\",\n",
    "       \"- categories: [KeyLearnings]\"\n",
    "      ]\n",
    "     },\n",
    "     {\n",
    "      \"cell_type\": \"markdown\",\n",
    "      \"metadata\": {},\n",
    "      \"source\": [\n",
    "       \"- Define in a Class the following data types\\n\",\n",
    "       \"- Demonstrate use of Primitives: int, double, boolean, string\\n\",\n",
    "       \"- Demonstrate use of Wrapper Class object: String\\n\",\n",
    "       \"- Describe in comments how each data type choice is appropriate to application\\n\",\n",
    "       \"- Perform arithmetic expressions and assignment in a program code Code.org Lesson\\n\",\n",
    "       \"- Determine what is result is in a variable as a result of an data type and expression (ie integer vs double)\\n\",\n",
    "       \"- Perform an arithmetic expressions that uses casting, add comments that show how it produces desired result. Learn more by watching this College Board video\\n\",\n",
    "       \"- Perform compound assignment operator (ie +=), add comments to describe the result of operator\\n\",\n",
    "       \"\\n\",\n",
    "       \"Code below, Collaborated with Don Tran\"\n",
    "      ]\n",
    "     },\n",
    "    ]\n",
    "    }"
   ]
  }
 ],
 "metadata": {
  "kernelspec": {
   "display_name": "Java",
   "language": "java",
   "name": "java"
  },
  "language_info": {
   "codemirror_mode": "java",
   "file_extension": ".jshell",
   "mimetype": "text/x-java-source",
   "name": "java",
   "pygments_lexer": "java",
   "version": "11.0.16.1+1"
  },
  "orig_nbformat": 4
 },
 "nbformat": 4,
 "nbformat_minor": 2
}
