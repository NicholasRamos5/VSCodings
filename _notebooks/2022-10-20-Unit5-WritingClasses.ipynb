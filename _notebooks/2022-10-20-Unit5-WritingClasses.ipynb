{
 "cells": [
  {
   "cell_type": "code",
   "execution_count": null,
   "metadata": {
    "vscode": {
     "languageId": "java"
    }
   },
   "outputs": [],
   "source": [
    "# \"Unit 5 - Writing Classes\"\n",
    "\n",
    "\n",
    "- toc: true\n",
    "- branch: master\n",
    "- badges: true\n",
    "- comments: true\n",
    "- categories: [college board, java]"
   ]
  },
  {
   "cell_type": "markdown",
   "metadata": {},
   "source": [
    "## Vocab"
   ]
  },
  {
   "cell_type": "markdown",
   "metadata": {},
   "source": [
    "### Creating a Class\n",
    "\n",
    "Classes can be created by using the keyword \"class\",followed by defining the class name starting with a single uppercase letter (known as CamelCase).\n",
    "\n",
    "Format:"
   ]
  },
  {
   "cell_type": "code",
   "execution_count": null,
   "metadata": {
    "vscode": {
     "languageId": "java"
    }
   },
   "outputs": [],
   "source": [
    "class ClassName {\n",
    "    // code\n",
    "}"
   ]
  },
  {
   "cell_type": "markdown",
   "metadata": {},
   "source": [
    "### Constructor\n",
    "\n",
    "- Special method used to initialize objects\n",
    "\n",
    "- Constructor does not return anything because it's not called directly by the code, it's called by the memory allocation and object initialization code in the runtime. Its return value (if it actually has one when compiled down to machine code) is opaque to the user - therefore, you can't specify it."
   ]
  },
  {
   "cell_type": "code",
   "execution_count": 2,
   "metadata": {
    "vscode": {
     "languageId": "java"
    }
   },
   "outputs": [
    {
     "name": "stdout",
     "output_type": "stream",
     "text": [
      "5\n"
     ]
    }
   ],
   "source": [
    "// Create a Main class\n",
    "public class Main {\n",
    "    int x;  // Create a class attribute\n",
    "  \n",
    "    // Create a class constructor for the Main class\n",
    "    public Main() {\n",
    "      x = 5;  // Set the initial value for the class attribute x\n",
    "    }\n",
    "  \n",
    "    public static void main(String[] args) {\n",
    "      Main myObj = new Main(); // Create an object of class Main (This will call the constructor)\n",
    "\n",
    "      System.out.println(myObj.x); // Print the value of x\n",
    "    }\n",
    "  }\n",
    "  \n",
    "  Main.main(null);\n",
    "  // Outputs 5"
   ]
  },
  {
   "cell_type": "markdown",
   "metadata": {},
   "source": [
    "### Accessor Methods\n",
    "\n",
    "- return the value of a private variable\n",
    "\n",
    "- gives other classes access to that value stored in that variable, without having direct access to  the variable itself \n",
    "\n",
    "- Accessor methods take no parameters and have a return type that matches the type of the variable they are accessing."
   ]
  },
  {
   "cell_type": "markdown",
   "metadata": {},
   "source": [
    "### Mutator Methods\n",
    "\n",
    "- reset the value of a private variable\n",
    "\n",
    "- gives other classes the ability to modify the value stored in that variable without having direct access to the variable itself\n",
    "\n",
    "- take one parameter whose type matches the type of the variable it is modifying\n",
    "\n",
    "-  always have a return type of whatever data field is being retrieved"
   ]
  },
  {
   "cell_type": "markdown",
   "metadata": {},
   "source": [
    "### Static Variables\n",
    "\n",
    "- also called class variables, as they belong to the class and not a particular instance \n",
    "\n",
    "- "
   ]
  },
  {
   "cell_type": "code",
   "execution_count": 4,
   "metadata": {
    "vscode": {
     "languageId": "java"
    }
   },
   "outputs": [
    {
     "name": "stdout",
     "output_type": "stream",
     "text": [
      "Value of a = 0\n",
      "Value of b = 1\n",
      "Value of a = 0\n",
      "Value of b = 2\n"
     ]
    }
   ],
   "source": [
    "public class Demo{\n",
    "    public static void main(String args[]){\n",
    "      Student s1 = new Student();\n",
    "      s1.showData();\n",
    "      Student s2 = new Student();\n",
    "      s2.showData();\n",
    "      //Student.b++;\n",
    "      //s1.showData();\n",
    "   }\n",
    " }\n",
    " \n",
    " class Student {\n",
    " int a; //initialized to zero\n",
    " static int b; //initialized to zero only when class is loaded not for each object created.\n",
    " \n",
    "   Student(){\n",
    "    //Constructor incrementing static variable b\n",
    "    b++;\n",
    "   }\n",
    " \n",
    "    public void showData(){\n",
    "       System.out.println(\"Value of a = \"+a);\n",
    "       System.out.println(\"Value of b = \"+b);\n",
    "    }\n",
    " //public static void increment(){\n",
    " //a++;\n",
    " //}\n",
    " \n",
    " }\n",
    "\n",
    " Demo.main(null);"
   ]
  },
  {
   "cell_type": "markdown",
   "metadata": {},
   "source": [
    "### Access Modifiers (Public, Private, Protected)\n",
    "\n",
    "- Public - can be accessed within and outside of class\n",
    "\n",
    "- Private - can only be accessed within the class\n",
    "\n",
    "- Protected - can be accessed by all classes in the package and all subclass outside of the package\n"
   ]
  },
  {
   "cell_type": "code",
   "execution_count": 5,
   "metadata": {
    "vscode": {
     "languageId": "java"
    }
   },
   "outputs": [],
   "source": [
    "public class example{\n",
    "    int add(int a, int b){\n",
    "         return a+b;\n",
    "    }\n",
    "}"
   ]
  },
  {
   "cell_type": "code",
   "execution_count": 6,
   "metadata": {
    "vscode": {
     "languageId": "java"
    }
   },
   "outputs": [],
   "source": [
    "public class Addition{\n",
    "    protected int addTwo(int a, int b){\n",
    "        return a+b;\n",
    "    }\n",
    "}\n",
    "class Test extends Addition{\n",
    "     public static void main(String args[]){\n",
    "          Test obj = new Test();\n",
    "     }\n",
    "}"
   ]
  },
  {
   "cell_type": "code",
   "execution_count": null,
   "metadata": {
    "vscode": {
     "languageId": "java"
    }
   },
   "outputs": [],
   "source": [
    "class outside{\n",
    "    private int = 10;\n",
    "    private int square(int a){ \n",
    "         return a*a;\n",
    " }\n",
    "}\n",
    "public class inside{\n",
    "    public static void main(String args[]){\n",
    "       outside obj. = new outside();\n",
    "   }\n",
    "}"
   ]
  },
  {
   "cell_type": "markdown",
   "metadata": {},
   "source": [
    "### Static Methods & Class Methods\n",
    "\n",
    "- part of the class, rather than each object (static properties and methods)\n",
    "\n",
    "- static methods do not require an object\n",
    "\n",
    "- static properties only have one instance, which is the same for all objects"
   ]
  },
  {
   "cell_type": "markdown",
   "metadata": {},
   "source": [
    "### this Keyword\n",
    "\n",
    "- allows you to access properties of the class"
   ]
  },
  {
   "cell_type": "code",
   "execution_count": 10,
   "metadata": {
    "vscode": {
     "languageId": "java"
    }
   },
   "outputs": [
    {
     "name": "stdout",
     "output_type": "stream",
     "text": [
      "Value of x = 5\n"
     ]
    }
   ],
   "source": [
    "public class Main {\n",
    "    int x;\n",
    "  \n",
    "    // Constructor with a parameter\n",
    "    public Main(int x) {\n",
    "      this.x = x;\n",
    "    }\n",
    "  \n",
    "    // Call the constructor\n",
    "    public static void main(String[] args) {\n",
    "      Main myObj = new Main(5);\n",
    "      System.out.println(\"Value of x = \" + myObj.x);\n",
    "    }\n",
    "  }\n",
    "\n",
    "  Main.main(null);"
   ]
  },
  {
   "cell_type": "markdown",
   "metadata": {},
   "source": [
    "### Main Method & Tester Method\n",
    "\n",
    "- used to test a class, is automatically called when class ran\n",
    "\n",
    "- usually creates an object and can test methods\n",
    "\n",
    "- mostly used as a tester method for classes\n",
    "\n",
    "- To execute the main portion of the code, a Main class with a main method is normally reserved which handles most of the executions of the code."
   ]
  },
  {
   "cell_type": "markdown",
   "metadata": {},
   "source": [
    "### Inheritance & Extends \n",
    "\n",
    "- Inheritance: a way for attributes and methods to be inherited from one class to another\n",
    "\n",
    "- Extends: allows you to bring those attributes over from one class to another"
   ]
  },
  {
   "cell_type": "markdown",
   "metadata": {},
   "source": [
    "### Subclass Constructor, Super Keyword\n",
    "\n",
    "- subclass inherits all the members from the superclass \n",
    "    - the constructor of the superclass can be invoked from the subclass\n",
    "- super keyword: refers to superclass objects \n",
    "    - used to call superclass methods and to access the superclass constructor"
   ]
  },
  {
   "cell_type": "code",
   "execution_count": 11,
   "metadata": {
    "vscode": {
     "languageId": "java"
    }
   },
   "outputs": [],
   "source": [
    "// Super Class\n",
    "public class Animal {\n",
    "\n",
    "\tprivate boolean vegetarian;\n",
    "\n",
    "\tprivate String eats;\n",
    "\n",
    "\tprivate int noOfLegs;\n",
    "\n",
    "\tpublic Animal(){}\n",
    "\n",
    "\tpublic Animal(boolean veg, String food, int legs){\n",
    "\t\tthis.vegetarian = veg;\n",
    "\t\tthis.eats = food;\n",
    "\t\tthis.noOfLegs = legs;\n",
    "\t}\n",
    "\n",
    "\tpublic boolean isVegetarian() {\n",
    "\t\treturn vegetarian;\n",
    "\t}\n",
    "\n",
    "\tpublic void setVegetarian(boolean vegetarian) {\n",
    "\t\tthis.vegetarian = vegetarian;\n",
    "\t}\n",
    "\n",
    "\tpublic String getEats() {\n",
    "\t\treturn eats;\n",
    "\t}\n",
    "\n",
    "\tpublic void setEats(String eats) {\n",
    "\t\tthis.eats = eats;\n",
    "\t}\n",
    "\n",
    "\tpublic int getNoOfLegs() {\n",
    "\t\treturn noOfLegs;\n",
    "\t}\n",
    "\n",
    "\tpublic void setNoOfLegs(int noOfLegs) {\n",
    "\t\tthis.noOfLegs = noOfLegs;\n",
    "\t}\n",
    "\n",
    "}"
   ]
  },
  {
   "cell_type": "code",
   "execution_count": 12,
   "metadata": {
    "vscode": {
     "languageId": "java"
    }
   },
   "outputs": [],
   "source": [
    "// SubClass\n",
    "public class Cat extends Animal{\n",
    "\n",
    "\tprivate String color;\n",
    "\n",
    "\tpublic Cat(boolean veg, String food, int legs) {\n",
    "\t\tsuper(veg, food, legs);\n",
    "\t\tthis.color=\"White\";\n",
    "\t}\n",
    "\n",
    "\tpublic Cat(boolean veg, String food, int legs, String color){\n",
    "\t\tsuper(veg, food, legs);\n",
    "\t\tthis.color=color;\n",
    "\t}\n",
    "\n",
    "\tpublic String getColor() {\n",
    "\t\treturn color;\n",
    "\t}\n",
    "\n",
    "\tpublic void setColor(String color) {\n",
    "\t\tthis.color = color;\n",
    "\t}\n",
    "\n",
    "}"
   ]
  },
  {
   "cell_type": "markdown",
   "metadata": {},
   "source": [
    "### Overloading a method\n",
    "\n",
    "- same name, different parameters\n",
    "\n",
    "- a feature in java, which allows a class to have more than one method with the same name \n",
    "\n",
    "- ideal when you want to have two methods that essentially do the same thing"
   ]
  },
  {
   "cell_type": "code",
   "execution_count": null,
   "metadata": {
    "vscode": {
     "languageId": "java"
    }
   },
   "outputs": [],
   "source": [
    "class CalculateSquare\n",
    " { \n",
    "public void square()\n",
    " { \n",
    "System.out.println(\"No Parameter Method Called\");\n",
    " } \n",
    "public int square( int number )\n",
    " {\n",
    "int square = number * number;\n",
    "System.out.println(\"Method with Integer Argument Called:\"+square); \n",
    "}\n",
    "public float square( float number ) \n",
    "{\n",
    " float square = number * number;\n",
    " System.out.println(\"Method with float Argument Called:\"+square); \n",
    "}\n",
    "public static void main(String[] args)\n",
    "  {\n",
    "    CalculateSquare obj = new CalculateSquare();\n",
    "    obj.square();\n",
    "    obj.square(5);   \n",
    "    obj.square(2.5);   \n",
    "  }\n",
    " }"
   ]
  },
  {
   "cell_type": "markdown",
   "metadata": {},
   "source": [
    "### Overriding a method \n",
    "\n",
    "- same signature of a method\n",
    "\n",
    "- occurs when a subclass has the same method as the parent class\n",
    "\n",
    "- subclass provides a particular implementation of a method declared by one of its parent classes"
   ]
  },
  {
   "cell_type": "code",
   "execution_count": 14,
   "metadata": {
    "vscode": {
     "languageId": "java"
    }
   },
   "outputs": [],
   "source": [
    "// A Simple Java program to demonstrate\n",
    "// Overriding and Access-Modifiers\n",
    "  \n",
    "class Parent {\n",
    "    // private methods are not overridden\n",
    "    private void m1()\n",
    "    {\n",
    "        System.out.println(\"From parent m1()\");\n",
    "    }\n",
    "  \n",
    "    protected void m2()\n",
    "    {\n",
    "        System.out.println(\"From parent m2()\");\n",
    "    }\n",
    "}\n",
    "  \n",
    "class Child extends Parent {\n",
    "    // new m1() method\n",
    "    // unique to Child class\n",
    "    private void m1()\n",
    "    {\n",
    "        System.out.println(\"From child m1()\");\n",
    "    }\n",
    "  \n",
    "    // overriding method\n",
    "    // with more accessibility\n",
    "    @Override\n",
    "    public void m2()\n",
    "    {\n",
    "        System.out.println(\"From child m2()\");\n",
    "    }\n",
    "}\n",
    "  \n",
    "// Driver class\n",
    "class Main {\n",
    "    public static void main(String[] args)\n",
    "    {\n",
    "        Parent obj1 = new Parent();\n",
    "        obj1.m2();\n",
    "        Parent obj2 = new Child();\n",
    "        obj2.m2();\n",
    "    }\n",
    "}"
   ]
  },
  {
   "cell_type": "markdown",
   "metadata": {},
   "source": [
    "### Abstract Class & Abstract Method\n",
    "\n",
    "- abstract class: cannot be instantiated, but can be subclassed\n",
    "- abstract method: a method that has just the method definition, but does not contain implementation"
   ]
  },
  {
   "cell_type": "code",
   "execution_count": 15,
   "metadata": {
    "vscode": {
     "languageId": "java"
    }
   },
   "outputs": [],
   "source": [
    "abstract class Animal {\n",
    "    public abstract void animalSound();\n",
    "    public void sleep() {\n",
    "      System.out.println(\"Zzz\");\n",
    "    }\n",
    "  }\n",
    "  "
   ]
  },
  {
   "cell_type": "markdown",
   "metadata": {},
   "source": [
    "### Standard Methods\n",
    "\n",
    "- blocks of code that can be called from another location in the program or class\n",
    "\n",
    "- toString(): returns the given value in string format\n",
    "\n",
    "- equals(): compares two strings, true if equal\n",
    "\n",
    "- hashCode(): returns an integer value generated by a hashing algorithm"
   ]
  },
  {
   "cell_type": "markdown",
   "metadata": {},
   "source": [
    "### Late Binding of an Object\n",
    "\n",
    "- referencing superclass object\n",
    "    - ie Animal a = new Chicken(); Animal b = new Goat();\n",
    "- the compiler should perform no argument checks and no type checks on a method class\n",
    "    - should leave it all to the runtime"
   ]
  },
  {
   "cell_type": "code",
   "execution_count": 16,
   "metadata": {
    "vscode": {
     "languageId": "java"
    }
   },
   "outputs": [],
   "source": [
    "// dynamic binding\n",
    "\n",
    "class Animal{  \n",
    "    void eat(){System.out.println(\"animal is eating...\");}  \n",
    "   }  \n",
    "     \n",
    "   class Dog extends Animal{  \n",
    "    void eat(){System.out.println(\"dog is eating...\");}  \n",
    "     \n",
    "    public static void main(String args[]){  \n",
    "     Animal a=new Dog();  \n",
    "     a.eat();  \n",
    "    }  \n",
    "   }  "
   ]
  },
  {
   "cell_type": "markdown",
   "metadata": {},
   "source": [
    "### Polymorphism\n",
    "\n",
    "- any of overloading, overriding, late binding\n",
    "\n",
    "- the ability of a class to provide different implementations of a method\n",
    "\n",
    "- allows the ability to perform one thing in a variety of formats"
   ]
  },
  {
   "cell_type": "code",
   "execution_count": 17,
   "metadata": {
    "vscode": {
     "languageId": "java"
    }
   },
   "outputs": [],
   "source": [
    "class Animal {\n",
    "    public void animalSound() {\n",
    "      System.out.println(\"The animal makes a sound\");\n",
    "    }\n",
    "  }\n",
    "  \n",
    "  class Pig extends Animal {\n",
    "    public void animalSound() {\n",
    "      System.out.println(\"The pig says: wee wee\");\n",
    "    }\n",
    "  }\n",
    "  \n",
    "  class Dog extends Animal {\n",
    "    public void animalSound() {\n",
    "      System.out.println(\"The dog says: bow wow\");\n",
    "    }\n",
    "  }"
   ]
  },
  {
   "cell_type": "markdown",
   "metadata": {},
   "source": [
    "### Big O notation \n",
    "\n",
    "- for Hash map, Binary Search, Single loop, Nested Loop\n",
    "\n",
    "- describes the set of algorithms that run worse, better, or at a certain given speed\n",
    "\n",
    "- represents the number of operations performed\n"
   ]
  }
 ],
 "metadata": {
  "kernelspec": {
   "display_name": "Java",
   "language": "java",
   "name": "java"
  },
  "language_info": {
   "codemirror_mode": "java",
   "file_extension": ".jshell",
   "mimetype": "text/x-java-source",
   "name": "Java",
   "pygments_lexer": "java",
   "version": "11.0.16.1+1"
  },
  "orig_nbformat": 4
 },
 "nbformat": 4,
 "nbformat_minor": 2
}
