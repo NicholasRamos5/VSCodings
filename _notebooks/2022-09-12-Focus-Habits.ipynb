{
 "cells": [
  {
   "cell_type": "markdown",
   "metadata": {},
   "source": [
    "# \"Focus and Habits\"\n",
    "\n",
    "\n",
    "- toc: true\n",
    "- branch: master\n",
    "- badges: true\n",
    "- comments: true\n",
    "- categories: [pbl, college board, java]"
   ]
  },
  {
   "cell_type": "markdown",
   "metadata": {},
   "source": [
    "## Yale Video Takeaway\n",
    "\n",
    "Laurie Santos’s speech on her new course in Yale Psychology and the Good Life talks about the mental struggles and issues that many people face in their day to day lives. Specifically, she talks about the younger generation, including undergraduates, high school students, and even middle school students. She focuses on how much mental health is important and is lacking for these groups. She also provides methods for increasing overall life happiness. Here are some key ideas from the video:\n",
    "\n",
    "Money doesn't buy happiness. While it may sound cliche, studies find that it's true. Unless you're living under the national poverty line, and increase in salary does not directly equate to an increase in mental health. People have this false perception that if they just had more money, they would be happier in life. In reality, this increase in money does not allow you anything besides buying a nicer car or a bigger house, which both have nothing to do with how happy a person is. \n",
    "\n",
    "Free time is important. Many students are filled with work and things that make them busy. This can cause a great deal of stress in one's life. It is necessary for one's mental health and well being to have time to relax and enjoy the moment. This is why practices such as meditation are so beneficial, as they allow one to take the time and release life stress. \n",
    "\n",
    "Spending time socializing is helpful for a healthy mentality. While some people may feel as their time is best spent alone, it is a fact that happier people socialize more, and people who spend time by themselves tend to be less happy in life. Socializing does not mean social media or using the internet/phone. That creates the false reality of socialization, which does not benefit one as much as real life human interaction does.   \n",
    "\n",
    "Spending time in the present is often overlooked. Without realizing it, many people often carry out their daily tasks while subconsciously having their mind elsewhere. Even if its a boring task you're doing, such as work, it helps you to be in the moment and focus on it. This kind of mentality helps people feel more grateful for their lives and what they have. It shows people that it matters not where they were yesterday, not where they'll be tomorrow, but where they are now in life and what they have accomplish and can accomplish for themselves. \n",
    "\n",
    "Sleep is key. This is an issue especially for many high schools students, who tend to not get enough sleep at night. While sleep is beneficial for your physical health, it is especially important for your mental health. Getting a good nights sleep allows you to be productive, happy, and healthy during the day. It relieves the stress and allows you to feel more at peace and relaxed with your life. \n",
    "\n",
    "## Goals for School\n",
    "\n",
    "The mindset describes in the video is important for my personal life. I need to be able to work efficiently enough, providing myself with enough free time to spend relaxing, and enough time to sleep. My work conduct in school directly correlates to my stress levels. When I don't get work done at school, I have to spend personal time getting it done at home. With procrastination, I feel as if I am overwhelmed with work, which can be easily avoided. \n",
    "\n",
    "This school year, I plan to lessen my procrastination and increase my focus while working in school. Whether that be by working together with others, or just sitting down and getting it done, I want to be able to make something of myself this year, and ease off on my stress every night. \n",
    "\n",
    "## CSA\n",
    "\n",
    "In this class specifically, I have recently been struggling a lot with my work conduct. When it's time to code code code, I often find my mind wandering off, leaving myself with little to no work done at the end of class. This may be a direct result of my lack of sleep. Overall, my goal is to get more work done every day and feel motivated every morning when I walk into class. \n",
    "\n",
    "## Being Grateful \n",
    "\n",
    "Laurie Santos touched on the importance of being grateful for what you have in life. I would like to practice that and make it a habit to remind myself of the good things I have amongst all the stress I may feel. \n",
    "\n",
    "I am grateful for being able to attend such a nice and privileged school\n",
    "I am grateful for having supporting parents who made me who I am today\n",
    "I am grateful for the friends I have that get me through the day\n",
    "I am grateful for all the opportunities I have in life to make something of myself"
   ]
  }
 ],
 "metadata": {
  "kernelspec": {
   "display_name": "Java",
   "language": "java",
   "name": "java"
  },
  "language_info": {
   "name": "java"
  },
  "orig_nbformat": 4
 },
 "nbformat": 4,
 "nbformat_minor": 2
}
