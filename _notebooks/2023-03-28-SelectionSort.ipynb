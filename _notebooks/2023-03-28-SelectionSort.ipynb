{
 "cells": [
  {
   "cell_type": "code",
   "execution_count": 8,
   "metadata": {
    "vscode": {
     "languageId": "java"
    }
   },
   "outputs": [
    {
     "name": "stdout",
     "output_type": "stream",
     "text": [
      "Sorted array:\n",
      "11 12 22 25 64 "
     ]
    }
   ],
   "source": [
    "public class SelectionSort {\n",
    "\n",
    "    public static void selectionSort(int[] arr) {\n",
    "        int n = arr.length;\n",
    "\n",
    "        // One by one move boundary of unsorted subarray\n",
    "        for (int i = 0; i < n - 1; i++) {\n",
    "\n",
    "            // Find the minimum element in unsorted array\n",
    "            int minIndex = i;\n",
    "            for (int j = i + 1; j < n; j++) {\n",
    "                if (arr[j] < arr[minIndex]) {\n",
    "                    minIndex = j;\n",
    "                }\n",
    "            }\n",
    "\n",
    "            // Swap the found minimum element with the first element\n",
    "            int temp = arr[minIndex];\n",
    "            arr[minIndex] = arr[i];\n",
    "            arr[i] = temp;\n",
    "        }\n",
    "    }\n",
    "\n",
    "    public static void main(String[] args) {\n",
    "        int[] arr = { 64, 25, 12, 22, 11 };\n",
    "        selectionSort(arr);\n",
    "        System.out.println(\"Sorted array:\");\n",
    "        for (int i = 0; i < arr.length; ++i) {\n",
    "            System.out.print(arr[i] + \" \");\n",
    "        }\n",
    "    }\n",
    "}\n",
    "SelectionSort.main(null);"
   ]
  }
 ],
 "metadata": {
  "kernelspec": {
   "display_name": "Java",
   "language": "java",
   "name": "java"
  },
  "language_info": {
   "codemirror_mode": "java",
   "file_extension": ".jshell",
   "mimetype": "text/x-java-source",
   "name": "Java",
   "pygments_lexer": "java",
   "version": "11.0.16.1+1"
  },
  "orig_nbformat": 4
 },
 "nbformat": 4,
 "nbformat_minor": 2
}
