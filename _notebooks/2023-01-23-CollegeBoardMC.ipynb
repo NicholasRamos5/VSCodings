{
 "cells": [
  {
   "attachments": {},
   "cell_type": "markdown",
   "metadata": {},
   "source": [
    "# \"College Board MC - Timed 66 Questions\"\n",
    "\n",
    "\n",
    "- toc: true\n",
    "- branch: master\n",
    "- badges: true\n",
    "- comments: true\n",
    "- categories: [college board, java]"
   ]
  },
  {
   "attachments": {},
   "cell_type": "markdown",
   "metadata": {},
   "source": [
    "Final Score: 59/66\n",
    "\n",
    "\n",
    "Time: 2 hours 45 minutes"
   ]
  },
  {
   "attachments": {},
   "cell_type": "markdown",
   "metadata": {},
   "source": [
    "Test Corrections:\n",
    "\n",
    "Question 13:\n",
    "\n",
    "Question 17:\n",
    "\n",
    "Question 23:\n",
    "\n",
    "Question 39:\n",
    "\n",
    "Question 40:\n",
    "\n",
    "Question 56:\n",
    "\n",
    "Question 61:\n"
   ]
  },
  {
   "attachments": {},
   "cell_type": "markdown",
   "metadata": {},
   "source": [
    "Reflection:\n",
    "\n",
    "## Reflection\n",
    "\n",
    "Overall, on this mc, I believe hearing from the perspective of two people who actually work with computer science or tech-related projects in their day to day lives was quite interesting. First of all, it opened my eyes and really showed me how the things we learn in the classroom can be applied in the real world. Knowing that I am not just doing this class for a grade, but rather for life preparing allows me to understand the importance of what we do everyday. \n",
    "\n",
    "Something that stood out to me is the emphasis on the fact that neither Kathleen Beveridge nor Kris Porter do now what they planned on doing in highschool. It's good to know that in life, people are able to fluctuate, and move around in regards to business opportunities. It can be especially stressful for many high schoolers to figure out what they want to do with their lives and how they want to make a living. Knowing that whatever we choose to major in in college is not the end all be all is relieving.\n",
    "\n",
    "I recall Ms. Beveridge talking about one of her common interview questions. She said that she would tell her interviewee to imagine that they were in a room with no technology, and only a pen and paper. How many cars were sold in the US last year? While this seemed like a bizarre question, I found it interesting how much she cared about how someone analyzes a problem, and reaches a solution. This represents the value of not only critical thinking skills in the real world, but also one's ability to share their thought process with others. If you think about it, having that quality is crucial if you're going to work in a business with other people. You need to be able to figure out issues and communicate your thoughts with your colleagues. \n",
    "\n",
    "One student asked a question regarding agile methodology. The experts' answers revolved around the idea of communicating with your peers and getting tasks done. In the words of Kathleen Beveridge, \"gone are the days where you try to get a project done in six months\". She goes on to explain that companies are valuing shorter, faster paced projects that may take only three months or less. This is only a result of coworkers being able to collaborate and bounce their works off of each other. \n",
    "\n",
    "I received good insight from both experts, especially Kris Porter, who touched upon his career journey and how he partook in a variety of different jobs and multiple companies. Firstly, this provides a different perspective, compared to people who have spent that last 20+ years climbing the seniority ladder at one company. Also, in elaborating on how he played a role in different company projects, Porter explained to us how these technical skills we're learning right now can be applied to real company issues. \n",
    "\n",
    "One of the questions asked was about the most important skill one could have in the tech industry. Both of the experts referred to this idea of continuous learning, and emphasized the importance of being able to adapt to your environment. Contrary to many other subjects, computer science and the tech industry require people to be ready to learn new things, even if they are already really good at what they do. As Kris Porter spoke about, this is because different companies have their own ways of dong things and their own websites/ systems to carry out projects. \n",
    "\n",
    "Lastly, Beveridge talked about the importance of technical skills, even if one is not pursuing a career in software engineering. For example, she explained that skills learned in cs classes can help people understand algorithms, patterns, and analytics, which are useful skills to have for a finance career. \n",
    "\n",
    "At the end of the day, \"surfing does not pay the bills\". While it is important for people to do what they love in life, it is also crucial that one is able to support themselves and survive. A great way to do this is through the tech industry in today's day and age. Hearing these two experts speak on their experiences today really helped me understand the necessary skill sets needed to land a job in tech. As I get closer and closer to applying for colleges, I am slowly warming up to the idea of creating a career for myself in the software development industry.  "
   ]
  }
 ],
 "metadata": {
  "kernelspec": {
   "display_name": "Java",
   "language": "java",
   "name": "java"
  },
  "language_info": {
   "name": "java"
  },
  "orig_nbformat": 4
 },
 "nbformat": 4,
 "nbformat_minor": 2
}
