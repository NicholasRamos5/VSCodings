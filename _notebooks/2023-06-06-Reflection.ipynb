{
 "cells": [
  {
   "attachments": {},
   "cell_type": "markdown",
   "metadata": {},
   "source": [
    "# \"APCSA Reflection\"\n",
    "\n",
    "- toc: true\n",
    "- branch: master\n",
    "- badges: true\n",
    "- comments: true\n",
    "- categories: [college board, java]"
   ]
  },
  {
   "attachments": {},
   "cell_type": "markdown",
   "metadata": {},
   "source": [
    "## Skills I Have Obtained\n",
    "\n",
    "During this year in AP Computer Science A, I learned a great deal of coding principles. Since I never took APCSP, at the beginning of the year, I felt that I was behind everyone else in terms of knowledge. However, this class was pretty useful in teaching me the fundamentals of Java Javascript, HTML, and CSS. I was able to adequately prepare for the AP test, which covered concepts concerning control structures, methods, arrays, arraylists, and classes. I was also able to learn about concepts such as booleans, for loops, recursion, sorts, and so much more. However, I feel that I benefited from this class more than just learning computer science. This was the first class I’ve taken that was structured much differently than the rest. Rather than simply completing assignments and turning them in, I had to be able to speak about my work. Almost every week, I needed to be able to thoroughly explain my work to the teacher. Not only did this allow me to gain a better understanding of what I did, but it forced me to become better at speaking, in terms of work. I feel that this class will have better prepared me for my future career than any other class I’ve taken. Skills such as open ended interpretation, group collaboration, time management, and speaking were all great focuses this year. These skills will be extremely useful to have later on in life. \n",
    "\n",
    "## Highs and Lows from the Year\n",
    "Throughout the course of this year, there were times during which I have struggled with the course content. I found myself falling in the loop of waiting to do everything on Sunday night before Monday’s live review. This was extremely detrimental to my mental health. I often got little to no sleep, trying to cram in the work that I had no clue how to do. If I had just worked throughout the week, asking my peers for assistance when needed, I wouldn’t have to endure the consequences. But I continued to procrastinate, week after week, feeling overwhelmed and stressed out. I believe it was only around trimester three that I was able to break out of this cycle. However, this year was not solely filled with negative experiences. I enjoyed many activities, including learning units from other students, Nights at the Museum, and being able to work on Mario with a group of people whom I enjoyed working with. Through student-led lessons, I was able to really hone in on the fundamentals of java by completing their assignments. I always had a great time at Night at the Museum each trimester, being able to show off my group’s work to others, and getting the chance to see the cool projects other students had been working on. Finally, Mario was the first project that I actually felt motivated to work on. I really enjoyed creating something that I was interested in. \n",
    "\n",
    "## Future Plans with CompSci\n",
    "\n",
    "As for my future in Computer Science, I hope to pursue a computer science field of study in college. I want to spend my time in college improving my CS skills in order to be able to obtain a job in the software industry when I graduate. I feel that this career provides a great deal of comfortability, flexibility, creativity, and compensation. I know I did not possess the strongest technical skills this year, so I would like to focus on that and become a stronger coder as my education advances. \n",
    "\n",
    "## Future Plans in Education/Career\n",
    "\n",
    "No matter what I end up getting a job in after college, I hope to maintain and improve the valuable skills I learned this year in this class. I want to be able to thoroughly speak about my work to others. More importantly, I would like to be able to work with others, be creative, and manage my work time wisely. This way, I feel that I will be able to possess a strong sense of work-life balance in my future, whether that be working as a software engineer, data scientist, or any other profession. \n",
    "\n",
    "## Valuable Insight\n",
    "\n",
    "On another note, I feel that this class was extremely useful in terms of the talks we were given by the teacher. During stand up meetings, tech talks, or even during live reviews, we, as students, were often given solid information that wouldn’t be given to us by teachers in other classes. One instance of this was the use of ChatGPT. While many teachers look at the use of AI as cheating, or academically dishonest, we were taught in Comp Sci that AI and plain old google were helpful tools in completing our tasks and learning new information. During a group live review, we were told that people need to be able to adapt to changes in life. Somebody who sticks to their old ways and refuses to change not going places. They’re going to fail miserably, because the truth is that our resources are constantly changing. It is up to us to make sure we’re using what we have at our disposal to the best of its ability. Somebody who is able to change their ways, and act more efficiently, is going to succeed and make it far in life, no matter their field. ChatGPT is a prime example of our resources changing, and we need to embrace the new ways, not shy away from them. I am thankful to have received such valuable insight in AP Computer Science A. \n"
   ]
  }
 ],
 "metadata": {
  "language_info": {
   "name": "python"
  },
  "orig_nbformat": 4
 },
 "nbformat": 4,
 "nbformat_minor": 2
}
