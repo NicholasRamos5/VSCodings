{
 "cells": [
  {
   "cell_type": "markdown",
   "metadata": {},
   "source": [
    "# \"Unit 4 - Iteration\"\n",
    "\n",
    "\n",
    "- toc: true\n",
    "- branch: master\n",
    "- badges: true\n",
    "- comments: true\n",
    "- categories: [college board, java]"
   ]
  },
  {
   "cell_type": "markdown",
   "metadata": {},
   "source": [
    "## Iteration \n",
    "- is a pretty important topic\n",
    "\n",
    "- A way to simply code that otherwise would be repeated many times\n",
    "\n",
    "- Loops: While loops, For loops, Recursion\n",
    "\n",
    "- each loop, you use an operator\n",
    "\n",
    "    ex: increment and decrement operator \n",
    "\n",
    "## While loops\n",
    "- while a condition is met, something will keep recurring \n",
    "- loop will stop when condition is no longer satisfied\n",
    "\n",
    "- forever loops\n",
    "\n",
    "## For loop\n",
    "- a sequence that runs as long as a condition is met\n",
    "- stops when the condtion is no longer met \n",
    "\n",
    "- similar to while loop, but difference = ???\n",
    "\n",
    "- Increment loops\n",
    "\n",
    "\n",
    "## Recursion loop\n",
    "- is placed in your own function, rather than creating its own function \n",
    "- restate the function \n",
    "\n",
    "## Nested iteration \n",
    "- not a java method\n",
    "- technique used by coders to help simplify code\n",
    "- put a loop inside of a loop\n",
    "- can utilize any of the three mentioned loop types\n",
    "\n",
    "\n",
    "## Do while loop\n",
    "- runs at least once initially no matter what\n",
    "\n"
   ]
  },
  {
   "cell_type": "markdown",
   "metadata": {},
   "source": [
    "## For Loop Example"
   ]
  },
  {
   "cell_type": "code",
   "execution_count": 22,
   "metadata": {
    "vscode": {
     "languageId": "java"
    }
   },
   "outputs": [
    {
     "name": "stdout",
     "output_type": "stream",
     "text": [
      "0 1 2 3 4 5 "
     ]
    }
   ],
   "source": [
    "\n",
    "for (int i=0; i <= 5 ; i++) {\n",
    "    System.out.print(i + \" \");\n",
    "}"
   ]
  },
  {
   "cell_type": "markdown",
   "metadata": {},
   "source": [
    "## While Loop Example"
   ]
  },
  {
   "cell_type": "code",
   "execution_count": 26,
   "metadata": {
    "vscode": {
     "languageId": "java"
    }
   },
   "outputs": [
    {
     "name": "stdout",
     "output_type": "stream",
     "text": [
      "0 1 2 3 4 5 "
     ]
    }
   ],
   "source": [
    "int i = 0;\n",
    "while (i <= 5) {\n",
    "    System.out.print(i + \" \");\n",
    "\n",
    "    i++;\n",
    "}"
   ]
  },
  {
   "cell_type": "markdown",
   "metadata": {},
   "source": [
    "## Recursion Loop Example"
   ]
  },
  {
   "cell_type": "code",
   "execution_count": 7,
   "metadata": {
    "vscode": {
     "languageId": "java"
    }
   },
   "outputs": [
    {
     "name": "stdout",
     "output_type": "stream",
     "text": [
      "61 is greater than 25\n"
     ]
    }
   ],
   "source": [
    " \n",
    "        double a = (1 + Math.random() * 100);\n",
    "        int b = ((int) Math.floor(a));\n",
    "        //generates a random double between 1 and 100\n",
    "        //makes that double into an integer\n",
    "\n",
    "        double c = (1 + Math.random() * 100);\n",
    "        int d = ((int) Math.floor(c));\n",
    "\n",
    "    if(b > d) {\n",
    "        System.out.println(b + \" is greater than \" + d);\n",
    "    }\n",
    "\n",
    "    else if(d > b) {\n",
    "        System.out.println(d + \" is greater than \" + b);\n",
    "    }\n",
    "\n"
   ]
  },
  {
   "cell_type": "markdown",
   "metadata": {},
   "source": [
    "## Nested Loop Example"
   ]
  },
  {
   "cell_type": "code",
   "execution_count": 4,
   "metadata": {
    "vscode": {
     "languageId": "java"
    }
   },
   "outputs": [
    {
     "name": "stdout",
     "output_type": "stream",
     "text": [
      "00:00:00\n",
      "00:00:01\n",
      "00:00:02\n",
      "00:01:00\n",
      "00:01:01\n",
      "00:01:02\n",
      "00:02:00\n",
      "00:02:01\n",
      "00:02:02\n",
      "01:00:00\n",
      "01:00:01\n",
      "01:00:02\n",
      "01:01:00\n",
      "01:01:01\n",
      "01:01:02\n",
      "01:02:00\n",
      "01:02:01\n",
      "01:02:02\n",
      "02:00:00\n",
      "02:00:01\n",
      "02:00:02\n",
      "02:01:00\n",
      "02:01:01\n",
      "02:01:02\n",
      "02:02:00\n",
      "02:02:01\n",
      "02:02:02\n"
     ]
    }
   ],
   "source": [
    "public class Clock  \n",
    "{  \n",
    "    public static void main(String[] args)  \n",
    "    {  \n",
    "        for(int hours = 0; hours <= 2; hours++)  \n",
    "        {  \n",
    "            for (int minutes = 0; minutes <= 2; minutes++)  \n",
    "            {  \n",
    "                for (int seconds = 0; seconds <= 2; seconds++) \n",
    "                {  \n",
    "                    System.out.printf(\"%02d:%02d:%02d\\n\", hours, minutes, seconds); \n",
    "                } \n",
    "            } \n",
    "        } \n",
    "    } \n",
    "}\n",
    "Clock.main(null);"
   ]
  },
  {
   "cell_type": "code",
   "execution_count": 21,
   "metadata": {
    "vscode": {
     "languageId": "java"
    }
   },
   "outputs": [
    {
     "name": "stdout",
     "output_type": "stream",
     "text": [
      "Enter a number in the range of 1 through 100: \n",
      "Invalid input. Enter a number in the range of 1 through 100: \n"
     ]
    },
    {
     "ename": "EvaluationInterruptedException",
     "evalue": "Evaluator was interrupted while executing: 'Checker.main(null);'",
     "output_type": "error",
     "traceback": [
      "\u001b[1m\u001b[30m|   \u001b[1m\u001b[30mChecker.main(null);\u001b[0m",
      "\u001b[1m\u001b[31mEvaluation interrupted.\u001b[0m"
     ]
    }
   ],
   "source": [
    "import java.util.Scanner;\n",
    "\n",
    "public class Checker \n",
    "{\n",
    "    public static void main(String[] args) \n",
    "    {\n",
    "        int number;  \n",
    "\t\n",
    "        // Create a Scanner object for keyboard input.  \n",
    "        Scanner keyboard = new Scanner(System.in);  \n",
    "             \n",
    "        // Get a number from the user.  \n",
    "        System.out.print(\"Enter a number in the range of 1 through 100: \\n\");  \n",
    "        number = keyboard.nextInt();  \n",
    "\n",
    "        if (number > 100) {  \n",
    "           System.out.println(\"Invalid input. Enter a number in the range \" +  \n",
    "                            \"of 1 through 100: \");  \n",
    "           number = keyboard.nextInt();  \n",
    "        } \n",
    "        else if (number <= 100) {\n",
    "            System.out.println(\"Your number is \" + number);\n",
    "        }\n",
    "    }\n",
    "}\n",
    "\n",
    "Checker.main(null);"
   ]
  },
  {
   "cell_type": "code",
   "execution_count": 19,
   "metadata": {
    "vscode": {
     "languageId": "java"
    }
   },
   "outputs": [
    {
     "name": "stdout",
     "output_type": "stream",
     "text": [
      "count is 0\n",
      "count is 1\n",
      "count is 2\n",
      "count is 3\n",
      "count is 4\n"
     ]
    }
   ],
   "source": [
    "public class LoopConversion \n",
    "{\n",
    "    public static void main(String[] args) \n",
    "    {\n",
    "        int count = 0;\n",
    "        //convert to for loop\n",
    "        while (count < 5)\n",
    "        {\n",
    "            System.out.println(\"count is \" + count);\n",
    "            count++;\n",
    "        }\n",
    "    }\n",
    "}\n",
    "\n",
    "LoopConversion.main(null);"
   ]
  },
  {
   "cell_type": "markdown",
   "metadata": {},
   "source": [
    "## Homework\n",
    "\n",
    "- Write a program where a random number is generated. Then the user tries to guess the number. If they guess too high display something to let them know, and same for if they guess a number that is too low. The loop must iterate until the number is guessed correctly.\n",
    "\n",
    "- Complete the Homework Quiz: "
   ]
  },
  {
   "cell_type": "markdown",
   "metadata": {},
   "source": [
    "Random Number Generator"
   ]
  },
  {
   "cell_type": "code",
   "execution_count": 22,
   "metadata": {
    "vscode": {
     "languageId": "java"
    }
   },
   "outputs": [
    {
     "name": "stdout",
     "output_type": "stream",
     "text": [
      "What is the number?\n",
      "50 was not the number\n",
      "lower\n",
      "\n",
      "25 was not the number\n",
      "higher\n",
      "\n",
      "40 was not the number\n",
      "lower\n",
      "\n",
      "30 was not the number\n",
      "higher\n",
      "\n",
      "35 was not the number\n",
      "lower\n",
      "\n",
      "33 was not the number\n",
      "lower\n",
      "\n",
      "31 was not the number\n",
      "higher\n",
      "\n",
      "You guessed it! The number was 32\n"
     ]
    }
   ],
   "source": [
    "import java.util.Scanner;\n",
    "public class GuessingGame\n",
    "{\n",
    "   public static void main(String[] args) {\n",
    "       Scanner scanner = new Scanner(System.in);\n",
    "       \n",
    "       double a = (1 + Math.random() * 100);\n",
    "        int b = ((int) Math.floor(a));\n",
    "        Integer c = 0;\n",
    "        \n",
    "        System.out.println(\"What is the number?\");\n",
    "        c = scanner.nextInt();\n",
    "        \n",
    "         while (!c.equals(b)) {\n",
    "            System.out.println( c + \" was not the number\");\n",
    "                if (c > b) {\n",
    "                    System.out.println(\"lower\\n\");\n",
    "                }\n",
    "                if (c < b) {\n",
    "                    System.out.println(\"higher\\n\");\n",
    "                }\n",
    "                \n",
    "            c = scanner.nextInt();\n",
    "            }\n",
    "         if (c == b) {\n",
    "            System.out.println(\"You guessed it! The number was \" + b);\n",
    "            }\n",
    "   }\n",
    "}\n",
    "GuessingGame.main(null);"
   ]
  },
  {
   "cell_type": "markdown",
   "metadata": {},
   "source": [
    "Homework Quiz"
   ]
  },
  {
   "cell_type": "code",
   "execution_count": 23,
   "metadata": {
    "vscode": {
     "languageId": "java"
    }
   },
   "outputs": [
    {
     "name": "stdout",
     "output_type": "stream",
     "text": [
      "3 4 5 6 7 8 9 10 11 12 "
     ]
    }
   ],
   "source": [
    "for (int i = 3; i <= 12; i++) { \n",
    "    System.out.print(i + \" \"); \n",
    "  }"
   ]
  },
  {
   "cell_type": "code",
   "execution_count": 24,
   "metadata": {
    "vscode": {
     "languageId": "java"
    }
   },
   "outputs": [
    {
     "name": "stdout",
     "output_type": "stream",
     "text": [
      "******"
     ]
    }
   ],
   "source": [
    "for (int i = 3; i < 9; i++) { \n",
    "    System.out.print(\"*\"); \n",
    "  }"
   ]
  },
  {
   "cell_type": "code",
   "execution_count": null,
   "metadata": {
    "vscode": {
     "languageId": "java"
    }
   },
   "outputs": [],
   "source": [
    "int x = 3; \n",
    "while (x < 9) { \n",
    "  System.out.print(x + \" \"); \n",
    "}\n",
    "\n",
    "//I am NOT displaying this infinite loop"
   ]
  },
  {
   "cell_type": "markdown",
   "metadata": {},
   "source": [
    "![Homework Quiz](images/Unit4HomeworkQuiz.png)"
   ]
  }
 ],
 "metadata": {
  "kernelspec": {
   "display_name": "Java",
   "language": "java",
   "name": "java"
  },
  "language_info": {
   "codemirror_mode": "java",
   "file_extension": ".jshell",
   "mimetype": "text/x-java-source",
   "name": "Java",
   "pygments_lexer": "java",
   "version": "11.0.16.1+1"
  },
  "orig_nbformat": 4
 },
 "nbformat": 4,
 "nbformat_minor": 2
}
