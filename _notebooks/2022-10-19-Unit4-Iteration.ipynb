{
 "cells": [
  {
   "cell_type": "markdown",
   "metadata": {},
   "source": [
    "# \"Unit 4 - Iteration\"\n",
    "\n",
    "\n",
    "- toc: true\n",
    "- branch: master\n",
    "- badges: true\n",
    "- comments: true\n",
    "- categories: [college board, java]"
   ]
  },
  {
   "cell_type": "markdown",
   "metadata": {},
   "source": [
    "## Iteration \n",
    "- is a pretty important topic\n",
    "\n",
    "- A way to simply code that otherwise would be repeated many times\n",
    "\n",
    "- Loops: While loops, For loops, Recursion\n",
    "\n",
    "- each loop, you use an operator\n",
    "\n",
    "    ex: increment and decrement operator \n",
    "\n",
    "## while loops\n",
    "- while a condition is met, something will keep recurring \n",
    "- loop will stop when condition is no longer satisfied\n",
    "\n",
    "- forever loops\n",
    "\n",
    "## for loop\n",
    "- a sequence that runs as long as a condition is met\n",
    "- stops when the condtion is no longer met \n",
    "\n",
    "- similar to while loop, but difference = ???\n",
    "\n",
    "- Increment loops\n",
    "\n",
    "\n",
    "## recursion loop\n",
    "- is placed in your own function, rather than creating its own function \n",
    "- restate the function \n",
    "\n",
    "## nested iteration \n",
    "- not a java method\n",
    "- technique used by coders to help simplify code\n",
    "- put a loop inside of a loop\n",
    "- can utilize any of the three mentioned loop types\n",
    "\n",
    "\n",
    "## Do while loop\n",
    "- runs at least once initially no matter what\n",
    "\n"
   ]
  },
  {
   "cell_type": "markdown",
   "metadata": {},
   "source": [
    "## For Loop Example"
   ]
  },
  {
   "cell_type": "code",
   "execution_count": 22,
   "metadata": {
    "vscode": {
     "languageId": "java"
    }
   },
   "outputs": [
    {
     "name": "stdout",
     "output_type": "stream",
     "text": [
      "0 1 2 3 4 5 "
     ]
    }
   ],
   "source": [
    "\n",
    "for (int i=0; i <= 5 ; i++) {\n",
    "    System.out.print(i + \" \");\n",
    "}"
   ]
  },
  {
   "cell_type": "markdown",
   "metadata": {},
   "source": [
    "## While Loop Example"
   ]
  },
  {
   "cell_type": "code",
   "execution_count": 26,
   "metadata": {
    "vscode": {
     "languageId": "java"
    }
   },
   "outputs": [
    {
     "name": "stdout",
     "output_type": "stream",
     "text": [
      "0 1 2 3 4 5 "
     ]
    }
   ],
   "source": [
    "int i = 0;\n",
    "while (i <= 5) {\n",
    "    System.out.print(i + \" \");\n",
    "\n",
    "    i++;\n",
    "}"
   ]
  },
  {
   "cell_type": "markdown",
   "metadata": {},
   "source": [
    "## Recursion Loop Example"
   ]
  },
  {
   "cell_type": "code",
   "execution_count": 7,
   "metadata": {
    "vscode": {
     "languageId": "java"
    }
   },
   "outputs": [
    {
     "name": "stdout",
     "output_type": "stream",
     "text": [
      "61 is greater than 25\n"
     ]
    }
   ],
   "source": [
    " \n",
    "        double a = (1 + Math.random() * 100);\n",
    "        int b = ((int) Math.floor(a));\n",
    "        //generates a random double between 1 and 100\n",
    "        //makes that double into an integer\n",
    "\n",
    "        double c = (1 + Math.random() * 100);\n",
    "        int d = ((int) Math.floor(c));\n",
    "\n",
    "    if(b > d) {\n",
    "        System.out.println(b + \" is greater than \" + d);\n",
    "    }\n",
    "\n",
    "    else if(d > b) {\n",
    "        System.out.println(d + \" is greater than \" + b);\n",
    "    }\n",
    "\n"
   ]
  },
  {
   "cell_type": "markdown",
   "metadata": {},
   "source": [
    "## Nested Loop Example"
   ]
  },
  {
   "cell_type": "code",
   "execution_count": 4,
   "metadata": {
    "vscode": {
     "languageId": "java"
    }
   },
   "outputs": [
    {
     "name": "stdout",
     "output_type": "stream",
     "text": [
      "00:00:00\n",
      "00:00:01\n",
      "00:00:02\n",
      "00:01:00\n",
      "00:01:01\n",
      "00:01:02\n",
      "00:02:00\n",
      "00:02:01\n",
      "00:02:02\n",
      "01:00:00\n",
      "01:00:01\n",
      "01:00:02\n",
      "01:01:00\n",
      "01:01:01\n",
      "01:01:02\n",
      "01:02:00\n",
      "01:02:01\n",
      "01:02:02\n",
      "02:00:00\n",
      "02:00:01\n",
      "02:00:02\n",
      "02:01:00\n",
      "02:01:01\n",
      "02:01:02\n",
      "02:02:00\n",
      "02:02:01\n",
      "02:02:02\n"
     ]
    }
   ],
   "source": [
    "public class Clock  \n",
    "{  \n",
    "    public static void main(String[] args)  \n",
    "    {  \n",
    "        for(int hours = 0; hours <= 2; hours++)  \n",
    "        {  \n",
    "            for (int minutes = 0; minutes <= 2; minutes++)  \n",
    "            {  \n",
    "                for (int seconds = 0; seconds <= 2; seconds++) \n",
    "                {  \n",
    "                    System.out.printf(\"%02d:%02d:%02d\\n\", hours, minutes, seconds); \n",
    "                } \n",
    "            } \n",
    "        } \n",
    "    } \n",
    "}\n",
    "Clock.main(null);"
   ]
  },
  {
   "cell_type": "code",
   "execution_count": 17,
   "metadata": {
    "vscode": {
     "languageId": "java"
    }
   },
   "outputs": [
    {
     "name": "stdout",
     "output_type": "stream",
     "text": [
      "Enter a number in the range of 1 through 100: \n",
      "Your number is 20\n"
     ]
    }
   ],
   "source": [
    "import java.util.Scanner;\n",
    "\n",
    "public class Checker \n",
    "{\n",
    "    public static void main(String[] args) \n",
    "    {\n",
    "        int number;  \n",
    "\t\n",
    "        // Create a Scanner object for keyboard input.  \n",
    "        Scanner keyboard = new Scanner(System.in);  \n",
    "             \n",
    "        // Get a number from the user.  \n",
    "        System.out.print(\"Enter a number in the range of 1 through 100: \\n\");  \n",
    "        number = keyboard.nextInt();  \n",
    "\n",
    "        if (number > 100) {  \n",
    "           System.out.println(\"Invalid input. Enter a number in the range \" +  \n",
    "                            \"of 1 through 100: \");  \n",
    "           number = keyboard.nextInt();  \n",
    "        } \n",
    "        else if (number <= 100) {\n",
    "            System.out.println(\"Your number is \" + number);\n",
    "        }\n",
    "    }\n",
    "}\n",
    "\n",
    "Checker.main(null);"
   ]
  },
  {
   "cell_type": "code",
   "execution_count": 19,
   "metadata": {
    "vscode": {
     "languageId": "java"
    }
   },
   "outputs": [
    {
     "name": "stdout",
     "output_type": "stream",
     "text": [
      "count is 0\n",
      "count is 1\n",
      "count is 2\n",
      "count is 3\n",
      "count is 4\n"
     ]
    }
   ],
   "source": [
    "public class LoopConversion \n",
    "{\n",
    "    public static void main(String[] args) \n",
    "    {\n",
    "        int count = 0;\n",
    "        //convert to for loop\n",
    "        while (count < 5)\n",
    "        {\n",
    "            System.out.println(\"count is \" + count);\n",
    "            count++;\n",
    "        }\n",
    "    }\n",
    "}\n",
    "\n",
    "LoopConversion.main(null);"
   ]
  }
 ],
 "metadata": {
  "kernelspec": {
   "display_name": "Java",
   "language": "java",
   "name": "java"
  },
  "language_info": {
   "codemirror_mode": "java",
   "file_extension": ".jshell",
   "mimetype": "text/x-java-source",
   "name": "Java",
   "pygments_lexer": "java",
   "version": "11.0.16.1+1"
  },
  "orig_nbformat": 4
 },
 "nbformat": 4,
 "nbformat_minor": 2
}
