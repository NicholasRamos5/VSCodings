{
 "cells": [
  {
   "cell_type": "markdown",
   "metadata": {},
   "source": [
    "# \"Trimester Review\"\n",
    "\n",
    "\n",
    "- toc: true\n",
    "- branch: master\n",
    "- badges: true\n",
    "- comments: true\n",
    "- categories: [college board, java]"
   ]
  },
  {
   "cell_type": "markdown",
   "metadata": {},
   "source": [
    "## Overall Reflection\n",
    "\n",
    "Overall, this class taught me a good amount for my very first computer science class. Not taking CSP, I was nervous and unsure about how to deal with the content in this class, but it was for the most part fairly straight forward. There were times that I could not for the life of me figure out how to do something, and most of the time the solution was really simple. I found myself overlooking many aspects of code and github features in general. While there was a great deal of frustration involved, I would say this class strengthened my ability to learn things on my own and to figure out any problems I had using just google and messing around with the code. This class covered six of the ten college board units, as well as content regarding project based learning. "
   ]
  },
  {
   "cell_type": "markdown",
   "metadata": {},
   "source": [
    "## Project Based Learning \n",
    "\n",
    "Project based learning is where I would say I struggled the most in this class. With java and just plain old code, I could google things I didn't know the answers to. With project development, it was much harder in my very little experience. There was a lot to understand in developing websites and how to use and integrate databases and APIs into my websites. Beyond just web development, I think this trimester's PBL rly helped extend to other aspects of code development in terms of working with teams and employing similar concepts to other applications.\n",
    "\n",
    "### Github and Fastpages\n",
    "\n",
    "Utilizing VSCode to work with Github and Fastpages website was really beneficial to my understanding of the content in this class. They were always really easy to use, and flowed well together. Apart from the wait times and some commits gone wrong, I typically found no issues with these servers. Furthermore, fastpages has been used by many people for a long time, so there were plenty of articles online to help me with anything I didn't understand. \n",
    "\n",
    "### AWS\n",
    "\n",
    "Learning AWS enough to use it was a nightmare at first. It still is since many of the files and settings for the aws server wasn't created by me or a teammate. However, it was enough to know how docker creates an image of the code base from a github repo and then runs it on AWS's local machine before finally being managed by nginx as a web url. I also gained a better understanding of how to use linux commands and terminal in general.\n",
    "\n",
    "### HTML and JavaScript\n",
    "\n",
    "HTML work for me was a nightmare. I had even less knowledge about it than I did with java going in, which was already close to nothing. However, while not a major focus of the class, it was still a crucial feature to develop our website and make our project function as intended. I still need to learn a lot more about HTML and JavaScript, so that will be one of my goals for the next to trimesters I have in this class\n",
    "\n",
    "### Focus and Habits\n",
    "\n",
    "While not really a major part of project development, the content covered in that video covers a major part of life in general. It was nice to take a step back from the code code code to really hear what someone from yale had to say about emotional health. While a lot of it might seem obvious, I found it really eye-opening to hear how the brain kind of works in general. Furthermore, I feel that it is important to use what we learned about bettering our lives to better our coding lives and become successful computer scientists. \n",
    "\n",
    "### Agile\n",
    "\n",
    "One of the things we learned was the agile programming philosophy. Overall, it helped establish how to delegate tasks to other teammates and develop my ability to communicate and accomplish tasks with my teammates. I would say in order to be successful in almost anything in life, including CS, you need to be able to communicate with others. After all, google is only going to take you so far. If you can't communicate and work well with others, you are not going to be able to learn much and work successfully. \n",
    "\n",
    "### Code.org\n",
    "\n",
    "Code.org really helped me get into coding and understanding the fundamental basics of java. I went into this class knowing basically nothing, and code.org was clearly meant for people like me. While it didn't teach me everything, it allowed me to get a start on this class and integrate myself with my peers more smoothly. \n",
    "\n",
    "### Frontend/Backend\n",
    "\n",
    "This was a significantly crucial part of project based learning in this class. I learned the importance of of incorporating both of these within our website. They could not work without each other, so we needed to understand how to get them to work. The tricky part was that I worked mainly with frontend, while someone else worked with backend, so we needed to utilize team communication and functioning as a cohesive team to perfect the functions and pages of our website. "
   ]
  },
  {
   "cell_type": "markdown",
   "metadata": {},
   "source": [
    "## College Board Homework Units 1 - 6"
   ]
  },
  {
   "cell_type": "markdown",
   "metadata": {},
   "source": [
    "### Unit 1: Primitives\n",
    "[Unit 1 Link](https://nicholasramos5.github.io/VSCodings/college%20board/java/2022/10/12/Unit1-Primitives.html)\n",
    "\n",
    " - 2006 FRQ\n",
    "hi\n",
    " - Problem 2a\n",
    "\n",
    "A set of classes is used to represent various items that are available for purchase. Items are either taxable or nontaxable. The purchase price of a taxable item is computed from its list price and its tax rate. The purchase price of a nontaxable item is simply its list price. Part of the class hierarchy is shown in the diagram below.\n",
    "\n",
    "*Diagram not shown\n",
    "The definitions of the Item interface and the TaxableItem class are shown below"
   ]
  },
  {
   "cell_type": "code",
   "execution_count": null,
   "metadata": {},
   "outputs": [],
   "source": [
    "public abstract class TaxableItem implements item\n",
    "{\n",
    "    private double taxRate;\n",
    "\n",
    "    public abstract double getListPrice();\n",
    "\n",
    "    public TaxableItem(double rate)\n",
    "    { taxRate = rate; }\n",
    "\n",
    "    // returns the price of the item including the tax\n",
    "    public double purchasePrice()\n",
    "    { /* to be implemented in part (a) */}\n",
    "}"
   ]
  },
  {
   "cell_type": "markdown",
   "metadata": {},
   "source": [
    "Write the TaxableItem method purchasePrice. The purchase price of a TaxableItem is its list price plus the tax on the item. The tax is computed by multiplying the list price by the tax rate. For example, if the tax rate is 0.10 (representing 10%), the purchase price of an item with a list price of 7.15. Complete method purchasePrice below."
   ]
  },
  {
   "cell_type": "code",
   "execution_count": null,
   "metadata": {},
   "outputs": [],
   "source": [
    "// returns the price of the item including the tax\n",
    "public double purchasePrice(){\n",
    "    double price = 1.1 * getListPrice();\n",
    "    return price;\n",
    "}"
   ]
  },
  {
   "cell_type": "markdown",
   "metadata": {},
   "source": [
    " - Problem 3a\n",
    "\n",
    "Consider the following incomplete class that stores information about a customer, which includes a name and unique ID (a positive integer). To facilitate sorting, customers are ordered alphabetically by name. If two or more customers have the same name, they are further ordered by ID number. A particular customer is \"greater than\" another customer if that particular customer appears later in the ordering than the other customer."
   ]
  },
  {
   "cell_type": "code",
   "execution_count": null,
   "metadata": {},
   "outputs": [],
   "source": [
    "public class Customer\n",
    "{\n",
    "    //constructs a Customer with a given name and ID number\n",
    "    public Customer(String name, int idNum)\n",
    "    { /* implementation not shown */}\n",
    "\n",
    "    //returns the customer's name\n",
    "    public String getName ()\n",
    "    { /* implementation not shown */} \n",
    "    \n",
    "    // returns 0 when this customer is equal to other;\n",
    "    // a positive integer when this customer is greater than other;\n",
    "    // a negative integer when this customer is less than other;\n",
    "    public int compareCustomer(Customer other)\n",
    "    { /* to be implemented in part (a) */ }\n",
    "\n",
    "    // There may be fields, constructors, and methods that are not shown.\n",
    "}"
   ]
  },
  {
   "cell_type": "markdown",
   "metadata": {},
   "source": [
    "Write the Customer method compareCustomer, which compares this customer to a given customer, other. Customers are ordered alphabetically by name, using the compareTo method of the String class. If the names of the two customers are the same, then the customers are ordered by ID number. Method compareCustomer should return a positive integer if this customer is greater than other, a negative integer if this customer is less than other, and 0 if they are the same."
   ]
  },
  {
   "cell_type": "code",
   "execution_count": null,
   "metadata": {},
   "outputs": [],
   "source": [
    "public int compareCustomer(Customer other){\n",
    "    int nameCompare = this.getName().compareTo(other.getName());\n",
    "    if(nameCompare == 0){\n",
    "        return this.getID() - other.getID();\n",
    "    }\n",
    "    else{\n",
    "        return nameCompare;\n",
    "    }\n",
    "}"
   ]
  },
  {
   "cell_type": "markdown",
   "metadata": {},
   "source": [
    "###  Unit 2: Objects\n",
    "[Unit 2 Link](https://nicholasramos5.github.io/VSCodings/college%20board/java/2022/10/13/Unit2-Objects.html)"
   ]
  },
  {
   "cell_type": "code",
   "execution_count": 2,
   "metadata": {},
   "outputs": [],
   "source": [
    "public class Goblin {\n",
    "    private String name;\n",
    "    private int HP;\n",
    "    private int DMG;\n",
    "    private double hitChance;\n",
    "    private double criticalHitChance;\n",
    "\n",
    "    public String getName() {\n",
    "        return name;\n",
    "    }\n",
    "\n",
    "    public int getHP() {\n",
    "        return HP;\n",
    "    }\n",
    "\n",
    "    public int getDMG() {\n",
    "        return DMG;\n",
    "    }\n",
    "\n",
    "    public double getHitChance() {\n",
    "        return hitChance;\n",
    "    }\n",
    "\n",
    "    public double getCriticalHitChance(){\n",
    "        return criticalHitChance;\n",
    "    }\n",
    "\n",
    "    public boolean isAlive() {\n",
    "        if (this.HP > 0) {\n",
    "            return true;\n",
    "        } else {\n",
    "            return false;\n",
    "        }\n",
    "    }\n",
    "\n",
    "    public void setName(String newName) {\n",
    "        this.name = newName;\n",
    "    }\n",
    "\n",
    "    public void setHP(int newHP) {\n",
    "        this.HP = newHP;\n",
    "    }\n",
    "\n",
    "    public void takeDMG(int takenDamage) {\n",
    "        this.HP -= takenDamage;\n",
    "    }\n",
    "\n",
    "    public void setDMG(int newDMG) {\n",
    "        this.DMG = newDMG;\n",
    "    }\n",
    "\n",
    "    public void setHitChance(double newHitChance) {\n",
    "        this.hitChance = newHitChance;\n",
    "    }\n",
    "\n",
    "    public void setCriticalHitChance(double newCriticalHitChance) {\n",
    "        this.criticalHitChance = newCriticalHitChance;\n",
    "    }\n",
    "}"
   ]
  },
  {
   "cell_type": "code",
   "execution_count": 3,
   "metadata": {},
   "outputs": [
    {
     "name": "stdout",
     "output_type": "stream",
     "text": [
      "jeffrey attacks Gunther the great!\n",
      "jeffrey misses...\n",
      "Gunther the great HP: 4\n",
      "\n",
      "Gunther the great attacks jeffrey!\n",
      "Gunther the great hits!\n",
      "jeffrey takes 1 damage\n",
      "jeffrey HP: 11\n",
      "\n",
      "jeffrey attacks Gunther the great!\n",
      "jeffrey misses...\n",
      "Gunther the great HP: 4\n",
      "\n",
      "Gunther the great attacks jeffrey!\n",
      "Gunther the great hits!\n",
      "jeffrey takes 1 damage\n",
      "jeffrey HP: 10\n",
      "\n",
      "jeffrey attacks Gunther the great!\n",
      "jeffrey misses...\n",
      "Gunther the great HP: 4\n",
      "\n",
      "Gunther the great attacks jeffrey!\n",
      "Gunther the great hits!\n",
      "jeffrey takes 1 damage\n",
      "jeffrey HP: 9\n",
      "\n",
      "jeffrey attacks Gunther the great!\n",
      "jeffrey lands a critical hit!\n",
      "Gunther the great takes 4 damage\n",
      "Gunther the great HP: 0\n",
      "\n",
      "Gunther the great attacks jeffrey!\n",
      "Gunther the great hits!\n",
      "jeffrey takes 1 damage\n",
      "jeffrey HP: 8\n",
      "\n",
      "Gunther the great has perished\n"
     ]
    }
   ],
   "source": [
    "import java.lang.Math;\n",
    "\n",
    "public class Duel {\n",
    "\n",
    "    public static void attack(Goblin attackerGoblin, Goblin attackeeGoblin) {\n",
    "\n",
    "        System.out.println(attackerGoblin.getName() + \" attacks \" + attackeeGoblin.getName() + \"!\");\n",
    "        if (Math.random() < attackerGoblin.getHitChance()) {\n",
    "            if (Math.random() < attackerGoblin.getCriticalHitChance()){\n",
    "                attackeeGoblin.takeDMG(2*attackerGoblin.getDMG());\n",
    "                System.out.println(attackerGoblin.getName() + \" lands a critical hit!\");\n",
    "                System.out.println(attackeeGoblin.getName() + \" takes \" + 2*attackerGoblin.getDMG() + \" damage\");\n",
    "            }\n",
    "            else{\n",
    "                attackeeGoblin.takeDMG(attackerGoblin.getDMG());\n",
    "                System.out.println(attackerGoblin.getName() + \" hits!\");\n",
    "                System.out.println(attackeeGoblin.getName() + \" takes \" + attackerGoblin.getDMG() + \" damage\");\n",
    "            }   \n",
    "        } else {\n",
    "            System.out.println(attackerGoblin.getName() + \" misses...\");\n",
    "        }\n",
    "\n",
    "        System.out.println(attackeeGoblin.getName() + \" HP: \" + attackeeGoblin.getHP());\n",
    "        System.out.println();\n",
    "    }\n",
    "\n",
    "    public static void fight(Goblin goblin1, Goblin goblin2) {\n",
    "        while (goblin1.isAlive() && goblin2.isAlive()) {\n",
    "            \n",
    "            attack(goblin1, goblin2);\n",
    "\n",
    "            if (!goblin1.isAlive()) {\n",
    "                System.out.println(goblin1.getName() + \" has perished\");\n",
    "                break;\n",
    "            }\n",
    "\n",
    "            attack(goblin2, goblin1);\n",
    "\n",
    "            if (!goblin2.isAlive()) {\n",
    "                System.out.println(goblin2.getName() + \" has perished\");\n",
    "                break;\n",
    "            }\n",
    "        }\n",
    "    }\n",
    "\n",
    "    public static void main(String[] args) {\n",
    "        Goblin goblin1 = new Goblin();\n",
    "        goblin1.setName(\"jeffrey\");\n",
    "        goblin1.setHP(12);\n",
    "        goblin1.setDMG(2);\n",
    "        goblin1.setHitChance(0.50);\n",
    "        goblin1.setCriticalHitChance(0.1);\n",
    "\n",
    "        Goblin goblin2 = new Goblin();\n",
    "        goblin2.setName(\"Gunther the great\");\n",
    "        goblin2.setHP(4);\n",
    "        goblin2.setDMG(1);\n",
    "        goblin2.setHitChance(1);\n",
    "        goblin1.setCriticalHitChance(0.5);\n",
    "\n",
    "        fight(goblin1, goblin2);\n",
    "    }\n",
    "}\n",
    "\n",
    "Duel.main(null);"
   ]
  },
  {
   "cell_type": "markdown",
   "metadata": {},
   "source": [
    "### Unit 3: Booleans\n",
    "[Unit 3 Link](https://nicholasramos5.github.io/VSCodings/college%20board/java/2022/10/18/Unit3-Boolean.html)\n",
    "\n",
    "- 2009 FRQ 3b\n",
    "\n",
    "An electric car that runs on batteries must be periodically recharged for a certain number of hours. The battery technology in the car requires that the charge time not be interrupted.\n",
    "\n",
    " The cost for charging is based on the hour(s) during which the charging occurs. A rate table lists the 24 one-hour periods, numbered from 0 to 23, and the corresponding hourly cost for each period. The same rate table is used for each day. Each hourly cost is a positive integer. \n",
    "\n",
    " The class BatteryCharger below uses a rate table to determine the most economic time to charge the battery. You will write two of the methods for the BatteryCharger class. "
   ]
  },
  {
   "cell_type": "code",
   "execution_count": null,
   "metadata": {},
   "outputs": [],
   "source": [
    "public class BatteryCharger\n",
    "{\n",
    "    /** rateTable has 24 entries representing the charging costs for hours 0 through 23. */\n",
    "    private int[] rateTable;\n",
    "\n",
    "    /** Determines the total cost to charge the battery starting at the beginning of startHour.\n",
    "     * @param startHour the hour at which the charge period begins\n",
    "     * Precondition: 0 ≤ startHour ≤ 23\n",
    "     * @param chargeTime the number of hours the battery needs to be charged\n",
    "     * Precondition: chargeTime > 0\n",
    "     * @return the total cost to charge the battery\n",
    "     */\n",
    "    private int getChargingCost(int startHour, int chargeTime)\n",
    "    { /* to be implemented in part (a) */ }\n",
    "\n",
    "    /** Determines start time to charge the battery at the lowest cost for the given charge time.\n",
    "     * @param chargeTime the number of hours the battery needs to be charged\n",
    "     * Precondition: chargeTime > 0\n",
    "     * @return an optimal start time, with 0 ≤ returned value ≤ 23\n",
    "     */\n",
    "    public int getChargeStartTime(int chargeTime)\n",
    "    { /* to be implemented in part (b) */ }\n",
    "\n",
    "     // There may be instance variables, constructors, and methods that are not shown.\n",
    "} "
   ]
  },
  {
   "cell_type": "markdown",
   "metadata": {},
   "source": [
    "(b) Write the BatteryCharger method getChargeStartTime that returns the start time that will allow the battery to be charged at minimal cost. If there is more than one possible start time that produces the minimal cost, any of those start times can be returned.\n",
    "\n",
    " Assume that getChargingCost works as specified, regardless of what you wrote in part (a).\n",
    " Complete method getChargeStartTime below."
   ]
  },
  {
   "cell_type": "code",
   "execution_count": null,
   "metadata": {},
   "outputs": [],
   "source": [
    "/** Determines start time to charge the battery at the lowest cost for the given charge time.\n",
    " * @param chargeTime the number of hours the battery needs to be charged\n",
    " * Precondition: chargeTime > 0\n",
    " * @return an optimal start time, with 0 ≤ returned value ≤ 23\n",
    " */\n",
    "public int getChargeStartTime(int chargeTime) "
   ]
  },
  {
   "cell_type": "code",
   "execution_count": null,
   "metadata": {},
   "outputs": [],
   "source": [
    "{\n",
    "    int startTime = 0;\n",
    "    for (int i = 1; i < 24; i++) \n",
    "    {\n",
    "        if (this.getChargingCost(i, chargeTime)\n",
    "            < this.getChargingCost(startTime, chargeTime))\n",
    "         {\n",
    "          startTime = i;\n",
    "         }\n",
    "    }\n",
    "     return startTime;\n",
    "   }"
   ]
  },
  {
   "cell_type": "markdown",
   "metadata": {},
   "source": [
    "- 2017 FRQ 1b\n",
    "\n",
    "This question involves identifying and processing the digits of a non-negative integer. The declaration of the Digits class is shown below. You will write the constructor and one method for the Digits class. "
   ]
  },
  {
   "cell_type": "code",
   "execution_count": null,
   "metadata": {},
   "outputs": [],
   "source": [
    "public class Digits \n",
    "{ \n",
    "    /** The list of digits from the number used to construct this object. \n",
    "     * The digits appear in the list in the same order in which they appear in the original number.\n",
    "     */ \n",
    "    private ArrayList<Integer> digitList; \n",
    "\n",
    "    /** Constructs a Digits object that represents num.\n",
    "     * Precondition: num >= 0\n",
    "     */ \n",
    "    public Digits(int num) \n",
    "    { /* to be implemented in part (a) */ }\n",
    "\n",
    "    /** Returns true if the digits in this Digits object are in strictly increasing order;\n",
    "     * false otherwise.\n",
    "     */ \n",
    "    public boolean isStrictlyIncreasing() \n",
    "    { /* to be implemented in part (b) */ } \n",
    "} "
   ]
  },
  {
   "cell_type": "markdown",
   "metadata": {},
   "source": [
    "(b) Write the\t Digits method isStrictlyIncreasing. The method returns true if the elements of digitList appear in strictly increasing order; otherwise, it returns false. A list is considered strictly increasing if each element after the first is greater than (but not equal to) the preceding element.\n",
    "\n",
    "Complete method isStrictlyIncreasing below. "
   ]
  },
  {
   "cell_type": "code",
   "execution_count": null,
   "metadata": {},
   "outputs": [],
   "source": [
    "/** Returns true if the digits in this Digits object are in strictly increasing order;\n",
    " * false otherwise.\n",
    " */ \n",
    "public boolean isStrictlyIncreasing()"
   ]
  },
  {
   "cell_type": "code",
   "execution_count": null,
   "metadata": {},
   "outputs": [],
   "source": [
    "public boolean isStrictlyIncreasing()\n",
    "{\n",
    "    for (int i = 0; i < digitList.size()-1; i++)\n",
    "    {\n",
    "        if (digitList.get(i).intValue() > digitList.get(i-1).intValue())\n",
    "        {\n",
    "            return true;\n",
    "        }\n",
    "    }\n",
    "    return false;\n",
    "}"
   ]
  },
  {
   "cell_type": "markdown",
   "metadata": {},
   "source": [
    "- 2019 FRQ 3b\n",
    "\n",
    "Many encoded strings contain delimiters. A delimiter is a non-empty string that acts as a boundary between different parts of a larger string. The delimiters involved in this question occur in pairs that must be balanced, with each pair having an open delimiter and a close delimiter. There will be only one type of delimiter for each string.\n",
    "\n",
    "In this question, you will write two methods in the following Delimiters class. "
   ]
  },
  {
   "cell_type": "code",
   "execution_count": null,
   "metadata": {},
   "outputs": [],
   "source": [
    "public class Delimiters\n",
    "{\n",
    "\n",
    "    /** The open and close delimiters. */\n",
    "    private String openDel;\n",
    "    private String closeDel;\n",
    "\n",
    "    /** Constructs a Delimiters object where open is the open delimiter and close is the\n",
    "     * close delimiter.\n",
    "     * Precondition: open and close are non-empty strings.\n",
    "     */\n",
    "    public Delimiters(String open, String close)\n",
    "    {\n",
    "        openDel = open;\n",
    "        closeDel = close;\n",
    "    }\n",
    " \n",
    "    /** Returns an ArrayList of delimiters from the array tokens, as described in part (a). */\n",
    "    public ArrayList<String> getDelimitersList(String[] tokens)\n",
    "    { /* to be implemented in part (a) */ }\n",
    " \n",
    "    /** Returns true if the delimiters are balanced and false otherwise, as described in part (b).\n",
    "     * Precondition: delimiters contains only valid open and close delimiters.\n",
    "     */\n",
    "    public boolean isBalanced(ArrayList<String> delimiters)\n",
    "    { /* to be implemented in part (b) */ }\n",
    "\n",
    "    // There may be instance variables, constructors, and methods that are not shown.\n",
    "} "
   ]
  },
  {
   "cell_type": "markdown",
   "metadata": {},
   "source": [
    "(b) Write the method isBalanced, which returns true when the delimiters are balanced and returns false otherwise. The delimiters are balanced when both of the following conditions are satisfied otherwise, they are not balanced.\n",
    "\n",
    "    1. When traversing the ArrayList from the first element to the last element, there is no point at\n",
    "       which there are more close delimiters than open delimiters at or before that point.\n",
    "\n",
    "    2. The total number of open delimiters is equal to the total number of close delimiters.\n",
    "\n",
    "Consider a Delimiters object for which openDel is \"<sup>\" and closeDel is \"</sup>\".\n",
    "\n",
    "Class information for this question:\n",
    "\n",
    "- public class Delimiters\n",
    "- private String openDel\n",
    "- private String closeDel\n",
    "- public Delimiters(String open, String close)\n",
    "- public ArrayList<String> getDelimitersList(String[] tokens)\n",
    "- public boolean isBalanced(ArrayList<String> delimiters)\n",
    "\n",
    "Complete method isBalanced below. "
   ]
  },
  {
   "cell_type": "code",
   "execution_count": null,
   "metadata": {},
   "outputs": [],
   "source": [
    "/** Returns true if the delimiters are balanced and false otherwise, as described in part (b).\n",
    " * Precondition: delimiters contains only valid open and close delimiters.\n",
    " */\n",
    "public boolean isBalanced(ArrayList<String> delimiters) "
   ]
  },
  {
   "cell_type": "code",
   "execution_count": null,
   "metadata": {},
   "outputs": [],
   "source": [
    "public boolean isBalanced(ArrayList<String> delimiters)\n",
    "{\n",
    "    int openCount = 0;\n",
    "    int closeCount = 0;\n",
    "\n",
    "    for (String str : delimiters)\n",
    "    {\n",
    "        if (str.equals(openDel))\n",
    "        {\n",
    "            openCount++;\n",
    "        }\n",
    "        else\n",
    "        {\n",
    "            closeCount++;\n",
    "        }\n",
    "        if (closeCount > openCount)\n",
    "        {\n",
    "            return false;\n",
    "        }\n",
    "    }\n",
    "\n",
    "    if (openCount == closeCount)\n",
    "    {\n",
    "        return true;\n",
    "    }\n",
    "    else\n",
    "    {\n",
    "        return false;\n",
    "    }\n",
    "}"
   ]
  },
  {
   "cell_type": "markdown",
   "metadata": {},
   "source": [
    "### Unit 4: Iteration\n",
    "[Unit 4 Link](https://nicholasramos5.github.io/VSCodings/college%20board/java/2022/10/19/Unit4-Iteration.html)"
   ]
  },
  {
   "cell_type": "markdown",
   "metadata": {},
   "source": [
    "- Write a program where a random number is generated. Then the user tries to guess the number. If they guess too high display something to let them know, and same for if they guess a number that is too low. The loop must iterate until the number is guessed correctly.\n",
    "\n",
    "Random Number Generator:"
   ]
  },
  {
   "cell_type": "code",
   "execution_count": 6,
   "metadata": {},
   "outputs": [
    {
     "name": "stdout",
     "output_type": "stream",
     "text": [
      "What is the number?\n",
      "50 was not the number\n",
      "lower\n",
      "\n",
      "25 was not the number\n",
      "higher\n",
      "\n",
      "35 was not the number\n",
      "higher\n",
      "\n",
      "40 was not the number\n",
      "lower\n",
      "\n",
      "37 was not the number\n",
      "lower\n",
      "\n",
      "You guessed it! The number was 36\n"
     ]
    }
   ],
   "source": [
    "import java.util.Scanner;\n",
    "public class GuessingGame\n",
    "{\n",
    "   public static void main(String[] args) {\n",
    "       Scanner scanner = new Scanner(System.in);\n",
    "       \n",
    "       double a = (1 + Math.random() * 100);\n",
    "        int b = ((int) Math.floor(a));\n",
    "        Integer c = 0;\n",
    "        \n",
    "        System.out.println(\"What is the number?\");\n",
    "        c = scanner.nextInt();\n",
    "        \n",
    "         while (!c.equals(b)) {\n",
    "            System.out.println( c + \" was not the number\");\n",
    "                if (c > b) {\n",
    "                    System.out.println(\"lower\\n\");\n",
    "                }\n",
    "                if (c < b) {\n",
    "                    System.out.println(\"higher\\n\");\n",
    "                }\n",
    "                \n",
    "            c = scanner.nextInt();\n",
    "            }\n",
    "         if (c == b) {\n",
    "            System.out.println(\"You guessed it! The number was \" + b);\n",
    "            }\n",
    "   }\n",
    "}\n",
    "GuessingGame.main(null);"
   ]
  },
  {
   "cell_type": "markdown",
   "metadata": {},
   "source": [
    "- Complete the Homework Quiz: "
   ]
  },
  {
   "cell_type": "code",
   "execution_count": 7,
   "metadata": {},
   "outputs": [
    {
     "name": "stdout",
     "output_type": "stream",
     "text": [
      "3 4 5 6 7 8 9 10 11 12 "
     ]
    }
   ],
   "source": [
    "for (int i = 3; i <= 12; i++) { \n",
    "    System.out.print(i + \" \"); \n",
    "  }"
   ]
  },
  {
   "cell_type": "code",
   "execution_count": 8,
   "metadata": {},
   "outputs": [
    {
     "name": "stdout",
     "output_type": "stream",
     "text": [
      "******"
     ]
    }
   ],
   "source": [
    "for (int i = 3; i < 9; i++) { \n",
    "    System.out.print(\"*\"); \n",
    "  }"
   ]
  },
  {
   "cell_type": "code",
   "execution_count": null,
   "metadata": {},
   "outputs": [],
   "source": [
    "int x = 3; \n",
    "while (x < 9) { \n",
    "  System.out.print(x + \" \"); \n",
    "}\n",
    "\n",
    "//I am NOT displaying this infinite loop"
   ]
  },
  {
   "cell_type": "markdown",
   "metadata": {},
   "source": [
    "![Homework Quiz](images/Unit4HomeworkQuiz.png)"
   ]
  },
  {
   "cell_type": "markdown",
   "metadata": {},
   "source": [
    "### Unit 5: Writing Classes\n",
    "\n",
    "** No Homework, as this was our presentation"
   ]
  },
  {
   "cell_type": "markdown",
   "metadata": {},
   "source": [
    "### Unit 6: Arrays\n",
    "[Unit 6 Link](https://nicholasramos5.github.io/VSCodings/2022/10/25/Unit6-Arrays.html)\n",
    "\n",
    "Write a class called ArrayMethods that contains two methods that utilize/manipulate an array. You may choose 2 of the 4 options below to complete. Extra credit for doing all 4 options. Make sure to show test cases for all of the options you choose.\n",
    "\n",
    "Options for hacks (Pick two):\n",
    "\n",
    "- Swap the first and last element in the array\n",
    "- Replace all even elements with 0\n",
    "- Return true if the array is currently sorted in increasing order\n",
    "- Return true if the array contains duplicate elements"
   ]
  },
  {
   "cell_type": "code",
   "execution_count": 10,
   "metadata": {},
   "outputs": [
    {
     "name": "stdout",
     "output_type": "stream",
     "text": [
      "First and Last Element Swap: \n",
      "3\n",
      "1\n",
      "2\n",
      "0\n",
      "Replacing All Elements w/ Zero: \n",
      "3\n",
      "1\n",
      "0\n",
      "0\n"
     ]
    }
   ],
   "source": [
    "public class ArrayMethods\n",
    " {\n",
    "    private int[] values = {0, 1, 2, 3};\n",
    "\n",
    "    public void printElements()\n",
    "    {\n",
    "        for(int i = 0; i < values.length; i++){\n",
    "            System.out.println(values[i]);\n",
    "        }\n",
    "    }\n",
    "\n",
    "    public void swapElements()\n",
    "    {\n",
    "        int last = values[values.length-1];\n",
    "        values[values.length-1] = values[0];\n",
    "        values[0] = last;\n",
    "    }\n",
    "\n",
    "    public void evenToZero()\n",
    "    {\n",
    "        for(int i = 0; i < values.length; i++)\n",
    "        {\n",
    "            if (values[i] % 2 == 0){\n",
    "                values[i] = 0;\n",
    "            }\n",
    "        }\n",
    "    }\n",
    "\n",
    "    public static void main(String[] args)\n",
    "    {\n",
    "        \n",
    "        System.out.println(\"First and Last Element Swap: \");\n",
    "        ArrayMethods swapElements = new ArrayMethods();\n",
    "        swapElements.swapElements();\n",
    "        swapElements.printElements();\n",
    "\n",
    "        System.out.println(\"Replacing All Elements w/ Zero: \");\n",
    "        ArrayMethods evenToZero = new ArrayMethods();\n",
    "        swapElements.evenToZero();\n",
    "        swapElements.printElements();\n",
    "    }\n",
    "}\n",
    "ArrayMethods.main(null);"
   ]
  }
 ],
 "metadata": {
  "kernelspec": {
   "display_name": "Java",
   "language": "java",
   "name": "java"
  },
  "language_info": {
   "codemirror_mode": "java",
   "file_extension": ".jshell",
   "mimetype": "text/x-java-source",
   "name": "java",
   "pygments_lexer": "java",
   "version": "11.0.16.1+1"
  },
  "orig_nbformat": 4
 },
 "nbformat": 4,
 "nbformat_minor": 2
}
