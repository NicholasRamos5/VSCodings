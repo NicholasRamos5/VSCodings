{
 "cells": [
  {
   "cell_type": "code",
   "execution_count": 1,
   "metadata": {},
   "outputs": [
    {
     "name": "stdout",
     "output_type": "stream",
     "text": [
      "BCEF\n"
     ]
    }
   ],
   "source": [
    "String oldStr = \"ABCDEF\";\n",
    "String newStr = oldStr.substring(1, 3) + oldStr.substring(4);\n",
    "System.out.println(newStr);"
   ]
  },
  {
   "cell_type": "code",
   "execution_count": 37,
   "metadata": {},
   "outputs": [
    {
     "name": "stdout",
     "output_type": "stream",
     "text": [
      "A\n",
      "\n"
     ]
    }
   ],
   "source": [
    "String oldStr = \"ABCDEF\";\n",
    "//String newStr = oldStr.substring(1, 3) + oldStr.substring(4);\n",
    "System.out.println(oldStr.substring(0,1));\n",
    "System.out.println(oldStr.substring(2,2));"
   ]
  },
  {
   "cell_type": "code",
   "execution_count": 33,
   "metadata": {},
   "outputs": [
    {
     "name": "stdout",
     "output_type": "stream",
     "text": [
      "D\n",
      "4\n"
     ]
    }
   ],
   "source": [
    "String[][] letters = {{\"A\", \"B\", \"C\", \"D\"},\n",
    "{\"E\", \"F\", \"G\", \"H\"},\n",
    "{\"I\", \"J\", \"K\", \"L\"}};\n",
    "\n",
    "System.out.println(letters[0][3]);\n",
    "System.out.println(letters[0].length);"
   ]
  },
  {
   "cell_type": "code",
   "execution_count": null,
   "metadata": {},
   "outputs": [],
   "source": []
  },
  {
   "cell_type": "code",
   "execution_count": 40,
   "metadata": {},
   "outputs": [
    {
     "name": "stdout",
     "output_type": "stream",
     "text": [
      "4\n",
      "4\n",
      "4\n"
     ]
    },
    {
     "ename": "CompilationException",
     "evalue": "",
     "output_type": "error",
     "traceback": [
      "\u001b[1m\u001b[30m|   \u001b[1m\u001b[30mSystem.out.print(letters[row][\u001b[0m\u001b[1m\u001b[30m\u001b[41mcol\u001b[0m\u001b[1m\u001b[30m] + \" \");\u001b[0m",
      "\u001b[1m\u001b[31mcannot find symbol\u001b[0m",
      "\u001b[1m\u001b[31m  symbol:   variable col\u001b[0m",
      ""
     ]
    }
   ],
   "source": [
    "String[][] letters = {{\"A\", \"B\", \"C\", \"D\"},\n",
    "{\"E\", \"F\", \"G\", \"H\"},\n",
    "{\"I\", \"J\", \"K\", \"L\"}};\n",
    "for (int col = 1; col < letters[0].length; col++)\n",
    "System.out.println(letters[0].length);\n",
    "{\n",
    "for (int row = 1; row < letters.length; row++)\n",
    "{\n",
    "System.out.print(letters[row][col] + \" \");\n",
    "}\n",
    "System.out.println();\n",
    "}"
   ]
  },
  {
   "cell_type": "code",
   "execution_count": 46,
   "metadata": {},
   "outputs": [
    {
     "ename": "CompilationException",
     "evalue": "",
     "output_type": "error",
     "traceback": [
      "\u001b[1m\u001b[30m|   \u001b[1m\u001b[30mfor (int k = 0; k < \u001b[0m\u001b[1m\u001b[30m\u001b[41mone.length\u001b[0m\u001b[1m\u001b[30m(); k++)\u001b[0m",
      "\u001b[1m\u001b[31mint cannot be dereferenced\u001b[0m",
      "",
      "\u001b[1m\u001b[30m|   \u001b[1m\u001b[30mif (\u001b[0m\u001b[1m\u001b[30m\u001b[41mone.substring\u001b[0m\u001b[1m\u001b[30m(k, k + 1).equals(two.substring(k, k + 1)))\u001b[0m",
      "\u001b[1m\u001b[31mint cannot be dereferenced\u001b[0m",
      "",
      "\u001b[1m\u001b[30m|   \u001b[1m\u001b[30mif (one.substring(k, k + 1).equals(\u001b[0m\u001b[1m\u001b[30m\u001b[41mtwo.substring\u001b[0m\u001b[1m\u001b[30m(k, k + 1)))\u001b[0m",
      "\u001b[1m\u001b[31mint cannot be dereferenced\u001b[0m",
      "",
      "\u001b[1m\u001b[30m|   \u001b[1m\u001b[30mres += \u001b[0m\u001b[1m\u001b[30m\u001b[41mone.substring\u001b[0m\u001b[1m\u001b[30m(k, k + 1);\u001b[0m",
      "\u001b[1m\u001b[31mint cannot be dereferenced\u001b[0m",
      "",
      "\u001b[1m\u001b[30m|   \u001b[1m\u001b[30m\u001b[0m\u001b[1m\u001b[30m\u001b[41mpublic static\u001b[0m\u001b[1m\u001b[30m String combine()\u001b[0m",
      "\u001b[1m\u001b[31mModifier 'static' not permitted in top-level declarations, ignored\u001b[0m",
      ""
     ]
    }
   ],
   "source": [
    "public static String combine()\n",
    "{\n",
    "int one = 10110;\n",
    "int two = 01100;\n",
    "String res = \"\";\n",
    "for (int k = 0; k < one.length(); k++)\n",
    "{\n",
    "if (one.substring(k, k + 1).equals(two.substring(k, k + 1)))\n",
    "{\n",
    "res += one.substring(k, k + 1);\n",
    "}\n",
    "else\n",
    "{\n",
    "res += \"0\";\n",
    "}\n",
    "}\n",
    "return res;\n",
    "}"
   ]
  },
  {
   "cell_type": "code",
   "execution_count": 48,
   "metadata": {},
   "outputs": [
    {
     "name": "stdout",
     "output_type": "stream",
     "text": [
      "Com\n",
      "7\n"
     ]
    }
   ],
   "source": [
    "String str = \"CompSci\";\n",
    "System.out.println(str.substring(0, 3));\n",
    "int num = str.length();\n",
    "System.out.println(num);"
   ]
  },
  {
   "cell_type": "code",
   "execution_count": 50,
   "metadata": {},
   "outputs": [
    {
     "name": "stdout",
     "output_type": "stream",
     "text": [
      "0008\n"
     ]
    }
   ],
   "source": [
    "String str = \"0\";\n",
    "str += str + 0 + 8;\n",
    "System.out.println(str);"
   ]
  },
  {
   "cell_type": "code",
   "execution_count": 51,
   "metadata": {},
   "outputs": [
    {
     "name": "stdout",
     "output_type": "stream",
     "text": [
      "3Z\n"
     ]
    }
   ],
   "source": [
    "int one = 1;\n",
    "int two = 2;\n",
    "String zee = \"Z\";\n",
    "System.out.println(one + two + zee);"
   ]
  },
  {
   "cell_type": "code",
   "execution_count": 55,
   "metadata": {},
   "outputs": [
    {
     "name": "stdout",
     "output_type": "stream",
     "text": [
      "Alex Bob Carl \n",
      "Alex   Alex   Alex   "
     ]
    }
   ],
   "source": [
    "List<String> students = new ArrayList<String> (); \n",
    "students.add(\"Alex\"); \n",
    "students.add (\"Bob\");\n",
    "students.add (\"Carl\");\n",
    "\n",
    "for (int k = 0; k < students.size (); k++)\n",
    "{\n",
    "System.out.print (students.set (k, \"Alex\") + \" \");\n",
    "}\n",
    "System.out.println ();\n",
    "for (String str: students)\n",
    "{\n",
    "System.out.print(str + \"   \");\n",
    "}"
   ]
  },
  {
   "cell_type": "code",
   "execution_count": null,
   "metadata": {},
   "outputs": [],
   "source": [
    "public static int countA(String str)\n",
    "{\n",
    "int count = 0;\n",
    " \n",
    "while (str.length() > 0)\n",
    "{\n",
    "int pos = str.indexOf(\"A\");\n",
    "if (pos >= 0)\n",
    "{\n",
    "count++;\n",
    "/* missing code */\n",
    "}\n",
    "else\n",
    "{\n",
    "return count;\n",
    "}\n",
    "}\n",
    "return count;\n",
    "}"
   ]
  },
  {
   "cell_type": "code",
   "execution_count": 71,
   "metadata": {},
   "outputs": [
    {
     "name": "stdout",
     "output_type": "stream",
     "text": [
      "3\n"
     ]
    }
   ],
   "source": [
    "String str = \"FSSACABAC\";\n",
    "\n",
    "int pos = str.indexOf(\"A\");\n",
    "\n",
    "System.out.println(pos);"
   ]
  },
  {
   "cell_type": "code",
   "execution_count": 73,
   "metadata": {},
   "outputs": [
    {
     "ename": "CompilationException",
     "evalue": "",
     "output_type": "error",
     "traceback": [
      "\u001b[1m\u001b[30m|   \u001b[1m\u001b[30mArrayList wordlist = \u001b[0m\u001b[1m\u001b[30m\u001b[41m\u001b[0m\u001b[1m\u001b[30m[\"apple\", \"banana\", \"coconut\", \"lemon\", \"orange\", \"pear\"]\u001b[0m",
      "\u001b[1m\u001b[31millegal start of expression\u001b[0m",
      ""
     ]
    }
   ],
   "source": [
    "ArrayList<wordlist> str = new ArrayList<wordlist>();\n",
    "\n",
    "ArrayList wordlist = [\"apple\", \"banana\", \"coconut\", \"lemon\", \"orange\", \"pear\"]\n",
    "\n",
    "int count = 0;\n",
    "for (String word : wordList)\n",
    "{\n",
    "if (word.indexOf(\"a\") >= 0)\n",
    "{\n",
    "count++;\n",
    "}\n",
    "}\n",
    "System.out.println(count);"
   ]
  },
  {
   "cell_type": "code",
   "execution_count": 74,
   "metadata": {},
   "outputs": [
    {
     "name": "stdout",
     "output_type": "stream",
     "text": [
      "!\n",
      "!\n",
      "!\n",
      "!\n",
      "!\n",
      "!\n"
     ]
    }
   ],
   "source": [
    "int[][] arr = {{6, 2, 5, 7},\n",
    "{7, 6, 1, 2}};\n",
    "for (int j = 0; j < arr.length; j++)\n",
    "{\n",
    "for (int k = 0; k < arr[0].length; k++)\n",
    "{\n",
    "if (arr[j][k] > j + k)\n",
    "{\n",
    "System.out.println(\"!\");\n",
    "}\n",
    "}\n",
    "}"
   ]
  },
  {
   "cell_type": "code",
   "execution_count": 76,
   "metadata": {},
   "outputs": [
    {
     "name": "stdout",
     "output_type": "stream",
     "text": [
      "0\n",
      "0\n",
      "0\n",
      "0\n",
      "0\n"
     ]
    }
   ],
   "source": [
    "int[][] data = new int[5][10];\n",
    "\n",
    "\n",
    "for (int j = 0; j < data.length; j++)\n",
    "{\n",
    "for (int k = 0; k < data[0].length; k++)\n",
    "{\n",
    "if (j == k)\n",
    "{\n",
    "System.out.println(data[j][k]);\n",
    "}\n",
    "}\n",
    "}"
   ]
  },
  {
   "cell_type": "code",
   "execution_count": 78,
   "metadata": {},
   "outputs": [
    {
     "name": "stdout",
     "output_type": "stream",
     "text": [
      "1h 2h 3h 4h  \n",
      "5h 6h 7h 8h  \n",
      "9h 10h 11h 12h  \n",
      "13h 14h 15h 16h  \n"
     ]
    }
   ],
   "source": [
    "int[][] array2D = {{1, 2, 3, 4},\n",
    "{5, 6, 7, 8},\n",
    "{9, 10, 11, 12},\n",
    "{13, 14, 15, 16}};\n",
    "for (int[] i : array2D)\n",
    "{\n",
    "for (int x : i)\n",
    "{\n",
    "System.out.print(x + \"h \");\n",
    "}\n",
    "System.out.println(\" \");\n",
    "}"
   ]
  },
  {
   "cell_type": "code",
   "execution_count": 85,
   "metadata": {},
   "outputs": [
    {
     "ename": "CompilationException",
     "evalue": "",
     "output_type": "error",
     "traceback": [
      "\u001b[1m\u001b[30m|   \u001b[1m\u001b[30m    \u001b[0m\u001b[1m\u001b[30m\u001b[41mSystem.out.println(temp.equals(str));\u001b[0m\u001b[1m\u001b[30m\u001b[0m",
      "\u001b[1m\u001b[31munreachable statement\u001b[0m",
      "",
      "\u001b[1m\u001b[30m|   \u001b[1m\u001b[30m\u001b[0m\u001b[1m\u001b[30m\u001b[41m{\u001b[0m",
      "\u001b[1m\u001b[30m|   \u001b[1m\u001b[30m\u001b[41m    String temp = \" \";\u001b[0m",
      "\u001b[1m\u001b[30m|   \u001b[1m\u001b[30m\u001b[41m\u001b[0m",
      "\u001b[1m\u001b[30m|   \u001b[1m\u001b[30m\u001b[41m    for (int k = str.length(); k > 0; k--)\u001b[0m",
      "\u001b[1m\u001b[30m|   \u001b[1m\u001b[30m\u001b[41m    {\u001b[0m",
      "\u001b[1m\u001b[30m|   \u001b[1m\u001b[30m\u001b[41m        temp = temp + str.substring(k-1,k);\u001b[0m",
      "\u001b[1m\u001b[30m|   \u001b[1m\u001b[30m\u001b[41m    }\u001b[0m",
      "\u001b[1m\u001b[30m|   \u001b[1m\u001b[30m\u001b[41m\u001b[0m",
      "\u001b[1m\u001b[30m|   \u001b[1m\u001b[30m\u001b[41m    return temp.equals(str);\u001b[0m",
      "\u001b[1m\u001b[30m|   \u001b[1m\u001b[30m\u001b[41m    System.out.println(temp.equals(str));\u001b[0m",
      "\u001b[1m\u001b[30m|   \u001b[1m\u001b[30m\u001b[41m}\u001b[0m",
      "\u001b[1m\u001b[31mmissing return statement\u001b[0m",
      "",
      "\u001b[1m\u001b[30m|   \u001b[1m\u001b[30m\u001b[0m\u001b[1m\u001b[30m\u001b[41mpublic static\u001b[0m\u001b[1m\u001b[30m boolean mystery(String str)\u001b[0m",
      "\u001b[1m\u001b[31mModifier 'static' not permitted in top-level declarations, ignored\u001b[0m",
      ""
     ]
    }
   ],
   "source": [
    "String str = \"no\";\n",
    "\n",
    "public static boolean mystery(String str)\n",
    "{\n",
    "    String temp = \" \";\n",
    "\n",
    "    for (int k = str.length(); k > 0; k--)\n",
    "    {\n",
    "        temp = temp + str.substring(k-1,k);\n",
    "    }\n",
    "\n",
    "    return temp.equals(str);\n",
    "    System.out.println(temp.equals(str));\n",
    "}"
   ]
  },
  {
   "cell_type": "code",
   "execution_count": 93,
   "metadata": {},
   "outputs": [
    {
     "ename": "CompilationException",
     "evalue": "",
     "output_type": "error",
     "traceback": [
      "\u001b[1m\u001b[30m|   \u001b[1m\u001b[30mSystem.out.println(\u001b[0m\u001b[1m\u001b[30m\u001b[41mlist.size\u001b[0m\u001b[1m\u001b[30m());\u001b[0m",
      "\u001b[1m\u001b[31mcannot find symbol\u001b[0m",
      "\u001b[1m\u001b[31m  symbol:   method size()\u001b[0m",
      ""
     ]
    }
   ],
   "source": [
    "String list = \"hello\";\n",
    "\n",
    "System.out.println(list.size());"
   ]
  },
  {
   "cell_type": "code",
   "execution_count": 96,
   "metadata": {},
   "outputs": [
    {
     "ename": "CompilationException",
     "evalue": "",
     "output_type": "error",
     "traceback": [
      "\u001b[1m\u001b[30m|   \u001b[1m\u001b[30m    if (k\u001b[0m\u001b[1m\u001b[30m\u001b[41m\u001b[0m\u001b[1m\u001b[30m! = 0) {\u001b[0m",
      "\u001b[1m\u001b[31m')' expected\u001b[0m",
      "",
      "\u001b[1m\u001b[30m|   \u001b[1m\u001b[30m    if (k! \u001b[0m\u001b[1m\u001b[30m\u001b[41m\u001b[0m\u001b[1m\u001b[30m= 0) {\u001b[0m",
      "\u001b[1m\u001b[31millegal start of expression\u001b[0m",
      "",
      "\u001b[1m\u001b[30m|   \u001b[1m\u001b[30m    if (k! = 0\u001b[0m\u001b[1m\u001b[30m\u001b[41m\u001b[0m\u001b[1m\u001b[30m) {\u001b[0m",
      "\u001b[1m\u001b[31m';' expected\u001b[0m",
      ""
     ]
    }
   ],
   "source": [
    "private List<String> listOfwords;\n",
    "public String wordswithCommas ()\n",
    "{\n",
    "String result = \" (\" ;\n",
    "int sizeOfList = listOfWords.size() - 1 ;\n",
    "for (int k = 0; k < sizeOfList; k++)\n",
    "{\n",
    "result = result + listOfWords.get(k);\n",
    "    if (k! = 0) {\n",
    "     result = result + \", \";\n",
    "    }\n",
    "}\n",
    "result = result + \"} \";\n",
    "return result;\n",
    "}"
   ]
  },
  {
   "cell_type": "code",
   "execution_count": 97,
   "metadata": {},
   "outputs": [
    {
     "name": "stdout",
     "output_type": "stream",
     "text": [
      "It is true that the world’s athletes competed in Olympic Games in 1988 but false that the world’s athletes competed in Olympic Games in 1990.\n"
     ]
    }
   ],
   "source": [
    "int a = 1988;\n",
    "int b = 1990;\n",
    "   \n",
    "String claim = \" that the world’s athletes \" +\n",
    "\"competed in Olympic Games in \";\n",
    "   \n",
    "String s = \"It is \" + true + claim + a +\n",
    "\" but \" + false + claim + b + \".\";\n",
    "   \n",
    "System.out.println(s);"
   ]
  },
  {
   "cell_type": "code",
   "execution_count": 101,
   "metadata": {},
   "outputs": [
    {
     "name": "stdout",
     "output_type": "stream",
     "text": [
      "this is true\n"
     ]
    }
   ],
   "source": [
    "String s = \"this is \" + true;\n",
    "\n",
    "System.out.println(s);"
   ]
  },
  {
   "cell_type": "code",
   "execution_count": 103,
   "metadata": {},
   "outputs": [
    {
     "name": "stdout",
     "output_type": "stream",
     "text": [
      "15 14 13 12 11 \n",
      "25 24 23 22 \n",
      "35 34 33 \n",
      "45 44 \n"
     ]
    }
   ],
   "source": [
    "\n",
    "int[][] points = {{11, 12, 13, 14, 15},\n",
    "{21, 22, 23, 24, 25},\n",
    "{31, 32, 33, 34, 35},\n",
    "{41, 42, 43, 44, 45}};\n",
    "for (int row = 0; row < points.length; row++)\n",
    "{\n",
    "for (int col = points[0].length - 1; col >= row; col--)\n",
    "{\n",
    "System.out.print(points[row][col] + \" \");\n",
    "}\n",
    "System.out.println();\n",
    "}\n"
   ]
  },
  {
   "cell_type": "code",
   "execution_count": 106,
   "metadata": {},
   "outputs": [
    {
     "ename": "CompilationException",
     "evalue": "",
     "output_type": "error",
     "traceback": [
      "\u001b[1m\u001b[30m|   \u001b[1m\u001b[30mSystem.out.print(\u001b[0m\u001b[1m\u001b[30m\u001b[41mk\u001b[0m\u001b[1m\u001b[30m + \" \");\u001b[0m",
      "\u001b[1m\u001b[31mcannot find symbol\u001b[0m",
      "\u001b[1m\u001b[31m  symbol:   variable k\u001b[0m",
      ""
     ]
    }
   ],
   "source": [
    "public static void rowMajor(int[][] arr)\n",
    "{\n",
    "int[][] theArray = {{1, 2}, {3, 4}, {5, 6}, {7, 8}};\n",
    "rowMajor(theArray);\n",
    "\n",
    "for (int[] j : arr)\n",
    "{\n",
    "   for (int k : j)\n",
    "   {\n",
    "      System.out.print(k + \" \");\n",
    "   }\n",
    "}\n",
    "}"
   ]
  },
  {
   "cell_type": "code",
   "execution_count": 110,
   "metadata": {},
   "outputs": [
    {
     "ename": "CompilationException",
     "evalue": "",
     "output_type": "error",
     "traceback": [
      "\u001b[1m\u001b[30m|   \u001b[1m\u001b[30mArrayList<\u001b[0m\u001b[1m\u001b[30m\u001b[41m\u001b[0m\u001b[1m\u001b[30m> data = new ArrayList<>();\u001b[0m",
      "\u001b[1m\u001b[31millegal start of type\u001b[0m",
      ""
     ]
    }
   ],
   "source": [
    "int j = 0;\n",
    "ArrayList<> data = new ArrayList<>();\n",
    "    data.add(4);\n",
    "    data.add(3);\n",
    "    data.add(4);\n",
    "    data.add(5);\n",
    "    data.add(3);\n",
    "    data.add(4);\n",
    "\n",
    "while (j < data.size() - 1)\n",
    "{\n",
    "if (data.get(j) > data.get(j + 1))\n",
    "{\n",
    "System.out.print(data.get(j + 1) + \" \");\n",
    "}\n",
    "j++;\n",
    "}"
   ]
  },
  {
   "cell_type": "code",
   "execution_count": 118,
   "metadata": {},
   "outputs": [
    {
     "ename": "EvalException",
     "evalue": "Index 7 out of bounds for length 3",
     "output_type": "error",
     "traceback": [
      "\u001b[1m\u001b[31m---------------------------------------------------------------------------\u001b[0m",
      "\u001b[1m\u001b[31mjava.lang.ArrayIndexOutOfBoundsException: Index 7 out of bounds for length 3\u001b[0m",
      "\u001b[1m\u001b[31m\tat .(#181:1)\u001b[0m"
     ]
    }
   ],
   "source": [
    "int [][] numbers = {{7, 8, 9}, {4, 5, 6}};\n",
    "\n",
    "for (int[] row : numbers)\n",
    "{\n",
    "    for (int n : row)\n",
    "    {\n",
    "        System.out.print(row[n]);\n",
    "    }\n",
    "}"
   ]
  },
  {
   "cell_type": "code",
   "execution_count": 123,
   "metadata": {},
   "outputs": [
    {
     "name": "stdout",
     "output_type": "stream",
     "text": [
      "123456"
     ]
    }
   ],
   "source": [
    "int [][] numbers = {{1, 2, 3}, {4, 5, 6}};\n",
    "\n",
    "for (int r = 0; r < numbers.length; r++)\n",
    "{\n",
    "    for (int c = 0; c < numbers[0].length; c++)\n",
    "    {\n",
    "        System.out.print(numbers[r][c]);\n",
    "    }\n",
    "}"
   ]
  },
  {
   "cell_type": "code",
   "execution_count": 129,
   "metadata": {},
   "outputs": [
    {
     "name": "stdout",
     "output_type": "stream",
     "text": [
      "h\n"
     ]
    }
   ],
   "source": [
    "String s = \"hello\";\n",
    "\n",
    "System.out.println(s.substring(0, 1));"
   ]
  },
  {
   "cell_type": "code",
   "execution_count": 133,
   "metadata": {},
   "outputs": [
    {
     "name": "stdout",
     "output_type": "stream",
     "text": [
      "1 2 3 \n",
      "5 6 \n",
      "9 \n",
      "\n"
     ]
    }
   ],
   "source": [
    "int[][] arr = {{1, 2, 3},\n",
    "{4, 5, 6},\n",
    "{7, 8, 9},\n",
    "{3, 2, 1}};\n",
    "for (int j = 0; j < arr.length; j++)\n",
    "{\n",
    "for (int k = j; k < arr[0].length; k++)\n",
    "{\n",
    "System.out.print(arr[j][k] + \" \");\n",
    "}\n",
    "System.out.println();\n",
    "}"
   ]
  },
  {
   "cell_type": "code",
   "execution_count": 138,
   "metadata": {},
   "outputs": [
    {
     "name": "stdout",
     "output_type": "stream",
     "text": [
      "1\n",
      "--\n",
      "3\n",
      "--\n",
      "6\n",
      "--\n",
      "6\n",
      "??\n",
      "11\n",
      "--\n",
      "17\n",
      "--\n",
      "24\n",
      "--\n",
      "24\n",
      "??\n",
      "33\n",
      "--\n",
      "43\n",
      "--\n",
      "54\n",
      "--\n",
      "54\n",
      "??\n",
      "54\n"
     ]
    }
   ],
   "source": [
    "int[][] arr = {{1, 2, 3, 4},\n",
    "{5, 6, 7, 8},\n",
    "{9, 10, 11, 12}};\n",
    "int sum = 0;\n",
    "for (int[] x : arr)\n",
    "{\n",
    "for (int y = 0; y < x.length - 1; y++)\n",
    "{\n",
    "sum += x[y];\n",
    "System.out.println(sum);\n",
    "System.out.println(\"--\");\n",
    "\n",
    "}\n",
    "System.out.println(sum);\n",
    "System.out.println(\"??\");\n",
    "\n",
    "\n",
    "}\n",
    "System.out.println(sum);\n"
   ]
  }
 ],
 "metadata": {
  "kernelspec": {
   "display_name": "Java",
   "language": "java",
   "name": "java"
  },
  "language_info": {
   "codemirror_mode": "java",
   "file_extension": ".jshell",
   "mimetype": "text/x-java-source",
   "name": "java",
   "pygments_lexer": "java",
   "version": "11.0.16.1+1"
  },
  "orig_nbformat": 4
 },
 "nbformat": 4,
 "nbformat_minor": 2
}
