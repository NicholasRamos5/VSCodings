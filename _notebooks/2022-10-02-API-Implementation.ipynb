{
 "cells": [
  {
   "cell_type": "markdown",
   "metadata": {},
   "source": [
    "# \"API Implementation\"\n",
    "\n",
    "- toc: true\n",
    "- branch: master\n",
    "- badges: true\n",
    "- comments: true\n",
    "- categories: [college board, java]"
   ]
  },
  {
   "cell_type": "markdown",
   "metadata": {},
   "source": [
    "## Explanation\n",
    "\n",
    "API's (Application Programming Interface) provide a way to store a large amount of data, and then allow you to access that data easily, without having to take it directly from another source. You can call API's in java and have that data be transferred. JSON is used to transmit this data. Since they're a massive data pool, you can easily take out data, allowing you to save time and code efficiently."
   ]
  },
  {
   "cell_type": "code",
   "execution_count": 8,
   "metadata": {},
   "outputs": [
    {
     "name": "stdout",
     "output_type": "stream",
     "text": [
      "{\"data\":{\"id\":172136,\"wikiDataId\":\"Q104994\",\"type\":\"ADM2\",\"city\":\"Los Angeles County\",\"name\":\"Los Angeles County\",\"country\":\"United States of America\",\"countryCode\":\"US\",\"region\":\"California\",\"regionCode\":\"CA\",\"elevationMeters\":3,\"latitude\":34.05,\"longitude\":-118.25,\"population\":10014009,\"timezone\":\"America__Los_Angeles\",\"deleted\":false}}\n"
     ]
    }
   ],
   "source": [
    "import java.net.URI;\n",
    "import java.net.http.HttpClient;\n",
    "import java.net.http.HttpRequest;\n",
    "import java.net.http.HttpResponse;\n",
    "\n",
    "HttpRequest request = HttpRequest.newBuilder()\n",
    "\t\t.uri(URI.create(\"https://wft-geo-db.p.rapidapi.com/v1/geo/cities/Q65/locatedIn\"))\n",
    "\t\t.header(\"X-RapidAPI-Key\", \"f4dbb6f12cmsh8393e3c31992857p1076ddjsnf78a3b66c369\")\n",
    "\t\t.header(\"X-RapidAPI-Host\", \"wft-geo-db.p.rapidapi.com\")\n",
    "\t\t.method(\"GET\", HttpRequest.BodyPublishers.noBody())\n",
    "\t\t.build();\n",
    "HttpResponse<String> response = HttpClient.newHttpClient().send(request, HttpResponse.BodyHandlers.ofString());\n",
    "System.out.println(response.body());"
   ]
  },
  {
   "cell_type": "markdown",
   "metadata": {},
   "source": [
    "## Build a Web Service\n",
    "\n",
    "This code provides output with information on certain cities. In this case, we are looking at Los Angeles County. We have access to information about this city, such as country, region, elevation, latitude, and population. "
   ]
  },
  {
   "cell_type": "code",
   "execution_count": 16,
   "metadata": {},
   "outputs": [
    {
     "name": "stdout",
     "output_type": "stream",
     "text": [
      "{\"data\":{\"id\":172136,\"wikiDataId\":\"Q104994\",\"type\":\"ADM2\",\"city\":\"Los Angeles County\",\"name\":\"Los Angeles County\",\"country\":\"United States of America\",\"countryCode\":\"US\",\"region\":\"California\",\"regionCode\":\"CA\",\"elevationMeters\":3,\"latitude\":34.05,\"longitude\":-118.25,\"population\":10014009,\"timezone\":\"America__Los_Angeles\",\"deleted\":false}}\n"
     ]
    },
    {
     "ename": "CompilationException",
     "evalue": "",
     "output_type": "error",
     "traceback": [
      "\u001b[1m\u001b[30m|   \u001b[1m\u001b[30mimport \u001b[0m\u001b[1m\u001b[30m\u001b[41morg.json.simple.JSONObject\u001b[0m\u001b[1m\u001b[30m;\u001b[0m",
      "\u001b[1m\u001b[31mpackage org.json.simple does not exist\u001b[0m",
      ""
     ]
    }
   ],
   "source": [
    "import java.net.URI;\n",
    "import java.net.http.HttpClient;\n",
    "import java.net.http.HttpRequest;\n",
    "import java.net.http.HttpResponse;\n",
    "\n",
    "HttpRequest request = HttpRequest.newBuilder()\n",
    "\t\t.uri(URI.create(\"https://wft-geo-db.p.rapidapi.com/v1/geo/cities/Q65/locatedIn\"))\n",
    "\t\t.header(\"X-RapidAPI-Key\", \"f4dbb6f12cmsh8393e3c31992857p1076ddjsnf78a3b66c369\")\n",
    "\t\t.header(\"X-RapidAPI-Host\", \"wft-geo-db.p.rapidapi.com\")\n",
    "\t\t.method(\"GET\", HttpRequest.BodyPublishers.noBody())\n",
    "\t\t.build();\n",
    "HttpResponse<String> response = HttpClient.newHttpClient().send(request, HttpResponse.BodyHandlers.ofString());\n",
    "System.out.println(response.body());\n",
    "\n",
    "import java.net.URI;\n",
    "import java.net.http.HttpClient;\n",
    "import java.net.http.HttpRequest;\n",
    "import java.net.http.HttpResponse;\n",
    "import java.util.Date;\n",
    "import java.util.HashMap;\n",
    "\n",
    "import org.json.simple.JSONObject;\n",
    "import org.json.simple.parser.JSONParser;\n",
    "import org.springframework.http.HttpStatus;\n",
    "import org.springframework.http.ResponseEntity;\n",
    "import org.springframework.web.bind.annotation.*;\n",
    "\n",
    "@RestController // annotation to create a RESTful web services\n",
    "@RequestMapping(\"/api/geodb-cities\")  //prefix of API\n",
    "public class CovidApiController {\n",
    "    private JSONObject body; //last run result\n",
    "    private HttpStatus status; //last run status\n",
    "    String last_run = null; //last run day of month\n",
    "\n",
    "    // GET Covid 19 Stats\n",
    "    @GetMapping(\"/daily\")   //added to end of prefix as endpoint\n",
    "    public ResponseEntity<JSONObject> getGeo() {\n",
    "\n",
    "        //calls API once a day, sets body and status properties\n",
    "        String today = new Date().toString().substring(0,10); \n",
    "        if (last_run == null || !today.equals(last_run))\n",
    "        {\n",
    "            try {  //APIs can fail (ie Internet or Service down)\n",
    "\n",
    "                //RapidAPI header\n",
    "                HttpRequest request = HttpRequest.newBuilder()\n",
    "\t\t            .uri(URI.create(\"https://wft-geo-db.p.rapidapi.com/v1/geo/cities/Q65/locatedIn\"))\n",
    "\t\t            .header(\"X-RapidAPI-Key\", \"f4dbb6f12cmsh8393e3c31992857p1076ddjsnf78a3b66c369\")\n",
    "\t\t            .header(\"X-RapidAPI-Host\", \"wft-geo-db.p.rapidapi.com\")\n",
    "\t\t            .method(\"GET\", HttpRequest.BodyPublishers.noBody())\n",
    "\t\t            .build();\n",
    "\n",
    "                //RapidAPI request and response\n",
    "                HttpResponse<String> response = HttpClient.newHttpClient().send(request, HttpResponse.BodyHandlers.ofString());\n",
    "\n",
    "                //JSONParser extracts text body and parses to JSONObject\n",
    "                this.body = (JSONObject) new JSONParser().parse(response.body());\n",
    "                this.status = HttpStatus.OK;  //200 success\n",
    "                this.last_run = today;\n",
    "            }\n",
    "            catch (Exception e) {  //capture failure info\n",
    "                HashMap<String, String> status = new HashMap<>();\n",
    "                status.put(\"status\", \"RapidApi failure: \" + e);\n",
    "\n",
    "                //Setup object for error\n",
    "                this.body = (JSONObject) status;\n",
    "                this.status = HttpStatus.INTERNAL_SERVER_ERROR; //500 error\n",
    "                this.last_run = null;\n",
    "            }\n",
    "        }\n",
    "\n",
    "        //return JSONObject in RESTful style\n",
    "        return new ResponseEntity<>(body, status);\n",
    "    }\n",
    "}"
   ]
  }
 ],
 "metadata": {
  "kernelspec": {
   "display_name": "Java",
   "language": "java",
   "name": "java"
  },
  "language_info": {
   "codemirror_mode": "java",
   "file_extension": ".jshell",
   "mimetype": "text/x-java-source",
   "name": "java",
   "pygments_lexer": "java",
   "version": "11.0.16.1+1"
  },
  "orig_nbformat": 4
 },
 "nbformat": 4,
 "nbformat_minor": 2
}
