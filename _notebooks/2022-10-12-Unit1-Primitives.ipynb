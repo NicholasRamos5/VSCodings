{
 "cells": [
  {
   "cell_type": "markdown",
   "metadata": {},
   "source": [
    "# \"Unit 1 - Primitives\"\n",
    "\n",
    "\n",
    "- toc: true\n",
    "- branch: master\n",
    "- badges: true\n",
    "- comments: true\n",
    "- categories: [college board, java]"
   ]
  },
  {
   "cell_type": "markdown",
   "metadata": {},
   "source": [
    "## Vocab"
   ]
  },
  {
   "cell_type": "markdown",
   "metadata": {},
   "source": [
    "### Casting (division)\n",
    "\n",
    "When you divide a double by a double (known as real division), the output (result) is a double. When both expressions are an integer, the result is an integer, which can cause complications. For example, 5/2 realistically does not produce and integer result.\n",
    "\n",
    "Without casting, the result will be the nearest lower integer, and the remainder is disregarded. \n",
    "\n",
    "With casting, you can cast the denominator to a double. When one value is a double and the other is an int, java casts the int into a double, which allows it to perform real division. "
   ]
  },
  {
   "cell_type": "code",
   "execution_count": 2,
   "metadata": {},
   "outputs": [
    {
     "name": "stdout",
     "output_type": "stream",
     "text": [
      "2\n"
     ]
    }
   ],
   "source": [
    "int x = 5/2;\n",
    "System.out.println(x);"
   ]
  },
  {
   "cell_type": "code",
   "execution_count": 3,
   "metadata": {},
   "outputs": [
    {
     "name": "stdout",
     "output_type": "stream",
     "text": [
      "2.3333333333333335\n"
     ]
    }
   ],
   "source": [
    "double y = 7/(double)3;\n",
    "System.out.println(y);"
   ]
  },
  {
   "cell_type": "markdown",
   "metadata": {},
   "source": [
    "### Casting (Truncating or Rounding)"
   ]
  },
  {
   "cell_type": "markdown",
   "metadata": {},
   "source": [
    "When rounding, double values can be rounded by adding .5 (subtracting for negative numbers) and casting with (int). When you cast as an integer, java always rounds down, so by adding .5, it ensures that doubles that end in .5 or higher are casted as the integer greater than their value\n",
    "\n",
    "When truncating, you can just cast as an int, which will always result in the integer just less than the double value, which is exactly what truncating is. "
   ]
  },
  {
   "cell_type": "code",
   "execution_count": 6,
   "metadata": {},
   "outputs": [
    {
     "name": "stdout",
     "output_type": "stream",
     "text": [
      "8.0/3 = 2.6666666666666665\n",
      "8.0/3 rounded = 3\n",
      "8.0/3 truncated = 2\n"
     ]
    }
   ],
   "source": [
    "double x = 8.0/3;\n",
    "    int rounded = (int)(x + 0.5);\n",
    "    System.out.println(\"8.0/3 = \" + x);\n",
    "    System.out.println(\"8.0/3 rounded = \" + rounded);\n",
    "    System.out.println(\"8.0/3 truncated = \" + (int)x);"
   ]
  },
  {
   "cell_type": "markdown",
   "metadata": {},
   "source": [
    "# 2006 FRQ\n",
    "\n",
    "## Problem 2a\n",
    "\n",
    "A set of classes is used to represent various items that are available for purchase. Items are either taxable or nontaxable. The purchase price of a taxable item is computed from its list price and its tax rate. The purchase price of a nontaxable item is simply its list price. Part of the class hierarchy is shown in the diagram below.\n",
    "\n",
    "*Diagram not shown\n",
    "The definitions of the Item interface and the TaxableItem class are shown below"
   ]
  },
  {
   "cell_type": "code",
   "execution_count": null,
   "metadata": {},
   "outputs": [],
   "source": [
    "public abstract class TaxableItem implements item\n",
    "{\n",
    "    private double taxRate;\n",
    "\n",
    "    public abstract double getListPrice();\n",
    "\n",
    "    public TaxableItem(double rate)\n",
    "    { taxRate = rate; }\n",
    "\n",
    "    // returns the price of the item including the tax\n",
    "    public double purchasePrice()\n",
    "    { /* to be implemented in part (a) */}\n",
    "}"
   ]
  },
  {
   "cell_type": "markdown",
   "metadata": {},
   "source": [
    "Write the TaxableItem method purchasePrice. The purchase price of a TaxableItem is its list price plus the tax on the item. The tax is computed by multiplying the list price by the tax rate. For example, if the tax rate is 0.10 (representing 10%), the purchase price of an item with a list price of 7.15. Complete method purchasePrice below."
   ]
  },
  {
   "cell_type": "code",
   "execution_count": 1,
   "metadata": {},
   "outputs": [],
   "source": [
    "// returns the price of the item including the tax\n",
    "public double purchasePrice(){\n",
    "    double price = 1.1 * getListPrice();\n",
    "    return price;\n",
    "}"
   ]
  },
  {
   "cell_type": "markdown",
   "metadata": {},
   "source": [
    "## Problem 3a\n",
    "\n",
    "Consider the following incomplete class that stores information about a customer, which includes a name and unique ID (a positive integer). To facilitate sorting, customers are ordered alphabetically by name. If two or more customers have the same name, they are further ordered by ID number. A particular customer is \"greater than\" another customer if that particular customer appears later in the ordering than the other customer."
   ]
  },
  {
   "cell_type": "code",
   "execution_count": null,
   "metadata": {},
   "outputs": [],
   "source": [
    "public class Customer\n",
    "{\n",
    "    //constructs a Customer with a given name and ID number\n",
    "    public Customer(String name, int idNum)\n",
    "    { /* implementation not shown */}\n",
    "\n",
    "    //returns the customer's name\n",
    "    public String getName ()\n",
    "    { /* implementation not shown */} \n",
    "    \n",
    "    // returns 0 when this customer is equal to other;\n",
    "    // a positive integer when this customer is greater than other;\n",
    "    // a negative integer when this customer is less than other;\n",
    "    public int compareCustomer(Customer other)\n",
    "    { /* to be implemented in part (a) */ }\n",
    "\n",
    "    // There may be fields, constructors, and methods that are not shown.\n",
    "}"
   ]
  },
  {
   "cell_type": "markdown",
   "metadata": {},
   "source": [
    "Write the Customer method compareCustomer, which compares this customer to a given customer, other. Customers are ordered alphabetically by name, using the compareTo method of the String class. If the names of the two customers are the same, then the customers are ordered by ID number. Method compareCustomer should return a positive integer if this customer is greater than other, a negative integer if this customer is less than other, and 0 if they are the same."
   ]
  },
  {
   "cell_type": "code",
   "execution_count": null,
   "metadata": {},
   "outputs": [],
   "source": [
    "public int compareCustomer(Customer other){\n",
    "    int nameCompare = this.getName().compareTo(other.getName());\n",
    "    if(nameCompare == 0){\n",
    "        return this.getID() - other.getID();\n",
    "    }\n",
    "    else{\n",
    "        return nameCompare;\n",
    "    }\n",
    "}"
   ]
  }
 ],
 "metadata": {
  "kernelspec": {
   "display_name": "Java",
   "language": "java",
   "name": "java"
  },
  "language_info": {
   "codemirror_mode": "java",
   "file_extension": ".jshell",
   "mimetype": "text/x-java-source",
   "name": "java",
   "pygments_lexer": "java",
   "version": "11.0.16.1+1"
  },
  "orig_nbformat": 4,
  "vscode": {
   "interpreter": {
    "hash": "b0fa6594d8f4cbf19f97940f81e996739fb7646882a419484c72d19e05852a7e"
   }
  }
 },
 "nbformat": 4,
 "nbformat_minor": 2
}
