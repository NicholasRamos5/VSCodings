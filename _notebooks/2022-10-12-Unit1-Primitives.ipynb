{
 "cells": [
  {
   "cell_type": "markdown",
   "metadata": {},
   "source": [
    "# \"Unit 1 - Primitives\"\n",
    "\n",
    "\n",
    "- toc: true\n",
    "- branch: master\n",
    "- badges: true\n",
    "- comments: true\n",
    "- categories: [college board, java]"
   ]
  },
  {
   "cell_type": "markdown",
   "metadata": {},
   "source": [
    "# 2006 FRQ\n",
    "\n",
    "## Problem 2a\n",
    "\n",
    "A set of classes is used to represent various items that are available for purchase. Items are either taxable or nontaxable. The purchase price of a taxable item is computed from its list price and its tax rate. The purchase price of a nontaxable item is simply its list price. Part of the class hierarchy is shown in the diagram below.\n",
    "\n",
    "*Diagram not shown\n",
    "The definitions of the Item interface and the TaxableItem class are shown below"
   ]
  },
  {
   "cell_type": "code",
   "execution_count": null,
   "metadata": {},
   "outputs": [],
   "source": [
    "public abstract class TaxableItem implements item\n",
    "{\n",
    "    private double taxRate;\n",
    "\n",
    "    public abstract double getListPrice();\n",
    "\n",
    "    public TaxableItem(double rate)\n",
    "    { taxRate = rate; }\n",
    "\n",
    "    // returns the price of the item including the tax\n",
    "    public double purchasePrice()\n",
    "    { /* to be implemented in part (a) */}\n",
    "}"
   ]
  },
  {
   "cell_type": "markdown",
   "metadata": {},
   "source": [
    "Write the TaxableItem method purchasePrice. The purchase price of a TaxableItem is its list price plus the tax on the item. The tax is computed by multiplying the list price by the tax rate. For example, if the tax rate is 0.10 (representing 10%), the purchase price of an item with a list price of 7.15. Complete method purchasePrice below."
   ]
  },
  {
   "cell_type": "code",
   "execution_count": 1,
   "metadata": {},
   "outputs": [],
   "source": [
    "// returns the price of the item including the tax\n",
    "public double purchasePrice(){\n",
    "    double price = 1.1 * getListPrice();\n",
    "    return price;\n",
    "}"
   ]
  },
  {
   "cell_type": "markdown",
   "metadata": {},
   "source": [
    "## Problem 3a\n",
    "\n",
    "Consider the following incomplete class that stores information about a customer, which includes a name and unique ID (a positive integer). To facilitate sorting, customers are ordered alphabetically by name. If two or more customers have the same name, they are further ordered by ID number. A particular customer is \"greater than\" another customer if that particular customer appears later in the ordering than the other customer."
   ]
  },
  {
   "cell_type": "code",
   "execution_count": null,
   "metadata": {},
   "outputs": [],
   "source": [
    "public class Customer\n",
    "{\n",
    "    //constructs a Customer with a given name and ID number\n",
    "    public Customer(String name, int idNum)\n",
    "    { /* implementation not shown */}\n",
    "\n",
    "    //returns the customer's name\n",
    "    public String getName ()\n",
    "    { /* implementation not shown */} \n",
    "    \n",
    "    // returns 0 when this customer is equal to other;\n",
    "    // a positive integer when this customer is greater than other;\n",
    "    // a negative integer when this customer is less than other;\n",
    "    public int compareCustomer(Customer other)\n",
    "    { /* to be implemented in part (a) */ }\n",
    "\n",
    "    // There may be fields, constructors, and methods that are not shown.\n",
    "}"
   ]
  },
  {
   "cell_type": "markdown",
   "metadata": {},
   "source": [
    "Write the Customer method compareCustomer, which compares this customer to a given customer, other. Customers are ordered alphabetically by name, using the compareTo method of the String class. If the names of the two customers are the same, then the customers are ordered by ID number. Method compareCustomer should return a positive integer if this customer is greater than other, a negative integer if this customer is less than other, and 0 if they are the same."
   ]
  },
  {
   "cell_type": "code",
   "execution_count": null,
   "metadata": {},
   "outputs": [],
   "source": [
    "public int compareCustomer(Customer other){\n",
    "    int nameCompare = this.getName().compareTo(other.getName());\n",
    "    if(nameCompare == 0){\n",
    "        return this.getID() - other.getID();\n",
    "    }\n",
    "    else{\n",
    "        return nameCompare;\n",
    "    }\n",
    "}"
   ]
  }
 ],
 "metadata": {
  "kernelspec": {
   "display_name": "Java",
   "language": "java",
   "name": "java"
  },
  "language_info": {
   "codemirror_mode": "java",
   "file_extension": ".jshell",
   "mimetype": "text/x-java-source",
   "name": "java",
   "pygments_lexer": "java",
   "version": "11.0.16.1+1"
  },
  "orig_nbformat": 4,
  "vscode": {
   "interpreter": {
    "hash": "b0fa6594d8f4cbf19f97940f81e996739fb7646882a419484c72d19e05852a7e"
   }
  }
 },
 "nbformat": 4,
 "nbformat_minor": 2
}
