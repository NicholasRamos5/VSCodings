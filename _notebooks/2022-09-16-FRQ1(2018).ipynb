{
 "cells": [
  {
   "cell_type": "markdown",
   "metadata": {},
   "source": [
    "# \"FRQ 1 - 2018\"\n",
    "\n",
    "\n",
    "- toc: true\n",
    "- branch: master\n",
    "- badges: true\n",
    "- comments: true\n",
    "- categories: [college board, java]"
   ]
  },
  {
   "cell_type": "markdown",
   "metadata": {},
   "source": [
    "This question involves reasoning about a simulation of a frog hopping in a straight line. The frog attempts to hop to a goal within a specified number of hops. The simulation is encapsulated in the following FrogSimulation class. You will write two of the methods in this class. "
   ]
  },
  {
   "cell_type": "code",
   "execution_count": null,
   "metadata": {
    "vscode": {
     "languageId": "java"
    }
   },
   "outputs": [],
   "source": [
    "public class FrogSimulation\n",
    "     {\n",
    "        /** Distance, in inches, from the starting position to the goal. */ \n",
    "        private int goalDistance;\n",
    "\n",
    "        /** Maximum number of hops allowed to reach the goal. */ \n",
    "        private int maxHops;\n",
    "\n",
    "        /** Constructs a FrogSimulation where dist is the distance, in inches, from the starting\n",
    "        * position to the goal, and numHops is the maximum number of hops allowed to reach the goal.\n",
    "        * Precondition: dist > 0; numHops > 0 \n",
    "        */\n",
    "        public FrogSimulation(int dist, int numHops)\n",
    "        {\n",
    "           goalDistance = dist;\n",
    "           maxHops = numHops;\n",
    "            }\n",
    "\n",
    "            /** Returns an integer representing the distance, in inches, to be moved when the frog hops. \n",
    "            */\n",
    "            private int hopDistance()\n",
    "            { /* implementation not shown */ }\n",
    "\n",
    "            /** Simulates a frog attempting to reach the goal as described in part (a).\n",
    "            * Returns true if the frog successfully reached or passed the goal during the simulation; \n",
    "            * false otherwise.\n",
    "            */\n",
    "            public boolean simulate()\n",
    "            { /* to be implemented in part (a) */ }\n",
    "\n",
    "            /** Runs num simulations and returns the proportion of simulations in which the frog\n",
    "            * successfully reached or passed the goal.\n",
    "            * Precondition: num > 0 \n",
    "            */\n",
    "            public double runSimulations(int num)\n",
    "         { /* to be implemented in part (b) */ }\n",
    "        }"
   ]
  },
  {
   "cell_type": "markdown",
   "metadata": {},
   "source": [
    "## Part A\n",
    "Write the simulate method, which simulates the frog attempting to hop in a straight line to a goal from the frog's starting position of 0 within a maximum number of hops. The method returns true if the frog successfully reached the goal within the maximum number of hops; otherwise, the method returns false.\n",
    "\n",
    "The FrogSimulation class provides a method called hopDistance that returns an integer representing the distance (positive or negative) to be moved when the frog hops. A positive distance represents a move toward the goal. A negative distance represents a move away from the goal. The returned distance may vary from call to call. Each time the frog hops, its position is adjusted by the value returned by a call to the hopDistance method.\n",
    "\n",
    "The frog hops until one of the following conditions becomes true:\n",
    "- The frog has reached or passed the goal.\n",
    "- The frog has reached a negative position.\n",
    "- The frog has taken the maximum number of hops without reaching the goal.\n",
    "\n",
    "\n",
    "Class information for this question:\n",
    "\n",
    "public class FrogSimulation\n",
    "private int goalDistance\n",
    "private int maxHops\n",
    "private int hopDistance()\n",
    "public boolean simulate()\n",
    "public double runSimulations(int num)\n",
    "\n",
    "Complete method simulate below. You must use hopDistance appropriately to receive full credit."
   ]
  },
  {
   "cell_type": "code",
   "execution_count": 5,
   "metadata": {
    "vscode": {
     "languageId": "java"
    }
   },
   "outputs": [],
   "source": [
    "/** Simulates a frog attempting to reach the goal as described in part (a).\n",
    "* Returns true if the frog successfully reached or passed the goal during the simulation; \n",
    "* false otherwise.\n",
    "*/\n",
    "public boolean simulate()\n",
    "{\n",
    "    int position = 0;\n",
    "\n",
    "    for (int count = 0; count < maxHops; count++)\n",
    "    {\n",
    "        position += hopDistance();\n",
    "        if (position >= goalDistance)\n",
    "        {\n",
    "            return true;\n",
    "        }\n",
    "        else if (position < 0)\n",
    "        {\n",
    "            return false;\n",
    "        }\n",
    "    }\n",
    "    return false;\n",
    "}"
   ]
  },
  {
   "cell_type": "markdown",
   "metadata": {},
   "source": [
    "## Part B\n",
    "\n",
    "Write the runSimulations method, which performs a given number of simulations and returns the proportion of simulations in which the frog successfully reached or passed the goal. For example, if the parameter passed to runSimulations is 400, and 100 of the 400 simulate method calls returned true, then the runSimulations method should return 0.25.\n",
    "\n",
    "Complete method runSimulations below. Assume that simulate works as specified, regardless of what you wrote in part (a). You must use simulate appropriately to receive full credit."
   ]
  },
  {
   "cell_type": "code",
   "execution_count": 6,
   "metadata": {
    "vscode": {
     "languageId": "java"
    }
   },
   "outputs": [],
   "source": [
    "/** Runs num simulations and returns the proportion of simulations in which the frog\n",
    "* successfully reached or passed the goal.\n",
    "* Precondition: num > 0 \n",
    "*/\n",
    "public double runSimulations(int num)\n",
    "{\n",
    "    int countSuccess = 0;\n",
    "\n",
    "    for (int count = 0; count < num; count++)\n",
    "    {\n",
    "        if(simulate())\n",
    "        {\n",
    "            countSuccess++;\n",
    "        }\n",
    "    }\n",
    "    return (double) countSuccess / num;\n",
    "}"
   ]
  }
 ],
 "metadata": {
  "kernelspec": {
   "display_name": "Java",
   "language": "java",
   "name": "java"
  },
  "language_info": {
   "codemirror_mode": "java",
   "file_extension": ".jshell",
   "mimetype": "text/x-java-source",
   "name": "Java",
   "pygments_lexer": "java",
   "version": "11.0.16.1+1"
  },
  "orig_nbformat": 4
 },
 "nbformat": 4,
 "nbformat_minor": 2
}
