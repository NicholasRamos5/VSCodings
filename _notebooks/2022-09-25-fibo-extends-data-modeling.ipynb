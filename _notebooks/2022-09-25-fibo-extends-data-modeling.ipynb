{
 "cells": [
  {
   "cell_type": "markdown",
   "metadata": {},
   "source": [
    "# \"Fibonacci - Extends and Data Modeling\"\n",
    "\n",
    "\n",
    "- toc: true\n",
    "- branch: master\n",
    "- badges: true\n",
    "- comments: true\n",
    "- categories: [college board, java]"
   ]
  },
  {
   "cell_type": "markdown",
   "metadata": {},
   "source": [
    "# Fibonacci Class"
   ]
  },
  {
   "cell_type": "code",
   "execution_count": null,
   "metadata": {},
   "outputs": [],
   "source": [
    "/*\n",
    " * Creator: Nighthawk Coding Society\n",
    " * Mini Lab Name: Fibonacci sequence, featuring a Stream Algorithm\n",
    " * \n",
    " */\n",
    "\n",
    "import java.util.ArrayList;  \n",
    "import java.util.HashMap;\n",
    "import java.util.stream.Stream;\n",
    "\n",
    "/* Objective will require changing to abstract class with one or more abstract methods below */\n",
    "public class Fibo {\n",
    "    String name;  // name or title of method\n",
    "    int size;  // nth sequence\n",
    "    int hashID;  // counter for hashIDs in hash map\n",
    "    ArrayList<Long> list;   // captures current Fibonacci sequence\n",
    "    HashMap<Integer, Object> hash;  // captures each sequence leading to final result\n",
    "\n",
    "    /*\n",
    "     Zero parameter constructor uses Telescoping technique to allow setting of the required value nth\n",
    "     @param: none\n",
    "     */\n",
    "    public Fibo() {\n",
    "        this(20); // telescope to avoid code duplication, using default as 20\n",
    "    }\n",
    "\n",
    "    /*\n",
    "     Construct the nth fibonacci number\n",
    "     @param: nth number, the value is constrained to 92 because of overflow in a long\n",
    "     */\n",
    "    public Fibo(int nth) {\n",
    "        this.size = nth;\n",
    "        this.list = new ArrayList<>();\n",
    "        this.hashID = 0;\n",
    "        this.hash = new HashMap<>();\n",
    "        //initialize fibonacci and time mvc\n",
    "        this.init();\n",
    "    }\n",
    "\n",
    "    /*\n",
    "     This Method should be \"abstract\"\n",
    "     Leave method as protected, as it is only authorized to extender of the class\n",
    "     Make new class that extends and defines init()\n",
    "     Inside references within this class would change from this to super\n",
    "     Repeat process using for, while, recursion\n",
    "     */\n",
    "    protected void init() {\n",
    "        this.name = \"Stream\";\n",
    "        Stream.iterate(new long[]{0, 1}, f -> new long[]{f[1], f[0] + f[1]})\n",
    "            .limit(this.size)\n",
    "            .forEach(f -> this.setData(f[0]) );\n",
    "    }\n",
    "\n",
    "    /*\n",
    "     Number is added to fibonacci sequence, current state of \"list\" is added to hash for hashID \"num\"\n",
    "     */\n",
    "    public void setData(long num) {\n",
    "        list.add(num);\n",
    "        hash.put(this.hashID++, list.clone());\n",
    "    }\n",
    "\n",
    "    /*\n",
    "     Custom Getter to return last element in fibonacci sequence\n",
    "     */\n",
    "    public long getNth() {\n",
    "        return list.get(this.size - 1);\n",
    "    }\n",
    "\n",
    "    /*\n",
    "     Custom Getter to return last fibonacci sequence in HashMap\n",
    "     */\n",
    "    public Object getNthSeq(int i) {\n",
    "        return hash.get(i);\n",
    "    }\n",
    "\n",
    "    /*\n",
    "     Console/Terminal supported print method\n",
    "     */\n",
    "    public void print() {\n",
    "        System.out.println(\"Init method = \" + this.name);\n",
    "        System.out.println(\"fibonacci Number \" + this.size + \" = \" + this.getNth());\n",
    "        System.out.println(\"fibonacci List = \" + this.list);\n",
    "        System.out.println(\"fibonacci Hashmap = \" + this.hash);\n",
    "        for (int i=0 ; i<this.size; i++ ) {\n",
    "            System.out.println(\"fibonacci Sequence \" + (i+1) + \" = \" + this.getNthSeq(i));\n",
    "        }\n",
    "    }\n",
    "\n",
    "    /*\n",
    "    Tester class method.  If this becomes abstract you will not be able to test it directly ...\n",
    "    Change this method to  call \"main\" class of each of the extended classes\n",
    "     */\n",
    "    static public void main(String[] args) {\n",
    "        Fibo fib = new Fibo();\n",
    "        fib.print();\n",
    "    }\n",
    "}\n",
    "Fibo.main(null);"
   ]
  },
  {
   "cell_type": "markdown",
   "metadata": {},
   "source": [
    "# Fibonacci using a For Loop"
   ]
  },
  {
   "cell_type": "code",
   "execution_count": 8,
   "metadata": {},
   "outputs": [
    {
     "name": "stdout",
     "output_type": "stream",
     "text": [
      "Here is the Fibonacci Sequence for 10 terms:\n",
      "0 1 1 2 3 5 8 13 21 34 "
     ]
    }
   ],
   "source": [
    "import javax.swing.JOptionPane;\n",
    "\n",
    "public class FiboFor {\n",
    "    public static void main(String[] args) {\n",
    "      String inpStr = JOptionPane.showInputDialog(\"Give the amount of Fibo numbers that you would like to print\");\n",
    "      int inpNum = Integer.parseInt(inpStr);\n",
    "      int first = 0;\n",
    "      int second = 1;\n",
    "  \n",
    "      System.out.println(\"Here is the Fibonacci Sequence for \" + inpNum + \" terms:\");\n",
    "\n",
    "      for (int i = 1; i <= inpNum; i++) {\n",
    "        System.out.print(first + \" \");\n",
    "        int nextNum = first + second;\n",
    "        first = second;\n",
    "        second = nextNum;\n",
    "      }\n",
    "    }\n",
    "}\n",
    "\n",
    "FiboFor.main(null);"
   ]
  },
  {
   "cell_type": "markdown",
   "metadata": {},
   "source": [
    "# Fibonacci using While Loop"
   ]
  },
  {
   "cell_type": "code",
   "execution_count": 9,
   "metadata": {},
   "outputs": [
    {
     "name": "stdout",
     "output_type": "stream",
     "text": [
      "Here is the Fibonacci Sequence for 10 terms:\n",
      "0 1 1 2 3 5 8 13 21 34 "
     ]
    }
   ],
   "source": [
    "import javax.swing.JOptionPane;\n",
    "\n",
    "public class FiboWhile {\n",
    "    public static void main(String[] args) {\n",
    "      int start = 0;  \n",
    "      String inpStr = JOptionPane.showInputDialog(\"Give the amount of Fibo numbers that you would like to print\");\n",
    "      int inpNum = Integer.parseInt(inpStr);\n",
    "      int first = 0;\n",
    "      int second = 1;\n",
    "\n",
    "      System.out.println(\"Here is the Fibonacci Sequence for \" + inpNum + \" terms:\");\n",
    "  \n",
    "      while (start < inpNum) {\n",
    "        System.out.print(first + \" \");\n",
    "        int nextNum = first + second;\n",
    "        first = second;\n",
    "        second = nextNum;\n",
    "        start++;\n",
    "      }\n",
    "    }\n",
    "}\n",
    "\n",
    "FiboWhile.main(null);"
   ]
  },
  {
   "cell_type": "markdown",
   "metadata": {},
   "source": [
    "# Fibonacci Recursion Loop"
   ]
  },
  {
   "cell_type": "code",
   "execution_count": 11,
   "metadata": {},
   "outputs": [
    {
     "name": "stdout",
     "output_type": "stream",
     "text": [
      "Here is the Fibonacci Sequence for 10 terms:\n",
      "0 1 1 2 3 5 8 13 21 34 "
     ]
    }
   ],
   "source": [
    "import javax.swing.JOptionPane;\n",
    "\n",
    "public class FiboRec{\n",
    "    public static int Recursion(int n){\n",
    "        if(n == 0){\n",
    "            return 0;\n",
    "        }\n",
    "        if(n == 1 || n == 2){\n",
    "            return 1; \n",
    "        }\n",
    "        return Recursion(n-2) + Recursion(n-1);\n",
    "    }\n",
    "\n",
    "    public static void main(String args[]) {\n",
    "        String num = JOptionPane.showInputDialog(\"Give the amount of Fibo numbers that you would like to print\");\n",
    "        int end = Integer.parseInt(num);\n",
    "        System.out.println(\"Here is the Fibonacci Sequence for \" + num + \" terms:\");\n",
    "        for(int i = 0; i < end; i++){\n",
    "            System.out.print(Recursion(i) +\" \");\n",
    "        }\n",
    "    }\n",
    "}\n",
    "\n",
    "FiboRec.main(null);"
   ]
  },
  {
   "cell_type": "markdown",
   "metadata": {},
   "source": [
    "# Fibonacci Abstraction"
   ]
  },
  {
   "cell_type": "code",
   "execution_count": 12,
   "metadata": {},
   "outputs": [
    {
     "name": "stdout",
     "output_type": "stream",
     "text": [
      "Here is the Fibonacci Sequence for 10 terms:\n",
      "0 1 1 2 3 5 8 13 21 34 "
     ]
    },
    {
     "ename": "",
     "evalue": "",
     "output_type": "error",
     "traceback": [
      "\u001b[1;31mThe Kernel crashed while executing code in the the current cell or a previous cell. Please review the code in the cell(s) to identify a possible cause of the failure. Click <a href='https://aka.ms/vscodeJupyterKernelCrash'>here</a> for more info. View Jupyter <a href='command:jupyter.viewOutput'>log</a> for further details."
     ]
    }
   ],
   "source": [
    "abstract class Fibonacci {\n",
    "    abstract void run(); \n",
    "\n",
    "    private int first;\n",
    "    private int second;\n",
    "\n",
    "    public void setFirst(int num) {\n",
    "        first = num;\n",
    "    }\n",
    "\n",
    "    public int getFirst() {\n",
    "        return first;\n",
    "    }\n",
    "\n",
    "    public void setSecond(int num) {\n",
    "        second = num;\n",
    "    }\n",
    "\n",
    "    public int getSecond() {\n",
    "        return second;\n",
    "    }\n",
    "\n",
    "}\n",
    "\n",
    "class Fibo extends Fibonacci {\n",
    "\n",
    "    void run() {\n",
    "        String inpStr = JOptionPane.showInputDialog(\"Give the amount of Fibo numbers that you would like to print\");\n",
    "        int inpNum = Integer.parseInt(inpStr);\n",
    "        setFirst(0);\n",
    "        setSecond(1);\n",
    "    \n",
    "        System.out.println(\"Here is the Fibonacci Sequence for \" + inpNum + \" terms:\");\n",
    "\n",
    "        for (int i = 1; i <= inpNum; i++) {\n",
    "            System.out.print(getFirst() + \" \");\n",
    "            int nextNum = getFirst() + getSecond();\n",
    "            setFirst(getSecond());\n",
    "            setSecond(nextNum);\n",
    "        }\n",
    "    }\n",
    "    public static void main(String args[]) {\n",
    "        Fibonacci obj = new Fibo();\n",
    "        obj.run();\n",
    "    }\n",
    "}\n",
    "\n",
    "Fibo.main(null);"
   ]
  },
  {
   "cell_type": "markdown",
   "metadata": {},
   "source": [
    "# Hacks Questions\n",
    "\n",
    "Skill 1.B: Used different types of loops or methods of program for each situation\n",
    "\n",
    "Skill 4.C: Code segments produce same results because the output is printed in the same format, the only thing changing is the type of loop. Key Finding: Different Loops can produce same output as long as the loops have the same purpose- in this case with for and while loops\n",
    "\n",
    "Skill 5.A: Recursion runs the fastest since it's not a loop, but all methods work equally well. It's important to know how to recreate a program in different ways.\n",
    "\n"
   ]
  }
 ],
 "metadata": {
  "kernelspec": {
   "display_name": "Java",
   "language": "java",
   "name": "java"
  },
  "language_info": {
   "codemirror_mode": "java",
   "file_extension": ".jshell",
   "mimetype": "text/x-java-source",
   "name": "java",
   "pygments_lexer": "java",
   "version": "11.0.16.1+1"
  },
  "orig_nbformat": 4
 },
 "nbformat": 4,
 "nbformat_minor": 2
}
