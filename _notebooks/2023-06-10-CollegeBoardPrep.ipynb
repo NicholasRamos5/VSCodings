{
 "cells": [
  {
   "cell_type": "markdown",
   "metadata": {},
   "source": [
    "# \"College Board Notes\"\n",
    "- toc: true\n",
    "- branch: master\n",
    "- badges: true\n",
    "- comments: true\n",
    "- categories: [college board, java]"
   ]
  },
  {
   "cell_type": "markdown",
   "metadata": {},
   "source": [
    "# [Unit 1 - Primitives](https://nicholasramos5.github.io/VSCodings/college%20board/java/2022/10/12/Unit1-Primitives.html)\n",
    "\n",
    "# [Unit 2 - Using Objects](https://nicholasramos5.github.io/VSCodings/college%20board/java/2022/10/13/Unit2-Objects.html)\n",
    "\n",
    "# [Unit 3 - Booleans](https://nicholasramos5.github.io/VSCodings/college%20board/java/2022/10/18/Unit3-Boolean.html)\n",
    "\n",
    "# [Unit 4 - Iteration](https://nicholasramos5.github.io/VSCodings/college%20board/java/2022/10/19/Unit4-Iteration.html)\n",
    "\n",
    "# [Unit 5 - Writing Classes](https://nicholasramos5.github.io/VSCodings/college%20board/java/2022/10/20/Unit5-WritingClasses.html)"
   ]
  },
  {
   "cell_type": "markdown",
   "metadata": {},
   "source": [
    "|Unit|Score|Grading|\n",
    "|---|---|---|\n",
    "|Unit 1 - Primitives|0.9/1|[link](https://lychee80.github.io/Test/2022/12/01/grades.html)|\n",
    "|Unit 2 - Using Objects|0.95/1|[Link](https://docs.google.com/spreadsheets/d/1P0QD37GN7K0e4N-_Y-90btUq3eXkbyE5RgxK9rh-4yg/edit#gid=0)|\n",
    "|Unit 3 - Booleans|0.9/1|[Link](https://sarayu-pr11.github.io/teamGrapeSnails/2022/11/28/Unit3-HW.html)|\n",
    "|Unit 4 - Iteration|1/1|[Link](https://docs.google.com/spreadsheets/d/12igVnctnJg7i9oVmRxrkYzZ_Tp3wgeq_AmAuZ4qyLaY/edit#gid=0)|\n",
    "|Total|0.9375/1|No Link|"
   ]
  }
 ],
 "metadata": {
  "kernelspec": {
   "display_name": "Java",
   "language": "java",
   "name": "java"
  },
  "language_info": {
   "name": "java"
  },
  "orig_nbformat": 4
 },
 "nbformat": 4,
 "nbformat_minor": 2
}
