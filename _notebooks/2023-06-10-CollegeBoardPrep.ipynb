{
 "cells": [
  {
   "cell_type": "code",
   "execution_count": null,
   "metadata": {},
   "outputs": [],
   "source": [
    "# \"College Board Notes\"\n",
    "\n",
    "\n",
    "- toc: true\n",
    "- branch: master\n",
    "- badges: true\n",
    "- comments: true\n",
    "- categories: [college board, java]"
   ]
  },
  {
   "cell_type": "markdown",
   "metadata": {},
   "source": [
    "# [Unit 1 - Primitives](https://nicholasramos5.github.io/VSCodings/college%20board/java/2022/10/12/Unit1-Primitives.html)\n",
    "\n",
    "# [Unit 2 - Using Objects](https://nicholasramos5.github.io/VSCodings/college%20board/java/2022/10/13/Unit2-Objects.html)\n",
    "\n",
    "# [Unit 3 - Booleans](https://nicholasramos5.github.io/VSCodings/college%20board/java/2022/10/18/Unit3-Boolean.html)\n",
    "\n",
    "# [Unit 4 - Iteration](https://nicholasramos5.github.io/VSCodings/college%20board/java/2022/10/19/Unit4-Iteration.html)\n",
    "\n",
    "# [Unit 5 - Writing Classes](https://nicholasramos5.github.io/VSCodings/college%20board/java/2022/10/20/Unit5-WritingClasses.html)"
   ]
  }
 ],
 "metadata": {
  "kernelspec": {
   "display_name": "Java",
   "language": "java",
   "name": "java"
  },
  "language_info": {
   "name": "java"
  },
  "orig_nbformat": 4
 },
 "nbformat": 4,
 "nbformat_minor": 2
}
