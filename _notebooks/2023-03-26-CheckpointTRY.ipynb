{
 "cells": [
  {
   "attachments": {},
   "cell_type": "markdown",
   "metadata": {},
   "source": [
    "# \"Checkpoint TRY\"\n",
    "\n",
    "- toc: true\n",
    "- branch: master\n",
    "- badges: true\n",
    "- comments: true\n",
    "- categories: [college board, java]"
   ]
  },
  {
   "attachments": {},
   "cell_type": "markdown",
   "metadata": {},
   "source": [
    "## Blog and Define the details of a Class"
   ]
  },
  {
   "attachments": {},
   "cell_type": "markdown",
   "metadata": {},
   "source": [
    "### Access Modifiers\n",
    "\n",
    "Access modifiers determine the level of access or visibility of a class, method, or variable from other parts of the program. \n",
    "There are four access modifiers: public, private, protected, and default (also known as package-private).\n",
    "\n",
    "**Public** access modifier: The class, method, or variable can be accessed from anywhere in the program, even from outside the package. \n",
    "\n",
    "**Private** access modifier: The class, method, or variable can only be accessed within the same class. \n",
    "\n",
    "**Protected** access modifier: Allows access within the same class and any subclasses, as well as classes in the same package. \n",
    "\n",
    "**Default** access modifier: (no keyword is used) restricts access to within the same package.\n",
    "\n",
    "![Alt text](images/Access%20Modifers.jpeg)\n"
   ]
  },
  {
   "cell_type": "code",
   "execution_count": 1,
   "metadata": {
    "vscode": {
     "languageId": "java"
    }
   },
   "outputs": [],
   "source": [
    "public String a = \"Public\";\n",
    "private String b = \"Private\";\n",
    "protected String c = \"Protected\";\n",
    "String d = \"Default\";\n",
    "\n",
    "public class Public {\n",
    "}\n",
    "\n",
    "private class Private {\n",
    "}\n",
    "\n",
    "protected class Protected {\n",
    "}\n",
    "\n",
    "class Default {\n",
    "}\n"
   ]
  },
  {
   "attachments": {},
   "cell_type": "markdown",
   "metadata": {},
   "source": [
    "### Constructors\n",
    "\n",
    "A constructor is a type of method that is used to initialize objects of a class. It has the same name as the class and does not have a return type (not even void). A constructor is called when an object of a class is created using the \"new\" keyword. It initializes the instance variables of the object and sets it up for use. Constructors can be parameterized, meaning they can accept parameters, or they can be default constructors with no parameters."
   ]
  },
  {
   "cell_type": "code",
   "execution_count": 2,
   "metadata": {
    "vscode": {
     "languageId": "java"
    }
   },
   "outputs": [],
   "source": [
    "public class Car {\n",
    "    private String make;\n",
    "    private String model;\n",
    " \n",
    "    // Constructor\n",
    "    public Car(String make, String model) {\n",
    "       this.make = make;\n",
    "       this.model = model;\n",
    "    }\n",
    "}"
   ]
  },
  {
   "attachments": {},
   "cell_type": "markdown",
   "metadata": {},
   "source": [
    "### Getters\n",
    "\n",
    "Getters are methods that provide access to the private fields of a class. They are used to retrieve the value of a private field from an instance of a class. By using getters, we can keep the data encapsulated within the class, while still providing access to it from outside the class."
   ]
  },
  {
   "cell_type": "code",
   "execution_count": 3,
   "metadata": {
    "vscode": {
     "languageId": "java"
    }
   },
   "outputs": [],
   "source": [
    "public class Person {\n",
    "    private String name;\n",
    "\n",
    "    public Person(String name) {\n",
    "        this.name = name;\n",
    "    }\n",
    "    //Getter Method\n",
    "    public String getName() { \n",
    "        return this.name; //accesses the private String name\n",
    "    }\n",
    "}"
   ]
  },
  {
   "attachments": {},
   "cell_type": "markdown",
   "metadata": {},
   "source": [
    "### Setters\n",
    "\n",
    "Setters are methods that provide a way to update the value of a private field in a class.They are used to modify the value of a private field from outside the class. By using setters, we can keep the data encapsulated within the class and provide a controlled way to update it."
   ]
  },
  {
   "cell_type": "code",
   "execution_count": 4,
   "metadata": {
    "vscode": {
     "languageId": "java"
    }
   },
   "outputs": [],
   "source": [
    "public class Person {\n",
    "    private String name;\n",
    "\n",
    "    public Person(String name) {\n",
    "        this.name = name;\n",
    "    }\n",
    "\n",
    "    public String getName() {\n",
    "        return this.name;\n",
    "    }\n",
    "    //Setter Method\n",
    "    public void setName(String name) {\n",
    "        this.name = name; //Updates the value of private String name\n",
    "    }\n",
    "}"
   ]
  }
 ],
 "metadata": {
  "kernelspec": {
   "display_name": "Java",
   "language": "java",
   "name": "java"
  },
  "language_info": {
   "codemirror_mode": "java",
   "file_extension": ".jshell",
   "mimetype": "text/x-java-source",
   "name": "Java",
   "pygments_lexer": "java",
   "version": "11.0.16.1+1"
  },
  "orig_nbformat": 4
 },
 "nbformat": 4,
 "nbformat_minor": 2
}
