{
 "cells": [
  {
   "cell_type": "code",
   "execution_count": null,
   "metadata": {},
   "outputs": [],
   "source": []
  },
  {
   "cell_type": "markdown",
   "metadata": {},
   "source": [
    "Describe the technical systems and processes used to ensure the ability to do continuous updates and integration of software.\n",
    "\n",
    "Describe software and programming tools\n",
    "Identify authoring tools (IDE’s, Docker, GitHub) used\n",
    "Describe and/or show visuals of interactions and integration of programming languages, protocols, and data within project. For instance, deployed systems of Docker Images, Nginx, DNS hosting the application.\n",
    "Describe and/or illustrate key Web Applications, APIs, and dependency systems that will be required to complete this system (Diagram).\n",
    "Describe GitHub branch management and sociology used to ensure ability to perform continuous builds and integrations.\n",
    "GitHub projects\n",
    "Branching Strategies\n",
    "Deployment processes and automation\n",
    "Describe how to validate and test the complete system plus"
   ]
  },
  {
   "cell_type": "markdown",
   "metadata": {},
   "source": [
    "Docker enables you to separate your applications from your infrastructure so you can deliver software quickly. With Docker, you can manage your infrastructure in the same ways you manage your applications.\n",
    "\n",
    "GitHub is a code hosting platform for version control and collaboration. It lets you and others work together on projects from anywhere. "
   ]
  },
  {
   "cell_type": "markdown",
   "metadata": {},
   "source": [
    "Hello, im nicholas and I am the development operations engineer of this team. We are using Visual studio code as our IDE, which helps us immensely in developing code easily and efficiently. We also utilize docker, which allows us to carry out our code relatively quickly, and gives us less down time when working on projects. Github helps us collaborate as a team, see other projects, and organize our work into one area. \n",
    "\n",
    "merge requests, pull requests, commits\n",
    "\n",
    "ports are entry of access, this is where it sends and receives information =\n",
    "\n",
    "my job: deployment and development\n",
    "\n",
    "backend and frontend --backend = logic and data processing\n",
    "\n",
    "we want to separate the two to develop them independently, and it makes it easier for developers to work on different parts of our project without interferring with each other's work\n",
    "\n",
    "because we split the two, we want our front end to communicate wiht the backend - we do that with an api-  our frontend will call upon our backend through and api link -- for instance, one wau this happens is when we make a table for our roster list, we call upon the backend api to retunr the data base\n",
    "\n",
    "we use github to manage our repositories, where we have separate repositories for front end and back end\n",
    "\n",
    "talk about: controllers - the interface between our api's, which call upon the backend, communicate with html and backend (through controller)\n",
    "\n",
    "We use docker to form an image of our web application, which is what we use to service on the internet and our dns. dnhsscioly \n",
    "\n",
    "nginx puts our website onto the internet\n"
   ]
  }
 ],
 "metadata": {
  "kernelspec": {
   "display_name": "Java",
   "language": "java",
   "name": "java"
  },
  "language_info": {
   "name": "java"
  },
  "orig_nbformat": 4
 },
 "nbformat": 4,
 "nbformat_minor": 2
}
