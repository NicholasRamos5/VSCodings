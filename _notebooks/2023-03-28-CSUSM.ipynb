{
 "cells": [
  {
   "attachments": {},
   "cell_type": "markdown",
   "metadata": {},
   "source": [
    "# \"CSUSM Speaker Event\"\n",
    "\n",
    "- toc: true\n",
    "- branch: master\n",
    "- badges: true\n",
    "- comments: true\n",
    "- categories: [college board, java]"
   ]
  },
  {
   "attachments": {},
   "cell_type": "markdown",
   "metadata": {},
   "source": [
    "## The Event\n",
    "\n",
    "Today, I was granted the opportunity to hear from the perspectives of two students from Cal State San Marcos, Ashley and John. The both of them took fairly different pathways in their lives, so I was glad I was able to hear two different perspectives. \n",
    "\n",
    "## The Speakers\n",
    "\n",
    "Ashley, who majored in applied physics, talked about how she didn't really do so well academically in her earlier years. She has experience in working in labs at CSUSM. Ashley plans to obtain a PH. D in material sciences and engineering, which she claims she get paid to do. \n",
    "\n",
    "John claimed he was not the best student in high school either. However, he decided to go to community college and then transfer to CSUSM, which saved him a lot of money. He now majors in computer science, and was able to obtain internships in the field. \n",
    "\n",
    "John and Ashley spoke on their experiences in college (specifically at CSUSM), and shared with us some useful information and tips that they thought would be helpful for future college attendees. \n",
    "\n",
    "## Paying for College\n",
    "\n",
    "For one, they explained to us how scholarships, grants, and loans work. College is a big financial investment, so being able to use and spend money wisely is crucial as a young adult. They explained the differences between a grant and a scholarship, and also advised against getting loans if possible. I personally believe this if a topic that many people don't talk about, as money can be a sensitive for many individuals. However it is quite important for people entering college to be aware of how they're going to be able to spend their money. \n",
    "\n",
    "## Internships\n",
    "\n",
    "We, as the audience, were also given advice on how to handle internships during college. John told us that we could find useful internships via Networking, Campus events, school clubs, other universities, or even just google. Ashley made it clear that we should avoid unpaid internships. I find this interesting. I know many high schoolers that are signing up for unpaid research programs over the summer. While I do see the benefits of gaining a greater understanding in a field you are interested with, I feel that many of these research companies that offer experience to highschool students are simply exploiting eager teens who want to get into college for free labor. I feel that many of my peers will be wasting their valuable time over the summer just to try to get the upper hand into college acceptance. I predict that many of these students who do not get into their desired colleges will be devastated and feel the same way as me. \n",
    "\n",
    "Ashley also encouraged us to get out and try new things, to get experience, and to learn more. Applying for internships that you are under qualified can simply not end badly. \"The worst they can say is no\". \n",
    "\n",
    "John and Ashley also touched on available programs and research projects at CSUSM. I feel that CSUSM is not unique in this matter, and many other universities will also have opportunities for students to put themselves out there. \n",
    "\n",
    "## My Takeaways\n",
    "\n",
    "I feel that a lot of what our CSUSM speakers spoke on can resonate with me. Ashley talked about failing physics in high school, yet still majoring in applied physics. While I have never failed a class, I feel that I struggle in multiple subject. It is important for me to realize that this should not deter me from pursuing further education in those fields.\n",
    "\n",
    "## Correlation to CS\n",
    "\n",
    "I especially feel this way about computer science. Out of all classes in high school, CS has been that hardest for me, content wise. Maybe this is partially due to the fact that I did not do CSP, but I also feel like I had no idea what to expect before making this year-long commitment to AP computer science. CS genuinely interests me. I recognize that it is super useful to know, even outside of the field. People with other majors, including Ashley, have stated that they found having some CS knowledge had been helpful in their careers. However, I find myself confused and stuck during many classes. I feel that I've been thrown into a pool, without learning how to swim first. \n",
    "\n",
    "On the other hand, I do feel like I am learning, not only CS, but also how to explain the work I've done. CS is really the only class i've taken that we have had live reviews. I think learning the skill of explaining your work is crucial in order to deepen one's understanding in the material, and also learn communication skills, which will be necessary in any work environment. I want to strive to take more time outside of school to better my understandings of computer science content. For example, I thoroughly enjoy taking practice college board MCs, where I need to use my critical thinking skills, as well as knowledge on CS fundamentals to complete them. Even if I do not major directly CS, I believe developing an understanding in the subject will be useful for my life in college and in the future. \n",
    "\n",
    "## Reflection\n",
    "\n",
    "Overall, I am glad I was able to attend and listen to speakers who've had experience in college. It gave me valuable information and advice, which can be applied to my college career. The idea of going to college is quite a stressful experience in my mind. Being able to hear from Ashley and John, and realize that they're doing well at CSUSM allows me to feel more comfortable about my future in college."
   ]
  }
 ],
 "metadata": {
  "kernelspec": {
   "display_name": "Java",
   "language": "java",
   "name": "java"
  },
  "language_info": {
   "name": "java"
  },
  "orig_nbformat": 4
 },
 "nbformat": 4,
 "nbformat_minor": 2
}
