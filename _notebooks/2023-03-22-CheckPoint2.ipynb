{
 "cells": [
  {
   "attachments": {},
   "cell_type": "markdown",
   "metadata": {},
   "source": [
    "# \"Checkpoint 2\"\n",
    "\n",
    "- toc: true\n",
    "- branch: master\n",
    "- badges: true\n",
    "- comments: true\n",
    "- categories: [college board, java]"
   ]
  },
  {
   "attachments": {},
   "cell_type": "markdown",
   "metadata": {},
   "source": [
    "Blog and Define the details of a Class: Access modifier, constructor, modifiers/setters, getters, etc."
   ]
  },
  {
   "attachments": {},
   "cell_type": "markdown",
   "metadata": {},
   "source": [
    "## Access Modifier\n",
    "\n",
    "An access modifier is a keyword that determines the accessibility of classes, methods, and other members within a program. There are four types of access modifiers: \n",
    "\n",
    "Public: A public member is accessible from anywhere, inside or outside the package.\n",
    "\n",
    "Protected: A protected member is accessible within the same package and by subclass instances, regardless of the package.\n",
    "\n",
    "Default (also known as package-private): A default member is accessible only within the same package.\n",
    "\n",
    "Private: A private member is accessible only within the same class."
   ]
  },
  {
   "cell_type": "code",
   "execution_count": null,
   "metadata": {},
   "outputs": [],
   "source": []
  },
  {
   "attachments": {},
   "cell_type": "markdown",
   "metadata": {},
   "source": [
    "## Constructor\n",
    "\n",
    "A constructor is a special method that is used to create an instance of a class. It has the same name as the class and is defined without a return type.\n",
    "\n",
    "When an object is created using the \"new\" keyword, the constructor is called automatically, and it initializes the object with its initial state. A constructor can take arguments, just like any other method."
   ]
  },
  {
   "cell_type": "code",
   "execution_count": 47,
   "metadata": {},
   "outputs": [
    {
     "name": "stdout",
     "output_type": "stream",
     "text": [
      "Car -- Make: Honda, Model: Accord, Year: 2020\n",
      "Car -- Make: Toyota, Model: Camry, Year: 2016\n"
     ]
    }
   ],
   "source": [
    "public class Car {\n",
    "/// These are the private fields of the class.\n",
    "    private String make;\n",
    "    private String model;\n",
    "    private int year;\n",
    "    \n",
    "    // This is the constructor method that takes three parameters.\n",
    "    public Car(String make, String model, int year) {\n",
    "        // \"this\" is used to reference the class's fields instead of the constructor's parameters.\n",
    "        this.make = make;\n",
    "        this.model = model;\n",
    "        this.year = year;\n",
    "    }\n",
    "    \n",
    "    // This method prints the values of the car's make, model, and year.\n",
    "    public void printValues() {\n",
    "        System.out.print(\"Car -- \");\n",
    "        System.out.println(\"Make: \" + this.make + \", Model: \" + this.model + \", Year: \" + this.year);\n",
    "    }\n",
    "    \n",
    "    // This is the main method of the class.\n",
    "    public static void main(String[] args) {\n",
    "        // Two instances of the Car class are created with different parameter values.\n",
    "        Car first = new Car(\"Honda\", \"Accord\", 2020);\n",
    "        Car second = new Car(\"Toyota\", \"Camry\", 2016);\n",
    "        // The printValues() method is called on each instance to display their values.\n",
    "        first.printValues();\n",
    "        second.printValues();\n",
    "    }\n",
    "    }\n",
    "    Car.main(null);"
   ]
  },
  {
   "attachments": {},
   "cell_type": "markdown",
   "metadata": {},
   "source": [
    "## Modifiers/Setters\n",
    "\n",
    "write here"
   ]
  },
  {
   "cell_type": "code",
   "execution_count": null,
   "metadata": {},
   "outputs": [],
   "source": []
  },
  {
   "attachments": {},
   "cell_type": "markdown",
   "metadata": {},
   "source": [
    "## Getters\n",
    "\n",
    "write here"
   ]
  },
  {
   "cell_type": "code",
   "execution_count": null,
   "metadata": {},
   "outputs": [],
   "source": []
  },
  {
   "attachments": {},
   "cell_type": "markdown",
   "metadata": {},
   "source": [
    "Example code with Linked Lists, Stacks, Queues"
   ]
  },
  {
   "cell_type": "code",
   "execution_count": 20,
   "metadata": {},
   "outputs": [
    {
     "name": "stdout",
     "output_type": "stream",
     "text": [
      "goodbye\n"
     ]
    }
   ],
   "source": [
    "public class Main {\n",
    "    int x;\n",
    "    int y;\n",
    "    String word = \"bye\";\n",
    "\n",
    "    // Create a class constructor for the Main class\n",
    "    public Main(String name) {\n",
    "      x = 5;\n",
    "      y = 6;\n",
    "      String word = \"goodbye\";\n",
    "      \n",
    "    }\n",
    "      \n",
    "    public static void main(String[] args) {\n",
    "      Main myObj = new Main(word);\n",
    "      \n",
    "      System.out.println(word);\n",
    "      // if (string.length < 6) {\n",
    "      // System.out.println(myObj.x);\n",
    "      //     }\n",
    "      // else {\n",
    "      // System.out.println(myObj.y);\n",
    "      //       }\n",
    "  }\n",
    "\n",
    "}\n",
    "Main.main(null);"
   ]
  }
 ],
 "metadata": {
  "kernelspec": {
   "display_name": "Java",
   "language": "java",
   "name": "java"
  },
  "language_info": {
   "name": "java"
  },
  "orig_nbformat": 4
 },
 "nbformat": 4,
 "nbformat_minor": 2
}
