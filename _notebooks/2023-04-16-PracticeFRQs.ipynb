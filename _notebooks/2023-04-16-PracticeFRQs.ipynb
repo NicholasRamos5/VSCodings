{
 "cells": [
  {
   "attachments": {},
   "cell_type": "markdown",
   "metadata": {},
   "source": [
    "# \"Practice FRQ Questions\"\n",
    "\n",
    "- toc: true\n",
    "- branch: master\n",
    "- badges: true\n",
    "- comments: true\n",
    "- categories: [college board, java]"
   ]
  },
  {
   "attachments": {},
   "cell_type": "markdown",
   "metadata": {},
   "source": [
    "## Methods and Control Structures"
   ]
  },
  {
   "attachments": {},
   "cell_type": "markdown",
   "metadata": {},
   "source": [
    "### Question 1\n",
    "\n",
    "#### 1A"
   ]
  },
  {
   "cell_type": "code",
   "execution_count": null,
   "metadata": {
    "vscode": {
     "languageId": "java"
    }
   },
   "outputs": [],
   "source": [
    "public static int getCheck(int num {    \n",
    "    int sum = 0;    \n",
    "    \n",
    "    for (int h = 1; h <= getNumberOfDigits(num); h ++) { \n",
    "        sum += getDigit(num, h)*(8-h);    \n",
    "    }    \n",
    "    \n",
    "    return sum % 10;}"
   ]
  },
  {
   "attachments": {},
   "cell_type": "markdown",
   "metadata": {},
   "source": [
    "#### 1B"
   ]
  },
  {
   "cell_type": "code",
   "execution_count": null,
   "metadata": {
    "vscode": {
     "languageId": "java"
    }
   },
   "outputs": [],
   "source": [
    "public static boolean isValid(int numWithCheckDigit) {    \n",
    "    if (getCheck(numWithCheckDigit / 10) == numWithCheckDigit % 10) {    \n",
    "        return true;    \n",
    "    }   \n",
    "    else {    \n",
    "        return false;    \n",
    "    }\n",
    "}\n"
   ]
  },
  {
   "attachments": {},
   "cell_type": "markdown",
   "metadata": {},
   "source": [
    "### Question 2\n",
    "\n",
    "#### 2A"
   ]
  },
  {
   "cell_type": "code",
   "execution_count": null,
   "metadata": {
    "vscode": {
     "languageId": "java"
    }
   },
   "outputs": [],
   "source": [
    "public boolean simulate() {\n",
    "\n",
    "    int position = 0;\n",
    "    for (int i = 0; i < maxHops; i++) {\n",
    "        int distance = hopDistance();\n",
    "        \n",
    "        position += distance; \n",
    "\n",
    "        if (position >= goalDistance) {\n",
    "            return true;\n",
    "        }\n",
    "        else if (position < 0) {\n",
    "            return false;\n",
    "        }\n",
    "    }\n",
    "    return false; \n",
    "}"
   ]
  },
  {
   "attachments": {},
   "cell_type": "markdown",
   "metadata": {},
   "source": [
    "#### 2B"
   ]
  },
  {
   "cell_type": "code",
   "execution_count": 20,
   "metadata": {
    "vscode": {
     "languageId": "java"
    }
   },
   "outputs": [],
   "source": [
    "public double runSimulations(int num) {    \n",
    "    int count = 0;    \n",
    "    \n",
    "    for (int h = 0; h < num; h++) {       \n",
    "        if (simulate()) {        \n",
    "            count ++;        \n",
    "        }    \n",
    "    }    \n",
    "    return (double) count / num;}"
   ]
  },
  {
   "attachments": {},
   "cell_type": "markdown",
   "metadata": {},
   "source": [
    "### Question 3\n",
    "\n",
    "#### 3A"
   ]
  },
  {
   "cell_type": "code",
   "execution_count": null,
   "metadata": {
    "vscode": {
     "languageId": "java"
    }
   },
   "outputs": [],
   "source": [
    "public static int factorial(int n ) {    \n",
    "    if (n > 1) {    \n",
    "        return n * factorial(n-1);    \n",
    "    }    \n",
    "    else {    \n",
    "        return n;    \n",
    "    }\n",
    "}"
   ]
  },
  {
   "attachments": {},
   "cell_type": "markdown",
   "metadata": {},
   "source": [
    "#### 3B"
   ]
  },
  {
   "cell_type": "code",
   "execution_count": null,
   "metadata": {
    "vscode": {
     "languageId": "java"
    }
   },
   "outputs": [],
   "source": [
    "public static void numCombinations(int n, int r) {    \n",
    "    int numWays = factorial(n) / (factorial(r) * factorial(n-4) )    \n",
    "\n",
    "    System.out.println(\"There are \" + numWays + \" ways of choosing \" + r + \" items from \" + n + \" choices.\");\n",
    "}"
   ]
  },
  {
   "attachments": {},
   "cell_type": "markdown",
   "metadata": {},
   "source": [
    "### Question 4\n",
    "\n",
    "#### 4A"
   ]
  },
  {
   "cell_type": "code",
   "execution_count": null,
   "metadata": {
    "vscode": {
     "languageId": "java"
    }
   },
   "outputs": [],
   "source": [
    "public void updateAverage(double newVal) {    \n",
    "    int newRatingTotal = count*runningAverage + newVal;    \n",
    "    count++;    \n",
    "    runningAverage =(double) newRatingTotal / count; \n",
    "}"
   ]
  },
  {
   "attachments": {},
   "cell_type": "markdown",
   "metadata": {},
   "source": [
    "#### 4B"
   ]
  },
  {
   "cell_type": "code",
   "execution_count": null,
   "metadata": {
    "vscode": {
     "languageId": "java"
    }
   },
   "outputs": [],
   "source": [
    "public int processNewRatings(int num) {    \n",
    "    int invalidCount = 0;    \n",
    "    for (int h = 0; h < num; h++) {        \n",
    "        double temp = getNewRating();        \n",
    "        if (temp >= 0.0) {            \n",
    "            updateAverage(temp);        \n",
    "        }            \n",
    "        else {             \n",
    "            invalidCount++;        \n",
    "        }    \n",
    "    }    \n",
    "    return invalidCount;\n",
    "}"
   ]
  },
  {
   "attachments": {},
   "cell_type": "markdown",
   "metadata": {},
   "source": [
    "### Question 5\n",
    "\n",
    "#### 5A"
   ]
  },
  {
   "cell_type": "code",
   "execution_count": null,
   "metadata": {
    "vscode": {
     "languageId": "java"
    }
   },
   "outputs": [],
   "source": [
    "public static String reverseString(String str) {    \n",
    "    String result = \"\";    \n",
    "    for (int h = str.length() - 1; h >= 0; h--) {        \n",
    "        result += str.substring(h, h+1)    \n",
    "    }    \n",
    "    return result;\n",
    "}"
   ]
  },
  {
   "attachments": {},
   "cell_type": "markdown",
   "metadata": {},
   "source": [
    "#### 5B"
   ]
  },
  {
   "cell_type": "code",
   "execution_count": null,
   "metadata": {
    "vscode": {
     "languageId": "java"
    }
   },
   "outputs": [],
   "source": [
    "public static void palindromeChecker(String str) {    \n",
    "    String str2 = removeSpaces(str);    \n",
    "    if (str2.equals(reverseString(str2))) {        \n",
    "        System.out.println(str + \" is a palindrome\");    \n",
    "    }    \n",
    "    else {        \n",
    "        System.out.println(str + \" is not a palindrome\");    \n",
    "    }\n",
    "}"
   ]
  },
  {
   "attachments": {},
   "cell_type": "markdown",
   "metadata": {},
   "source": [
    "## Arrays and ArrayLists"
   ]
  },
  {
   "attachments": {},
   "cell_type": "markdown",
   "metadata": {},
   "source": [
    "## 2D Arrays"
   ]
  },
  {
   "attachments": {},
   "cell_type": "markdown",
   "metadata": {},
   "source": [
    "## Classes"
   ]
  }
 ],
 "metadata": {
  "kernelspec": {
   "display_name": "Java",
   "language": "java",
   "name": "java"
  },
  "language_info": {
   "codemirror_mode": "java",
   "file_extension": ".jshell",
   "mimetype": "text/x-java-source",
   "name": "Java",
   "pygments_lexer": "java",
   "version": "11.0.16.1+1"
  },
  "orig_nbformat": 4
 },
 "nbformat": 4,
 "nbformat_minor": 2
}
