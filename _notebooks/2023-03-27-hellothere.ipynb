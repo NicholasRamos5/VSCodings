{
 "cells": [
  {
   "attachments": {},
   "cell_type": "markdown",
   "metadata": {},
   "source": [
    "# \"Checkpoint 2\"\n",
    "\n",
    "- toc: true\n",
    "- branch: master\n",
    "- badges: true\n",
    "- comments: true\n",
    "- categories: [college board, java]"
   ]
  },
  {
   "attachments": {},
   "cell_type": "markdown",
   "metadata": {},
   "source": [
    "## Blog and Define the details of a Class"
   ]
  },
  {
   "attachments": {},
   "cell_type": "markdown",
   "metadata": {},
   "source": [
    "### Access Modifiers\n",
    "\n",
    "Access modifiers determine the level of access or visibility of a class, method, or variable from other parts of the program. \n",
    "There are four access modifiers: public, private, protected, and default (also known as package-private).\n",
    "\n",
    "**Public** access modifier: The class, method, or variable can be accessed from anywhere in the program, even from outside the package. \n",
    "\n",
    "**Private** access modifier: The class, method, or variable can only be accessed within the same class. \n",
    "\n",
    "**Protected** access modifier: Allows access within the same class and any subclasses, as well as classes in the same package. \n",
    "\n",
    "**Default** access modifier: (no keyword is used) restricts access to within the same package.\n",
    "\n",
    "![Alt text](images/Access%20Modifers.jpeg)\n"
   ]
  },
  {
   "cell_type": "code",
   "execution_count": null,
   "metadata": {},
   "outputs": [],
   "source": []
  }
 ],
 "metadata": {
  "kernelspec": {
   "display_name": "Java",
   "language": "java",
   "name": "java"
  },
  "language_info": {
   "name": "java"
  },
  "orig_nbformat": 4
 },
 "nbformat": 4,
 "nbformat_minor": 2
}
