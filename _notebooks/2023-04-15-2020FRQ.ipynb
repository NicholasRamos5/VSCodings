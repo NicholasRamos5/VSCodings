{
 "cells": [
  {
   "attachments": {},
   "cell_type": "markdown",
   "metadata": {},
   "source": [
    "# \"2020 College Board FRQ\"\n",
    "\n",
    "- toc: true\n",
    "- branch: master\n",
    "- badges: true\n",
    "- comments: true\n",
    "- categories: [college board, java]"
   ]
  },
  {
   "attachments": {},
   "cell_type": "markdown",
   "metadata": {},
   "source": [
    "## Question 1 \n",
    "\n",
    "### A"
   ]
  },
  {
   "cell_type": "code",
   "execution_count": null,
   "metadata": {
    "vscode": {
     "languageId": "java"
    }
   },
   "outputs": [],
   "source": [
    "public static int hailstoneLength(int n) {\n",
    "    int count = 1;\n",
    "    while (n !== 1) {\n",
    "        if (n%2 ==0 ) {\n",
    "            n=n/2;}\n",
    "        else {\n",
    "            n=3n+1;}\n",
    "            count++;\n",
    "        }\n",
    "        return count;\n",
    "}"
   ]
  },
  {
   "attachments": {},
   "cell_type": "markdown",
   "metadata": {},
   "source": [
    "### B"
   ]
  },
  {
   "cell_type": "code",
   "execution_count": null,
   "metadata": {
    "vscode": {
     "languageId": "java"
    }
   },
   "outputs": [],
   "source": [
    "public static boolean isLongSeq(int n) {\n",
    "    return hailstoneLength(n) > n;\n",
    "}"
   ]
  },
  {
   "attachments": {},
   "cell_type": "markdown",
   "metadata": {},
   "source": [
    "### C"
   ]
  },
  {
   "cell_type": "code",
   "execution_count": null,
   "metadata": {
    "vscode": {
     "languageId": "java"
    }
   },
   "outputs": [],
   "source": [
    "public static double propLong(int n) {\n",
    "    int total = 0;\n",
    "    for ( i=1; i<=n; i++){\n",
    "        if (isLongSeq(i)) {\n",
    "            total++;}\n",
    "        }\n",
    "        return (double) total/n;\n",
    "    }"
   ]
  },
  {
   "attachments": {},
   "cell_type": "markdown",
   "metadata": {},
   "source": [
    "## Question 2"
   ]
  },
  {
   "cell_type": "code",
   "execution_count": null,
   "metadata": {
    "vscode": {
     "languageId": "java"
    }
   },
   "outputs": [],
   "source": [
    "public class GameSpinner {\n",
    "    public int sector;\n",
    "    public int lastSpin;\n",
    "    public int run;\n",
    "    public GameSpinner(int n) {\n",
    "        sector = n;\n",
    "        lastSpin = 0;\n",
    "        run =0;\n",
    "    }\n",
    "        public static int spin {\n",
    "            int newSpin = (int)(Math.random() * sector +1);\n",
    "            if (newSpin == lastSpin) {\n",
    "                run++;\n",
    "            }\n",
    "            else {\n",
    "                run =1;\n",
    "                lastSpin = newSpin;\n",
    "            }\n",
    "            return newSpin;\n",
    "        }\n",
    "        public int currentRun() {\n",
    "            return run;\n",
    "        }\n",
    "    }"
   ]
  },
  {
   "attachments": {},
   "cell_type": "markdown",
   "metadata": {},
   "source": [
    "## Question 3\n",
    "\n",
    "### A"
   ]
  },
  {
   "cell_type": "code",
   "execution_count": null,
   "metadata": {
    "vscode": {
     "languageId": "java"
    }
   },
   "outputs": [],
   "source": [
    "public void addReview(ProductReview prodReview) {\n",
    "    reviewList.add(prodReview);\n",
    "    String newProdName = prodReview.getName();\n",
    "    for (int i = 0; i < productList.size; i ++) {\n",
    "        if (!newProdName.equals(productList.get(i))) {\n",
    "            productList.add(newProdName);\n",
    "            }\n",
    "        }\n",
    "    }"
   ]
  },
  {
   "attachments": {},
   "cell_type": "markdown",
   "metadata": {},
   "source": [
    "### B "
   ]
  },
  {
   "cell_type": "code",
   "execution_count": 2,
   "metadata": {
    "vscode": {
     "languageId": "java"
    }
   },
   "outputs": [],
   "source": [
    "public int getNumGoodReviews(String prodName) {\n",
    "    int nBestReview = 0;\n",
    "\n",
    "    for (int i = 0; i < reviewList.size(); i++) {\n",
    "        if (prodName.equals(reviewList.get(i).getName())) {\n",
    "            if (reviewList.get(i).getReview().indexOf(\"best\")!=-1) {\n",
    "                nBestReview++;\n",
    "            }\n",
    "        }\n",
    "\n",
    "    }\n",
    "    return nBestReview;\n",
    "}"
   ]
  },
  {
   "attachments": {},
   "cell_type": "markdown",
   "metadata": {},
   "source": [
    "## Question 4\n",
    "\n",
    "### A"
   ]
  },
  {
   "cell_type": "code",
   "execution_count": null,
   "metadata": {
    "vscode": {
     "languageId": "java"
    }
   },
   "outputs": [],
   "source": [
    "public Theater (int seatsPerRow, int tier1Rows, int tier2Rows) {\n",
    "    Seat[][] theaterSeats = new Seat[tier1Rows + tier2Rows][seatsPerRow];\n",
    "\n",
    "    for (int r = 0; r < theaterSeats.length; r++) {\n",
    "        for (int c = 0l c < seatsPerRow; c++) {\n",
    "            if (r < tier1Rows) {\n",
    "                theaterSeats[r][c] = new Seat(true, 1)\n",
    "            }\n",
    "            else {\n",
    "                theaterSeats[r][c] = new Seat(true, 2)\n",
    "            }\n",
    "        }\n",
    "    }\n",
    "}"
   ]
  },
  {
   "attachments": {},
   "cell_type": "markdown",
   "metadata": {},
   "source": [
    "### B"
   ]
  },
  {
   "cell_type": "code",
   "execution_count": 4,
   "metadata": {
    "vscode": {
     "languageId": "java"
    }
   },
   "outputs": [],
   "source": [
    "public boolean reassignSeat(int fromRow, int fromCol, int toRow, int toCol) {\n",
    "    if (!theaterSeats[toRow][toCol].isAvailable() || theaterSeats[toRow][toCol].getTier < theaterSeats[fromRow][fromCol]) {\n",
    "        return false;\n",
    "    }\n",
    "    theaterSeats[toRow][toCol].setAvailability(false);\n",
    "    theaterSeats[fromRow][fromCol].setAvailability(true);\n",
    "    return true;\n",
    "}"
   ]
  }
 ],
 "metadata": {
  "kernelspec": {
   "display_name": "Java",
   "language": "java",
   "name": "java"
  },
  "language_info": {
   "codemirror_mode": "java",
   "file_extension": ".jshell",
   "mimetype": "text/x-java-source",
   "name": "Java",
   "pygments_lexer": "java",
   "version": "11.0.16.1+1"
  },
  "orig_nbformat": 4
 },
 "nbformat": 4,
 "nbformat_minor": 2
}
