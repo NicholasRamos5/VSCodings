{
 "cells": [
  {
   "attachments": {},
   "cell_type": "markdown",
   "metadata": {},
   "source": [
    "# \"Half Term Code Examples\"\n",
    "\n",
    "\n",
    "- toc: true\n",
    "- branch: master\n",
    "- badges: true\n",
    "- comments: true\n",
    "- categories: [college board, java]"
   ]
  },
  {
   "attachments": {},
   "cell_type": "markdown",
   "metadata": {},
   "source": [
    "## int"
   ]
  },
  {
   "cell_type": "code",
   "execution_count": 84,
   "metadata": {
    "vscode": {
     "languageId": "java"
    }
   },
   "outputs": [
    {
     "name": "stdout",
     "output_type": "stream",
     "text": [
      "81\n"
     ]
    }
   ],
   "source": [
    "import java.util.Random;\n",
    "public class Example {\n",
    "    public static void main(String[] args) {\n",
    "        \n",
    "        int a = (int)(Math.random() * 100);\n",
    "\n",
    "      System.out.println(a);\n",
    "    }\n",
    "}\n",
    "Example.main(null);"
   ]
  },
  {
   "cell_type": "code",
   "execution_count": 52,
   "metadata": {
    "vscode": {
     "languageId": "java"
    }
   },
   "outputs": [
    {
     "name": "stdout",
     "output_type": "stream",
     "text": [
      "int values: 60 94 17\n",
      "60\n",
      "94\n",
      "17\n",
      "[60, 94, 17]\n"
     ]
    }
   ],
   "source": [
    "import java.util.Random;\n",
    "import java.util.ArrayList;\n",
    "public class Example {\n",
    "    public static void main(String[] args) {\n",
    "        \n",
    "        int a = (int)(Math.random() * 100);\n",
    "        int b = (int)(Math.random() * 100);\n",
    "        int c = (int)(Math.random() * 100);\n",
    "\n",
    "        System.out.println(\"int values: \" + a + \" \" + b + \" \" + c);\n",
    "\n",
    "      Integer d = Integer.valueOf(a);\n",
    "      Integer e = Integer.valueOf(b);\n",
    "      Integer f = Integer.valueOf(c);\n",
    "\n",
    "      ArrayList<Integer> myNumbers = new ArrayList<Integer>();\n",
    "      myNumbers.add(d);\n",
    "      myNumbers.add(e);\n",
    "      myNumbers.add(f);\n",
    "      for (int i : myNumbers) {\n",
    "        System.out.println(i);\n",
    "      }\n",
    "      System.out.println(myNumbers);\n",
    "    }\n",
    "}\n",
    "Example.main(null);"
   ]
  },
  {
   "attachments": {},
   "cell_type": "markdown",
   "metadata": {},
   "source": [
    "## double"
   ]
  },
  {
   "cell_type": "code",
   "execution_count": 83,
   "metadata": {
    "vscode": {
     "languageId": "java"
    }
   },
   "outputs": [
    {
     "name": "stdout",
     "output_type": "stream",
     "text": [
      "10.494770419381272\n",
      "10.494770419381272\n",
      "1\n",
      "0\n",
      "4\n",
      "9\n",
      "4\n"
     ]
    }
   ],
   "source": [
    "import java.util.Random;\n",
    "public class Example {\n",
    "    double a = 0.0;\n",
    "    public static void main(String[] args) {\n",
    "        double a = Math.random() * 100;\n",
    "        System.out.println(a); \n",
    "\n",
    "        String b = String.valueOf(a);\n",
    "        String z = \".\";\n",
    "        System.out.println(b);\n",
    "        for (int i = 0; i < 6; i++) {\n",
    "            if (!b.substring(i,i+1).equals(z)) {\n",
    "            System.out.println(b.substring(i,i+1));\n",
    "            }\n",
    "        }\n",
    "    }\n",
    "}\n",
    "Example.main(null);"
   ]
  },
  {
   "cell_type": "code",
   "execution_count": 60,
   "metadata": {
    "vscode": {
     "languageId": "java"
    }
   },
   "outputs": [
    {
     "name": "stdout",
     "output_type": "stream",
     "text": [
      "93.25888094467174\n",
      "75.90992286217258\n",
      "16.308528851602844\n",
      "[93.25888094467174, 75.90992286217258, 16.308528851602844]\n"
     ]
    }
   ],
   "source": [
    "import java.util.Random;\n",
    "public class Example {\n",
    "    double a = 0.0;\n",
    "    public static void main(String[] args) {\n",
    "        double a = Math.random() * 100;\n",
    "        double b = Math.random() * 100;\n",
    "        double c = Math.random() * 100;\n",
    "\n",
    "      Double d = Double.valueOf(a);\n",
    "      Double e = Double.valueOf(b);\n",
    "      Double f = Double.valueOf(c);\n",
    "\n",
    "      List<Double> myDoubles = new ArrayList<Double>();\n",
    "      myDoubles.add(d);\n",
    "      myDoubles.add(e);\n",
    "      myDoubles.add(f);\n",
    "      for (double i : myDoubles) {\n",
    "        System.out.println(i);\n",
    "      }\n",
    "      System.out.println(myDoubles);\n",
    "    }\n",
    "}\n",
    "Example.main(null);"
   ]
  },
  {
   "attachments": {},
   "cell_type": "markdown",
   "metadata": {},
   "source": [
    "## boolean"
   ]
  },
  {
   "cell_type": "code",
   "execution_count": 62,
   "metadata": {
    "vscode": {
     "languageId": "java"
    }
   },
   "outputs": [
    {
     "name": "stdout",
     "output_type": "stream",
     "text": [
      "one true\n"
     ]
    }
   ],
   "source": [
    "public class Example {\n",
    "    public static void main(String[] args) {\n",
    "        boolean x = true;\n",
    "        boolean y = false;\n",
    "\n",
    "        if (x && y) {\n",
    "            System.out.println(\"both true\");\n",
    "        }\n",
    "        else if (x || y) {\n",
    "            System.out.println(\"one true\");\n",
    "        }\n",
    "        else {\n",
    "            System.out.println(\"none true\");\n",
    "        }\n",
    "    }\n",
    "}\n",
    "Example.main(null);"
   ]
  },
  {
   "cell_type": "code",
   "execution_count": 64,
   "metadata": {
    "vscode": {
     "languageId": "java"
    }
   },
   "outputs": [
    {
     "name": "stdout",
     "output_type": "stream",
     "text": [
      "one true\n",
      "[true, false]\n"
     ]
    }
   ],
   "source": [
    "public class Example {\n",
    "    public static void main(String[] args) {\n",
    "        boolean x = true;\n",
    "        boolean y = false;\n",
    "\n",
    "        if (x && y) {\n",
    "            System.out.println(\"both true\");\n",
    "        }\n",
    "        else if (x || y) {\n",
    "            System.out.println(\"one true\");\n",
    "        }\n",
    "        else {\n",
    "            System.out.println(\"none true\");\n",
    "        }\n",
    "\n",
    "        Boolean a = Boolean.valueOf(x);\n",
    "        Boolean b = Boolean.valueOf(y);\n",
    "\n",
    "        List<Boolean> myBooleans = new ArrayList<Boolean>();   \n",
    "        myBooleans.add(a);\n",
    "        myBooleans.add(b);\n",
    "        System.out.println(myBooleans);\n",
    "    }\n",
    "}\n",
    "Example.main(null);"
   ]
  },
  {
   "attachments": {},
   "cell_type": "markdown",
   "metadata": {},
   "source": [
    "## char"
   ]
  },
  {
   "cell_type": "code",
   "execution_count": 101,
   "metadata": {
    "vscode": {
     "languageId": "java"
    }
   },
   "outputs": [
    {
     "name": "stdout",
     "output_type": "stream",
     "text": [
      "Element at index 0: A\n",
      "Element at index 1: B\n",
      "Element at index 2: C\n",
      "Element at index 3: D\n",
      "Element at index 4: E\n"
     ]
    }
   ],
   "source": [
    "public class Example {\n",
    "    public static void main(String[] args) {\n",
    "        char[] charArray = new char[5];\n",
    "        charArray[0] = 'A';\n",
    "        charArray[1] = 'B';\n",
    "        charArray[2] = 'C';\n",
    "        charArray[3] = 'D';\n",
    "        charArray[4] = 'E';\n",
    "        \n",
    "        for (int i = 0; i < 5; i++) {\n",
    "        System.out.println(\"Element at index \" + i + \": \" + charArray[i]);\n",
    "        }\n",
    "    }\n",
    "}\n",
    "\n",
    "Example.main(null);"
   ]
  },
  {
   "cell_type": "code",
   "execution_count": 67,
   "metadata": {
    "vscode": {
     "languageId": "java"
    }
   },
   "outputs": [
    {
     "name": "stdout",
     "output_type": "stream",
     "text": [
      "Element at index 0: A\n",
      "Element at index 1: B\n",
      "Element at index 2: C\n",
      "Element at index 3: D\n",
      "Element at index 4: E\n",
      "[A, B, C, D, E]\n"
     ]
    }
   ],
   "source": [
    "public class Example {\n",
    "    public static void main(String[] args) {\n",
    "        char[] charArray = new char[5];\n",
    "        charArray[0] = 'A';\n",
    "        charArray[1] = 'B';\n",
    "        charArray[2] = 'C';\n",
    "        charArray[3] = 'D';\n",
    "        charArray[4] = 'E';\n",
    "        \n",
    "        for (int i = 0; i < 5; i++) {\n",
    "        System.out.println(\"Element at index \" + i + \": \" + charArray[i]);\n",
    "        }\n",
    "\n",
    "        Character f = Character.valueOf(charArray[0]);\n",
    "        Character g = Character.valueOf(charArray[1]);\n",
    "        Character h = Character.valueOf(charArray[2]);\n",
    "        Character i = Character.valueOf(charArray[3]);\n",
    "        Character j = Character.valueOf(charArray[4]);\n",
    "\n",
    "        List<Character> myCharacters = new ArrayList<Character>();\n",
    "        myCharacters.add(f);\n",
    "        myCharacters.add(g);\n",
    "        myCharacters.add(h);\n",
    "        myCharacters.add(i);\n",
    "        myCharacters.add(j);\n",
    "\n",
    "        System.out.println(myCharacters);\n",
    "    }\n",
    "}\n",
    "\n",
    "Example.main(null);"
   ]
  }
 ],
 "metadata": {
  "kernelspec": {
   "display_name": "Java",
   "language": "java",
   "name": "java"
  },
  "language_info": {
   "codemirror_mode": "java",
   "file_extension": ".jshell",
   "mimetype": "text/x-java-source",
   "name": "Java",
   "pygments_lexer": "java",
   "version": "11.0.16.1+1"
  },
  "orig_nbformat": 4
 },
 "nbformat": 4,
 "nbformat_minor": 2
}
