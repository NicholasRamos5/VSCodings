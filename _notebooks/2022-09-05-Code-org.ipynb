{
 "cells": [
  {
   "cell_type": "markdown",
   "metadata": {},
   "source": [
    "- title: Code.org\n",
    "- toc: true\n",
    "- categories: [pbl, college board, java"
   ]
  },
  {
   "cell_type": "markdown",
   "metadata": {},
   "source": [
    "I have completed Code.org unit 1! Here I will share some of what I have learned.\n",
    "\n"
   ]
  },
  {
   "cell_type": "code",
   "execution_count": null,
   "metadata": {
    "vscode": {
     "languageId": "java"
    }
   },
   "outputs": [],
   "source": [
    "public class PainterPlus extends Painter{\n",
    "    public PainterPlus() {\n",
    "      super();\n",
    "    }\n",
    "    public void turnRight() {\n",
    "      turnLeft();\n",
    "      turnLeft();\n",
    "      turnLeft();\n",
    "    }\n",
    "    public void move(int blocks) {\n",
    "      for(int i = 0; i < blocks; i++) {\n",
    "        move();\n",
    "        paint(\"white\");\n",
    "      }\n",
    "    }\n",
    "}"
   ]
  },
  {
   "cell_type": "markdown",
   "metadata": {},
   "source": [
    "In this example, 'PainterPlus' is a subclass of the superclass 'Painter'. PainterPlus extends Painter, meaning PainterPlus inherits the characteristics of the preset class Painter. With this subclass, I can create constructors and methods to alternate the actions of the Painter. \n",
    "\n",
    "Lines 2 and 3 represent the constructor signature. Constructors are a special type of method invoked to create objects from a class. \n",
    "\n",
    "'turnRight' and 'move' represent methods, or blocks of codes that only run when called upon. \n"
   ]
  },
  {
   "cell_type": "code",
   "execution_count": null,
   "metadata": {
    "vscode": {
     "languageId": "java"
    }
   },
   "outputs": [],
   "source": [
    "public class MyNeighborhood {\n",
    "    public static void main(String[] args) {\n",
    "  \n",
    "      // Lesson 6 Level 3\n",
    "      // TO DO #1: Instantiate a PainterPlus object.\n",
    "      PainterPlus myPainterPlus = new PainterPlus();\n",
    "      \n",
    "      myPainterPlus.move(3);\n",
    "      myPainterPlus.turnRight();\n",
    "      myPainterPlus.move(2);\n",
    "      \n",
    "  \n",
    "      // Lesson 7 Level 2\n",
    "      // TO DO #1: Navigate the PainterPlus object\n",
    "      // to the traffic cone.\n",
    "      \n",
    "      \n",
    "    }\n",
    "  }"
   ]
  },
  {
   "cell_type": "markdown",
   "metadata": {},
   "source": [
    "Here, I have instantiated an object called \"myPainterPlus\", which has a behavior displayed upon by the objects. The object follows the given commands written below it. "
   ]
  }
 ],
 "metadata": {
  "kernelspec": {
   "display_name": "Java",
   "language": "java",
   "name": "java"
  },
  "language_info": {
   "codemirror_mode": "java",
   "file_extension": ".jshell",
   "mimetype": "text/x-java-source",
   "name": "Java",
   "pygments_lexer": "java",
   "version": "11.0.16.1+1"
  },
  "orig_nbformat": 4
 },
 "nbformat": 4,
 "nbformat_minor": 2
}
