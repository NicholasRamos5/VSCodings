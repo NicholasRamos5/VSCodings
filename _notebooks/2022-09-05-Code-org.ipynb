{
 "cells": [
  {
   "cell_type": "markdown",
   "metadata": {},
   "source": [
    "I have completed Code.org unit 1! Here I will share some of what I have learned.\n",
    "\n"
   ]
  },
  {
   "cell_type": "markdown",
   "metadata": {},
   "source": []
  },
  {
   "cell_type": "code",
   "execution_count": 5,
   "metadata": {
    "vscode": {
     "languageId": "java"
    }
   },
   "outputs": [],
   "source": [
    "public class MyNeighborhood {\n",
    "    public static void main(String[] args) {\n",
    "  \n",
    "      PainterPlus myPainterPlus = new PainterPlus();\n",
    "  \n",
    "      myPainterPlus.move();\n",
    "  \n",
    "      // Level 3\n",
    "      // TO DO #1: Test your takeAllPaint() method.\n",
    "      myPainterPlus.takeAllPaint();\n",
    "    \n",
    "  \n",
    "      // Level 4\n",
    "      // TO DO #1: Test your paintLine() method.\n",
    "      myPainterPlus.paintLine();\n",
    "      \n",
    "    }\n",
    "  }"
   ]
  }
 ],
 "metadata": {
  "kernelspec": {
   "display_name": "Java",
   "language": "java",
   "name": "java"
  },
  "language_info": {
   "codemirror_mode": "java",
   "file_extension": ".jshell",
   "mimetype": "text/x-java-source",
   "name": "Java",
   "pygments_lexer": "java",
   "version": "11.0.16.1+1"
  },
  "orig_nbformat": 4
 },
 "nbformat": 4,
 "nbformat_minor": 2
}
