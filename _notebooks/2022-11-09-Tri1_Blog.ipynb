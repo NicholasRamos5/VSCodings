{
 "cells": [
  {
   "cell_type": "markdown",
   "metadata": {},
   "source": [
    "# \"2014 Practice Exam MCQ\"\n",
    "\n",
    "\n",
    "- toc: true\n",
    "- branch: master\n",
    "- badges: true\n",
    "- comments: true\n",
    "- categories: [college board, java]"
   ]
  },
  {
   "cell_type": "markdown",
   "metadata": {},
   "source": [
    "## Final Score\n",
    "I scored a 33/40 on the MC college board test. I typically did better at problems involving mathematical computation, regarding loops, compound boolean expression, array list methods\n",
    "\n",
    "The questions I got wrong involved recursion, developing algorithms using arrays, arrays, and while loops.\n",
    "\n",
    "![2014 Practice Exam](images/2014PracticeExam.png)"
   ]
  },
  {
   "cell_type": "markdown",
   "metadata": {},
   "source": []
  },
  {
   "cell_type": "code",
   "execution_count": 3,
   "metadata": {},
   "outputs": [
    {
     "ename": "CompilationException",
     "evalue": "",
     "output_type": "error",
     "traceback": [
      "\u001b[1m\u001b[30m|   \u001b[1m\u001b[30mpublic int recur(\u001b[0m\u001b[1m\u001b[30m\u001b[41m\u001b[0m\u001b[1m\u001b[30m27)\u001b[0m",
      "\u001b[1m\u001b[31millegal start of type\u001b[0m",
      ""
     ]
    }
   ],
   "source": [
    "# \"\"\n",
    "\n",
    "\n",
    "- toc: true\n",
    "- branch: master\n",
    "- badges: true\n",
    "- comments: true\n",
    "- categories: [college board, java]"
   ]
  },
  {
   "cell_type": "markdown",
   "metadata": {},
   "source": [
    "\n",
    "\n",
    "we need page to be refreshing \n",
    "you can do java backend updates automatically in a loops\n",
    "or just do it in java code\n",
    "or you can use curl in a loop on the deployment machine to continually call your thing to update it \n",
    "if you're really cool, you can even do 3 different types of updates \n",
    "you can do front end, backend, devops -- this is significant!\n",
    "\n",
    "also automatic deployment \n",
    "aws does not automatically deploy (like fastpages does)"
   ]
  }
 ],
 "metadata": {
  "kernelspec": {
   "display_name": "Java",
   "language": "java",
   "name": "java"
  },
  "language_info": {
   "codemirror_mode": "java",
   "file_extension": ".jshell",
   "mimetype": "text/x-java-source",
   "name": "java",
   "pygments_lexer": "java",
   "version": "11.0.16.1+1"
  },
  "orig_nbformat": 4
 },
 "nbformat": 4,
 "nbformat_minor": 2
}
